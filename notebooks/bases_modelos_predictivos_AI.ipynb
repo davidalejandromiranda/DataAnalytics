{
 "cells": [
  {
   "attachments": {},
   "cell_type": "markdown",
   "metadata": {},
   "source": [
    "<h1 align=\"center\">Construcción de un modelo predictivo de la TRM asistido por ChatGPT</h1>\n",
    "<div align=\"right\">David A. Miranda, PhD<br>2023</div>"
   ]
  },
  {
   "attachments": {},
   "cell_type": "markdown",
   "metadata": {},
   "source": [
    "## 1. Planteamiento del problema\n",
    "\n",
    "Implemente, con la ayuda de la inteligencia artificial [ChatGPT](https://chat.openai.com/), un modelo predictivo que permita predecir el valor de la TRM. Para entrenar el modelo, use datos obtenidas del [Banco de la República de Colombia](https://www.banrep.gov.co/es/estadisticas/trm)."
   ]
  },
  {
   "attachments": {},
   "cell_type": "markdown",
   "metadata": {},
   "source": [
    "## 2. Construcción del modelo"
   ]
  },
  {
   "attachments": {},
   "cell_type": "markdown",
   "metadata": {},
   "source": [
    "### 2.1. Instrucciones básicas para la construcción de un modelo predictivo y su entrenamiento\n",
    "\n",
    "**Prompt ChatGPT**: Genera un Python Script que lea el archivo '../data/1.1.16.TCM_Serie historica_ultimos_doce meses.xlsx' ignorando las primeras siete filas y las cuatro últimas. Con los datos de fecha en la columna 'Fecha (dd/mm/aaaa)' crea tres nuevas columnas, primero, una columna llamada 'Día', con el día del mes; segundo, una columna llamada 'Mes', con el mes del año y tercero, una columna llamada 'Año', con el año. Toma como entradas los datos de las columnas 'Año', 'Mes', 'Día' y como salida la columna 'Tasa de cambio representativa del mercado (TRM)'; con estos datos, construye un modelo de inteligencia artificial que al introducir un valor numérico de Año, Mes y Día prediga la TRM. Usa el 60% de los datos para entrenar el modelo y 40% para validarlo."
   ]
  },
  {
   "cell_type": "code",
   "execution_count": 1,
   "metadata": {},
   "outputs": [
    {
     "name": "stdout",
     "output_type": "stream",
     "text": [
      "Puntuación del modelo: 0.6097859205109278\n",
      "Predicción de TRM: [4969.71279495]\n"
     ]
    },
    {
     "name": "stderr",
     "output_type": "stream",
     "text": [
      "/Users/david/opt/anaconda3/lib/python3.9/site-packages/sklearn/base.py:450: UserWarning: X does not have valid feature names, but LinearRegression was fitted with feature names\n",
      "  warnings.warn(\n"
     ]
    }
   ],
   "source": [
    "import pandas as pd\n",
    "from sklearn.model_selection import train_test_split\n",
    "from sklearn.linear_model import LinearRegression\n",
    "\n",
    "# Leer el archivo Excel\n",
    "archivo = '../data/1.1.16.TCM_Serie historica_ultimos_doce meses.xlsx'\n",
    "df = pd.read_excel(archivo, skiprows=7, skipfooter=4)\n",
    "\n",
    "# Crear columnas de 'Día', 'Mes' y 'Año' a partir de la columna 'Fecha'\n",
    "df['Día'] = df['Fecha (dd/mm/aaaa)'].dt.day\n",
    "df['Mes'] = df['Fecha (dd/mm/aaaa)'].dt.month\n",
    "df['Año'] = df['Fecha (dd/mm/aaaa)'].dt.year\n",
    "\n",
    "# Definir las columnas de entrada y salida para el modelo\n",
    "columnas_entrada = ['Año', 'Mes', 'Día']\n",
    "columna_salida = 'Tasa de cambio representativa del mercado (TRM)'\n",
    "\n",
    "# Dividir los datos en conjunto de entrenamiento y conjunto de validación\n",
    "X = df[columnas_entrada]\n",
    "y = df[columna_salida]\n",
    "X_train, X_val, y_train, y_val = train_test_split(X, y, test_size=0.4, random_state=42)\n",
    "\n",
    "# Entrenar el modelo de regresión lineal\n",
    "modelo = LinearRegression()\n",
    "modelo.fit(X_train, y_train)\n",
    "\n",
    "# Validar el modelo\n",
    "score = modelo.score(X_val, y_val)\n",
    "print(f\"Puntuación del modelo: {score}\")\n",
    "\n",
    "# Ejemplo de predicción\n",
    "ejemplo_entrada = [[2023, 5, 12]]  # Año, Mes, Día\n",
    "prediccion = modelo.predict(ejemplo_entrada)\n",
    "print(f\"Predicción de TRM: {prediccion}\")\n"
   ]
  },
  {
   "attachments": {},
   "cell_type": "markdown",
   "metadata": {},
   "source": [
    "### 2.2. Construcción de un método para predicir TRM al pasar los datos de día, mes y año\n",
    "\n",
    "**Prompt ChatGPT**: Construye un método con el cual el modelo prediga la 'Tasa de cambio representativa del mercado (TRM)' cuando se le introduzca el Año, Mes y Día."
   ]
  },
  {
   "cell_type": "code",
   "execution_count": 2,
   "metadata": {},
   "outputs": [],
   "source": [
    "import pandas as pd\n",
    "from sklearn.model_selection import train_test_split\n",
    "from sklearn.linear_model import LinearRegression\n",
    "\n",
    "class TRMPredictor:\n",
    "    def __init__(self, data_file):\n",
    "        # Leer el archivo Excel\n",
    "        self.df = pd.read_excel(data_file, skiprows=7, skipfooter=4)\n",
    "\n",
    "        # Crear columnas de 'Día', 'Mes' y 'Año' a partir de la columna 'Fecha'\n",
    "        self.df['Día'] = self.df['Fecha (dd/mm/aaaa)'].dt.day\n",
    "        self.df['Mes'] = self.df['Fecha (dd/mm/aaaa)'].dt.month\n",
    "        self.df['Año'] = self.df['Fecha (dd/mm/aaaa)'].dt.year\n",
    "\n",
    "        # Definir las columnas de entrada y salida para el modelo\n",
    "        self.columnas_entrada = ['Año', 'Mes', 'Día']\n",
    "        self.columna_salida = 'Tasa de cambio representativa del mercado (TRM)'\n",
    "\n",
    "        # Dividir los datos en conjunto de entrenamiento y conjunto de validación\n",
    "        X = self.df[self.columnas_entrada]\n",
    "        y = self.df[self.columna_salida]\n",
    "        self.X_train, self.X_val, self.y_train, self.y_val = train_test_split(X, y, test_size=0.4, random_state=42)\n",
    "\n",
    "        # Entrenar el modelo de regresión lineal\n",
    "        self.modelo = LinearRegression()\n",
    "        self.modelo.fit(self.X_train, self.y_train)\n",
    "\n",
    "    def predecir_TRM(self, año, mes, día):\n",
    "        ejemplo_entrada = [[año, mes, día]]\n",
    "        prediccion = self.modelo.predict(ejemplo_entrada)\n",
    "        return prediccion[0]"
   ]
  },
  {
   "cell_type": "code",
   "execution_count": 3,
   "metadata": {},
   "outputs": [
    {
     "name": "stdout",
     "output_type": "stream",
     "text": [
      "Predicción de TRM: 4025.146479162853\n"
     ]
    },
    {
     "name": "stderr",
     "output_type": "stream",
     "text": [
      "/Users/david/opt/anaconda3/lib/python3.9/site-packages/sklearn/base.py:450: UserWarning: X does not have valid feature names, but LinearRegression was fitted with feature names\n",
      "  warnings.warn(\n"
     ]
    }
   ],
   "source": [
    "data_file = '../data/1.1.16.TCM_Serie historica_ultimos_doce meses.xlsx'\n",
    "predictor = TRMPredictor(data_file)\n",
    "\n",
    "año = 2022\n",
    "mes = 5\n",
    "día = 12\n",
    "\n",
    "prediccion_TRM = predictor.predecir_TRM(año, mes, día)\n",
    "print(f\"Predicción de TRM: {prediccion_TRM}\")"
   ]
  },
  {
   "attachments": {},
   "cell_type": "markdown",
   "metadata": {},
   "source": [
    "### 2.3. Construcción de un método que busque en los datos de entrenamiento la TRM de un cierto día, mes y año\n",
    "\n",
    "**Prompt ChatGPT**: Construye un método que devuelva la 'Tasa de cambio representativa del mercado (TRM)' del DataFrame de datos importados cuando se le introduzca el Año, Mes y Día."
   ]
  },
  {
   "cell_type": "code",
   "execution_count": 4,
   "metadata": {},
   "outputs": [],
   "source": [
    "import pandas as pd\n",
    "\n",
    "class TRMDataReader:\n",
    "    def __init__(self, data_file):\n",
    "        # Leer el archivo Excel\n",
    "        self.df = pd.read_excel(data_file, skiprows=7, skipfooter=4)\n",
    "\n",
    "        # Crear columnas de 'Día', 'Mes' y 'Año' a partir de la columna 'Fecha'\n",
    "        self.df['Día'] = self.df['Fecha (dd/mm/aaaa)'].dt.day\n",
    "        self.df['Mes'] = self.df['Fecha (dd/mm/aaaa)'].dt.month\n",
    "        self.df['Año'] = self.df['Fecha (dd/mm/aaaa)'].dt.year\n",
    "\n",
    "        # Definir la columna de salida ('Tasa de cambio representativa del mercado (TRM)')\n",
    "        self.columna_salida = 'Tasa de cambio representativa del mercado (TRM)'\n",
    "\n",
    "    def obtener_TRM(self, año, mes, día):\n",
    "        filtro = (self.df['Año'] == año) & (self.df['Mes'] == mes) & (self.df['Día'] == día)\n",
    "        trm = self.df.loc[filtro, self.columna_salida].values\n",
    "        if len(trm) > 0:\n",
    "            return trm[0]\n",
    "        else:\n",
    "            return None"
   ]
  },
  {
   "cell_type": "code",
   "execution_count": 5,
   "metadata": {},
   "outputs": [
    {
     "name": "stdout",
     "output_type": "stream",
     "text": [
      "Tasa de cambio representativa del mercado (TRM): 4080.32\n"
     ]
    }
   ],
   "source": [
    "data_file = '../data/1.1.16.TCM_Serie historica_ultimos_doce meses.xlsx'\n",
    "reader = TRMDataReader(data_file)\n",
    "\n",
    "año = 2022\n",
    "mes = 5\n",
    "día = 12\n",
    "\n",
    "trm = reader.obtener_TRM(año, mes, día)\n",
    "if trm is not None:\n",
    "    print(f\"Tasa de cambio representativa del mercado (TRM): {trm}\")\n",
    "else:\n",
    "    print(\"No se encontró la TRM para la fecha especificada.\")"
   ]
  },
  {
   "attachments": {},
   "cell_type": "markdown",
   "metadata": {},
   "source": [
    "### 2.4. Mejorar el entrenamiento del modelo para reproducir mejor los datos de entrada y salida usados en el entrenamiento\n",
    "\n",
    "**Prompot ChatGPT**: Por favor, mejora el modelo para que se aproxime más a los datos de entrada y vuelve a generar el método para obtener la 'Tasa de cambio representativa del mercado (TRM)'  cuando se le introduzca el Año, Mes y Día."
   ]
  },
  {
   "cell_type": "code",
   "execution_count": 6,
   "metadata": {},
   "outputs": [],
   "source": [
    "import pandas as pd\n",
    "from sklearn.model_selection import train_test_split\n",
    "from sklearn.ensemble import RandomForestRegressor\n",
    "from sklearn.preprocessing import MinMaxScaler\n",
    "\n",
    "class TRMPredictor:\n",
    "    def __init__(self, data_file):\n",
    "        # Leer el archivo Excel\n",
    "        self.df = pd.read_excel(data_file, skiprows=7, skipfooter=4)\n",
    "\n",
    "        # Crear columnas de 'Día', 'Mes' y 'Año' a partir de la columna 'Fecha'\n",
    "        self.df['Día'] = self.df['Fecha (dd/mm/aaaa)'].dt.day\n",
    "        self.df['Mes'] = self.df['Fecha (dd/mm/aaaa)'].dt.month\n",
    "        self.df['Año'] = self.df['Fecha (dd/mm/aaaa)'].dt.year\n",
    "\n",
    "        # Definir las columnas de entrada y salida para el modelo\n",
    "        self.columnas_entrada = ['Año', 'Mes', 'Día']\n",
    "        self.columna_salida = 'Tasa de cambio representativa del mercado (TRM)'\n",
    "\n",
    "        # Dividir los datos en conjunto de entrenamiento y conjunto de validación\n",
    "        X = self.df[self.columnas_entrada]\n",
    "        y = self.df[self.columna_salida]\n",
    "        self.X_train, self.X_val, self.y_train, self.y_val = train_test_split(X, y, test_size=0.6, random_state=42)\n",
    "\n",
    "        # Normalizar los datos de entrada\n",
    "        self.scaler = MinMaxScaler()\n",
    "        self.X_train_scaled = self.scaler.fit_transform(self.X_train)\n",
    "        self.X_val_scaled = self.scaler.transform(self.X_val)\n",
    "\n",
    "        # Entrenar el modelo de Random Forest Regressor\n",
    "        self.modelo = RandomForestRegressor(n_estimators=100, random_state=42)\n",
    "        self.modelo.fit(self.X_train_scaled, self.y_train)\n",
    "\n",
    "    def predecir_TRM(self, año, mes, día):\n",
    "        ejemplo_entrada = [[año, mes, día]]\n",
    "        ejemplo_entrada_scaled = self.scaler.transform(ejemplo_entrada)\n",
    "        prediccion = self.modelo.predict(ejemplo_entrada_scaled)\n",
    "        return prediccion[0]"
   ]
  },
  {
   "cell_type": "code",
   "execution_count": 7,
   "metadata": {},
   "outputs": [
    {
     "name": "stdout",
     "output_type": "stream",
     "text": [
      "Predicción de TRM: 4061.0842000000052\n"
     ]
    },
    {
     "name": "stderr",
     "output_type": "stream",
     "text": [
      "/Users/david/opt/anaconda3/lib/python3.9/site-packages/sklearn/base.py:450: UserWarning: X does not have valid feature names, but MinMaxScaler was fitted with feature names\n",
      "  warnings.warn(\n"
     ]
    }
   ],
   "source": [
    "data_file = '../data/1.1.16.TCM_Serie historica_ultimos_doce meses.xlsx'\n",
    "predictor = TRMPredictor(data_file)\n",
    "\n",
    "año = 2022\n",
    "mes = 5\n",
    "día = 12\n",
    "\n",
    "prediccion_TRM = predictor.predecir_TRM(año, mes, día)\n",
    "print(f\"Predicción de TRM: {prediccion_TRM}\")"
   ]
  },
  {
   "attachments": {},
   "cell_type": "markdown",
   "metadata": {},
   "source": [
    "### 2.5. Generación de un modelo basado en inteligencia artificial\n",
    "\n",
    "**Prompt ChatGPT**: Genera un modelo basado en inteligencia artificial en el que uses sklearn y construye un método para obtener la 'Tasa de cambio representativa del mercado (TRM)'  cuando se le introduzca el Año, Mes y Día."
   ]
  },
  {
   "cell_type": "code",
   "execution_count": 8,
   "metadata": {},
   "outputs": [
    {
     "name": "stdout",
     "output_type": "stream",
     "text": [
      "Predicción de TRM: 4061.0842000000052\n"
     ]
    },
    {
     "name": "stderr",
     "output_type": "stream",
     "text": [
      "/Users/david/opt/anaconda3/lib/python3.9/site-packages/sklearn/base.py:450: UserWarning: X does not have valid feature names, but MinMaxScaler was fitted with feature names\n",
      "  warnings.warn(\n"
     ]
    }
   ],
   "source": [
    "import pandas as pd\n",
    "from sklearn.model_selection import train_test_split\n",
    "from sklearn.ensemble import RandomForestRegressor\n",
    "from sklearn.preprocessing import MinMaxScaler\n",
    "\n",
    "class TRMPredictor:\n",
    "    def __init__(self, data_file):\n",
    "        # Leer el archivo Excel\n",
    "        self.df = pd.read_excel(data_file, skiprows=7, skipfooter=4)\n",
    "\n",
    "        # Crear columnas de 'Día', 'Mes' y 'Año' a partir de la columna 'Fecha'\n",
    "        self.df['Día'] = self.df['Fecha (dd/mm/aaaa)'].dt.day\n",
    "        self.df['Mes'] = self.df['Fecha (dd/mm/aaaa)'].dt.month\n",
    "        self.df['Año'] = self.df['Fecha (dd/mm/aaaa)'].dt.year\n",
    "\n",
    "        # Definir las columnas de entrada y salida para el modelo\n",
    "        self.columnas_entrada = ['Año', 'Mes', 'Día']\n",
    "        self.columna_salida = 'Tasa de cambio representativa del mercado (TRM)'\n",
    "\n",
    "        # Dividir los datos en conjunto de entrenamiento y conjunto de validación\n",
    "        X = self.df[self.columnas_entrada]\n",
    "        y = self.df[self.columna_salida]\n",
    "        self.X_train, self.X_val, self.y_train, self.y_val = train_test_split(X, y, test_size=0.6, random_state=42)\n",
    "\n",
    "        # Normalizar los datos de entrada\n",
    "        self.scaler = MinMaxScaler()\n",
    "        self.X_train_scaled = self.scaler.fit_transform(self.X_train)\n",
    "        self.X_val_scaled = self.scaler.transform(self.X_val)\n",
    "\n",
    "        # Construir el modelo de Random Forest Regressor\n",
    "        self.modelo = RandomForestRegressor(n_estimators=100, random_state=42)\n",
    "        self.modelo.fit(self.X_train_scaled, self.y_train)\n",
    "\n",
    "    def predecir_TRM(self, año, mes, día):\n",
    "        ejemplo_entrada = [[año, mes, día]]\n",
    "        ejemplo_entrada_scaled = self.scaler.transform(ejemplo_entrada)\n",
    "        prediccion = self.modelo.predict(ejemplo_entrada_scaled)\n",
    "        return prediccion[0]\n",
    "\n",
    "# Uso del TRMPredictor\n",
    "data_file = '../data/1.1.16.TCM_Serie historica_ultimos_doce meses.xlsx'\n",
    "predictor = TRMPredictor(data_file)\n",
    "\n",
    "año = 2022\n",
    "mes = 5\n",
    "día = 12\n",
    "\n",
    "prediccion_TRM = predictor.predecir_TRM(año, mes, día)\n",
    "print(f\"Predicción de TRM: {prediccion_TRM}\")"
   ]
  },
  {
   "cell_type": "code",
   "execution_count": 9,
   "metadata": {},
   "outputs": [
    {
     "name": "stdout",
     "output_type": "stream",
     "text": [
      "Predicción de TRM: 4792.444300000004\n"
     ]
    },
    {
     "name": "stderr",
     "output_type": "stream",
     "text": [
      "/Users/david/opt/anaconda3/lib/python3.9/site-packages/sklearn/base.py:450: UserWarning: X does not have valid feature names, but MinMaxScaler was fitted with feature names\n",
      "  warnings.warn(\n"
     ]
    }
   ],
   "source": [
    "año = 2022\n",
    "mes = 12\n",
    "día = 31\n",
    "\n",
    "prediccion_TRM = predictor.predecir_TRM(año, mes, día)\n",
    "print(f\"Predicción de TRM: {prediccion_TRM}\")"
   ]
  },
  {
   "attachments": {},
   "cell_type": "markdown",
   "metadata": {},
   "source": [
    "End!"
   ]
  }
 ],
 "metadata": {
  "kernelspec": {
   "display_name": "base",
   "language": "python",
   "name": "python3"
  },
  "language_info": {
   "codemirror_mode": {
    "name": "ipython",
    "version": 3
   },
   "file_extension": ".py",
   "mimetype": "text/x-python",
   "name": "python",
   "nbconvert_exporter": "python",
   "pygments_lexer": "ipython3",
   "version": "3.9.12"
  },
  "orig_nbformat": 4
 },
 "nbformat": 4,
 "nbformat_minor": 2
}
