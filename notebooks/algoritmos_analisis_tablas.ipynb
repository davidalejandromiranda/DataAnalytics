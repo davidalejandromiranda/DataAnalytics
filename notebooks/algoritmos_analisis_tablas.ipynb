{
 "cells": [
  {
   "attachments": {},
   "cell_type": "markdown",
   "metadata": {},
   "source": [
    "<h1 align=\"center\">Ejemplos de algoritmos para analizar tablas con datos</h1>\n",
    "<div align=\"right\">David A. Miranda, PhD<br>2023</div>"
   ]
  },
  {
   "attachments": {},
   "cell_type": "markdown",
   "metadata": {},
   "source": [
    "## 1. Planteamiento del problema\n",
    "\n",
    "Implemente, con la ayuda de la inteligencia artificial [ChatGPT](https://chat.openai.com/), los Python Script con algoritmos para procesar datos de TRM obtenidas del [Banco de la República de Colombia](https://www.banrep.gov.co/es/estadisticas/trm)."
   ]
  },
  {
   "attachments": {},
   "cell_type": "markdown",
   "metadata": {},
   "source": [
    "## 2. Cargar archivo de datos y obtener gráficas"
   ]
  },
  {
   "attachments": {},
   "cell_type": "markdown",
   "metadata": {},
   "source": [
    "### 2.1. Cargar datos y mostrar tabla\n",
    "\n",
    "**Prompt ChatGPT**: \n",
    "Genere un Python Script que lea el archivo '../data/1.1.16.TCM_Serie historica_ultimos_doce meses.xlsx' ignorando las primeras siete filas y las cuatro últimas. Muestre la tabla importanda con Pandas."
   ]
  },
  {
   "cell_type": "code",
   "execution_count": 1,
   "metadata": {},
   "outputs": [
    {
     "name": "stdout",
     "output_type": "stream",
     "text": [
      "    Fecha (dd/mm/aaaa)  Tasa de cambio representativa del mercado (TRM)\n",
      "0           2023-05-08                                          4552.56\n",
      "1           2023-05-07                                          4552.56\n",
      "2           2023-05-06                                          4552.56\n",
      "3           2023-05-05                                          4616.58\n",
      "4           2023-05-04                                          4667.09\n",
      "..                 ...                                              ...\n",
      "361         2022-05-12                                          4080.32\n",
      "362         2022-05-11                                          4086.71\n",
      "363         2022-05-10                                          4085.76\n",
      "364         2022-05-09                                          4053.93\n",
      "365         2022-05-08                                          4053.93\n",
      "\n",
      "[366 rows x 2 columns]\n"
     ]
    }
   ],
   "source": [
    "import pandas as pd\n",
    "\n",
    "# Ruta del archivo Excel\n",
    "archivo_excel = '../data/1.1.16.TCM_Serie historica_ultimos_doce meses.xlsx'\n",
    "\n",
    "# Lee el archivo Excel y omite las primeras siete filas y las cuatro últimas\n",
    "df = pd.read_excel(archivo_excel, skiprows=7, skipfooter=4)\n",
    "\n",
    "# Muestra la tabla importada\n",
    "print(df)"
   ]
  },
  {
   "attachments": {},
   "cell_type": "markdown",
   "metadata": {},
   "source": [
    "### 2.2. Grafica con los datos\n",
    "\n",
    "**Prompt ChatGPT**: Ahora, grafique los datos de la tabla colocando en el eje x la columna 'Fecha (dd/mm/aaaa)', en el eje y la columna 'Tasa de cambio representativa del mercado (TRM)'."
   ]
  },
  {
   "cell_type": "code",
   "execution_count": 2,
   "metadata": {},
   "outputs": [
    {
     "data": {
      "image/png": "[encoded data removed]",
      "text/plain": [
       "<Figure size 432x288 with 1 Axes>"
      ]
     },
     "metadata": {
      "needs_background": "light"
     },
     "output_type": "display_data"
    }
   ],
   "source": [
    "import pandas as pd\n",
    "import matplotlib.pyplot as plt\n",
    "\n",
    "# Ruta del archivo Excel\n",
    "archivo_excel = '../data/1.1.16.TCM_Serie historica_ultimos_doce meses.xlsx'\n",
    "\n",
    "# Lee el archivo Excel y omite las primeras siete filas y las cuatro últimas\n",
    "df = pd.read_excel(archivo_excel, skiprows=7, skipfooter=4)\n",
    "\n",
    "# Gráfico de línea\n",
    "plt.plot(df['Fecha (dd/mm/aaaa)'], df['Tasa de cambio representativa del mercado (TRM)'])\n",
    "\n",
    "# Títulos y etiquetas de los ejes\n",
    "plt.title('Tasa de cambio representativa del mercado (TRM)')\n",
    "plt.xlabel('Fecha')\n",
    "plt.ylabel('TRM')\n",
    "\n",
    "# Rota las etiquetas del eje x para mayor legibilidad\n",
    "plt.xticks(rotation=45)\n",
    "\n",
    "# Muestra el gráfico\n",
    "plt.show()\n"
   ]
  },
  {
   "attachments": {},
   "cell_type": "markdown",
   "metadata": {},
   "source": [
    "### 2.3. Gráfica con la librería Plotly\n",
    "\n",
    "**Prompt ChatGPT**: Por favor, repite la gráfica con la librería Plotly"
   ]
  },
  {
   "cell_type": "code",
   "execution_count": 3,
   "metadata": {},
   "outputs": [
    {
     "data": {
      "application/vnd.plotly.v1+json": {
       "config": {
        "plotlyServerURL": "https://plot.ly"
       },
       "data": [
        {
         "mode": "lines",
         "type": "scatter",
         "x": [
          "2023-05-08T00:00:00",
          "2023-05-07T00:00:00",
          "2023-05-06T00:00:00",
          "2023-05-05T00:00:00",
          "2023-05-04T00:00:00",
          "2023-05-03T00:00:00",
          "2023-05-02T00:00:00",
          "2023-05-01T00:00:00",
          "2023-04-30T00:00:00",
          "2023-04-29T00:00:00",
          "2023-04-28T00:00:00",
          "2023-04-27T00:00:00",
          "2023-04-26T00:00:00",
          "2023-04-25T00:00:00",
          "2023-04-24T00:00:00",
          "2023-04-23T00:00:00",
          "2023-04-22T00:00:00",
          "2023-04-21T00:00:00",
          "2023-04-20T00:00:00",
          "2023-04-19T00:00:00",
          "2023-04-18T00:00:00",
          "2023-04-17T00:00:00",
          "2023-04-16T00:00:00",
          "2023-04-15T00:00:00",
          "2023-04-14T00:00:00",
          "2023-04-13T00:00:00",
          "2023-04-12T00:00:00",
          "2023-04-11T00:00:00",
          "2023-04-10T00:00:00",
          "2023-04-09T00:00:00",
          "2023-04-08T00:00:00",
          "2023-04-07T00:00:00",
          "2023-04-06T00:00:00",
          "2023-04-05T00:00:00",
          "2023-04-04T00:00:00",
          "2023-04-03T00:00:00",
          "2023-04-02T00:00:00",
          "2023-04-01T00:00:00",
          "2023-03-31T00:00:00",
          "2023-03-30T00:00:00",
          "2023-03-29T00:00:00",
          "2023-03-28T00:00:00",
          "2023-03-27T00:00:00",
          "2023-03-26T00:00:00",
          "2023-03-25T00:00:00",
          "2023-03-24T00:00:00",
          "2023-03-23T00:00:00",
          "2023-03-22T00:00:00",
          "2023-03-21T00:00:00",
          "2023-03-20T00:00:00",
          "2023-03-19T00:00:00",
          "2023-03-18T00:00:00",
          "2023-03-17T00:00:00",
          "2023-03-16T00:00:00",
          "2023-03-15T00:00:00",
          "2023-03-14T00:00:00",
          "2023-03-13T00:00:00",
          "2023-03-12T00:00:00",
          "2023-03-11T00:00:00",
          "2023-03-10T00:00:00",
          "2023-03-09T00:00:00",
          "2023-03-08T00:00:00",
          "2023-03-07T00:00:00",
          "2023-03-06T00:00:00",
          "2023-03-05T00:00:00",
          "2023-03-04T00:00:00",
          "2023-03-03T00:00:00",
          "2023-03-02T00:00:00",
          "2023-03-01T00:00:00",
          "2023-02-28T00:00:00",
          "2023-02-27T00:00:00",
          "2023-02-26T00:00:00",
          "2023-02-25T00:00:00",
          "2023-02-24T00:00:00",
          "2023-02-23T00:00:00",
          "2023-02-22T00:00:00",
          "2023-02-21T00:00:00",
          "2023-02-20T00:00:00",
          "2023-02-19T00:00:00",
          "2023-02-18T00:00:00",
          "2023-02-17T00:00:00",
          "2023-02-16T00:00:00",
          "2023-02-15T00:00:00",
          "2023-02-14T00:00:00",
          "2023-02-13T00:00:00",
          "2023-02-12T00:00:00",
          "2023-02-11T00:00:00",
          "2023-02-10T00:00:00",
          "2023-02-09T00:00:00",
          "2023-02-08T00:00:00",
          "2023-02-07T00:00:00",
          "2023-02-06T00:00:00",
          "2023-02-05T00:00:00",
          "2023-02-04T00:00:00",
          "2023-02-03T00:00:00",
          "2023-02-02T00:00:00",
          "2023-02-01T00:00:00",
          "2023-01-31T00:00:00",
          "2023-01-30T00:00:00",
          "2023-01-29T00:00:00",
          "2023-01-28T00:00:00",
          "2023-01-27T00:00:00",
          "2023-01-26T00:00:00",
          "2023-01-25T00:00:00",
          "2023-01-24T00:00:00",
          "2023-01-23T00:00:00",
          "2023-01-22T00:00:00",
          "2023-01-21T00:00:00",
          "2023-01-20T00:00:00",
          "2023-01-19T00:00:00",
          "2023-01-18T00:00:00",
          "2023-01-17T00:00:00",
          "2023-01-16T00:00:00",
          "2023-01-15T00:00:00",
          "2023-01-14T00:00:00",
          "2023-01-13T00:00:00",
          "2023-01-12T00:00:00",
          "2023-01-11T00:00:00",
          "2023-01-10T00:00:00",
          "2023-01-09T00:00:00",
          "2023-01-08T00:00:00",
          "2023-01-07T00:00:00",
          "2023-01-06T00:00:00",
          "2023-01-05T00:00:00",
          "2023-01-04T00:00:00",
          "2023-01-03T00:00:00",
          "2023-01-02T00:00:00",
          "2023-01-01T00:00:00",
          "2022-12-31T00:00:00",
          "2022-12-30T00:00:00",
          "2022-12-29T00:00:00",
          "2022-12-28T00:00:00",
          "2022-12-27T00:00:00",
          "2022-12-26T00:00:00",
          "2022-12-25T00:00:00",
          "2022-12-24T00:00:00",
          "2022-12-23T00:00:00",
          "2022-12-22T00:00:00",
          "2022-12-21T00:00:00",
          "2022-12-20T00:00:00",
          "2022-12-19T00:00:00",
          "2022-12-18T00:00:00",
          "2022-12-17T00:00:00",
          "2022-12-16T00:00:00",
          "2022-12-15T00:00:00",
          "2022-12-14T00:00:00",
          "2022-12-13T00:00:00",
          "2022-12-12T00:00:00",
          "2022-12-11T00:00:00",
          "2022-12-10T00:00:00",
          "2022-12-09T00:00:00",
          "2022-12-08T00:00:00",
          "2022-12-07T00:00:00",
          "2022-12-06T00:00:00",
          "2022-12-05T00:00:00",
          "2022-12-04T00:00:00",
          "2022-12-03T00:00:00",
          "2022-12-02T00:00:00",
          "2022-12-01T00:00:00",
          "2022-11-30T00:00:00",
          "2022-11-29T00:00:00",
          "2022-11-28T00:00:00",
          "2022-11-27T00:00:00",
          "2022-11-26T00:00:00",
          "2022-11-25T00:00:00",
          "2022-11-24T00:00:00",
          "2022-11-23T00:00:00",
          "2022-11-22T00:00:00",
          "2022-11-21T00:00:00",
          "2022-11-20T00:00:00",
          "2022-11-19T00:00:00",
          "2022-11-18T00:00:00",
          "2022-11-17T00:00:00",
          "2022-11-16T00:00:00",
          "2022-11-15T00:00:00",
          "2022-11-14T00:00:00",
          "2022-11-13T00:00:00",
          "2022-11-12T00:00:00",
          "2022-11-11T00:00:00",
          "2022-11-10T00:00:00",
          "2022-11-09T00:00:00",
          "2022-11-08T00:00:00",
          "2022-11-07T00:00:00",
          "2022-11-06T00:00:00",
          "2022-11-05T00:00:00",
          "2022-11-04T00:00:00",
          "2022-11-03T00:00:00",
          "2022-11-02T00:00:00",
          "2022-11-01T00:00:00",
          "2022-10-31T00:00:00",
          "2022-10-30T00:00:00",
          "2022-10-29T00:00:00",
          "2022-10-28T00:00:00",
          "2022-10-27T00:00:00",
          "2022-10-26T00:00:00",
          "2022-10-25T00:00:00",
          "2022-10-24T00:00:00",
          "2022-10-23T00:00:00",
          "2022-10-22T00:00:00",
          "2022-10-21T00:00:00",
          "2022-10-20T00:00:00",
          "2022-10-19T00:00:00",
          "2022-10-18T00:00:00",
          "2022-10-17T00:00:00",
          "2022-10-16T00:00:00",
          "2022-10-15T00:00:00",
          "2022-10-14T00:00:00",
          "2022-10-13T00:00:00",
          "2022-10-12T00:00:00",
          "2022-10-11T00:00:00",
          "2022-10-10T00:00:00",
          "2022-10-09T00:00:00",
          "2022-10-08T00:00:00",
          "2022-10-07T00:00:00",
          "2022-10-06T00:00:00",
          "2022-10-05T00:00:00",
          "2022-10-04T00:00:00",
          "2022-10-03T00:00:00",
          "2022-10-02T00:00:00",
          "2022-10-01T00:00:00",
          "2022-09-30T00:00:00",
          "2022-09-29T00:00:00",
          "2022-09-28T00:00:00",
          "2022-09-27T00:00:00",
          "2022-09-26T00:00:00",
          "2022-09-25T00:00:00",
          "2022-09-24T00:00:00",
          "2022-09-23T00:00:00",
          "2022-09-22T00:00:00",
          "2022-09-21T00:00:00",
          "2022-09-20T00:00:00",
          "2022-09-19T00:00:00",
          "2022-09-18T00:00:00",
          "2022-09-17T00:00:00",
          "2022-09-16T00:00:00",
          "2022-09-15T00:00:00",
          "2022-09-14T00:00:00",
          "2022-09-13T00:00:00",
          "2022-09-12T00:00:00",
          "2022-09-11T00:00:00",
          "2022-09-10T00:00:00",
          "2022-09-09T00:00:00",
          "2022-09-08T00:00:00",
          "2022-09-07T00:00:00",
          "2022-09-06T00:00:00",
          "2022-09-05T00:00:00",
          "2022-09-04T00:00:00",
          "2022-09-03T00:00:00",
          "2022-09-02T00:00:00",
          "2022-09-01T00:00:00",
          "2022-08-31T00:00:00",
          "2022-08-30T00:00:00",
          "2022-08-29T00:00:00",
          "2022-08-28T00:00:00",
          "2022-08-27T00:00:00",
          "2022-08-26T00:00:00",
          "2022-08-25T00:00:00",
          "2022-08-24T00:00:00",
          "2022-08-23T00:00:00",
          "2022-08-22T00:00:00",
          "2022-08-21T00:00:00",
          "2022-08-20T00:00:00",
          "2022-08-19T00:00:00",
          "2022-08-18T00:00:00",
          "2022-08-17T00:00:00",
          "2022-08-16T00:00:00",
          "2022-08-15T00:00:00",
          "2022-08-14T00:00:00",
          "2022-08-13T00:00:00",
          "2022-08-12T00:00:00",
          "2022-08-11T00:00:00",
          "2022-08-10T00:00:00",
          "2022-08-09T00:00:00",
          "2022-08-08T00:00:00",
          "2022-08-07T00:00:00",
          "2022-08-06T00:00:00",
          "2022-08-05T00:00:00",
          "2022-08-04T00:00:00",
          "2022-08-03T00:00:00",
          "2022-08-02T00:00:00",
          "2022-08-01T00:00:00",
          "2022-07-31T00:00:00",
          "2022-07-30T00:00:00",
          "2022-07-29T00:00:00",
          "2022-07-28T00:00:00",
          "2022-07-27T00:00:00",
          "2022-07-26T00:00:00",
          "2022-07-25T00:00:00",
          "2022-07-24T00:00:00",
          "2022-07-23T00:00:00",
          "2022-07-22T00:00:00",
          "2022-07-21T00:00:00",
          "2022-07-20T00:00:00",
          "2022-07-19T00:00:00",
          "2022-07-18T00:00:00",
          "2022-07-17T00:00:00",
          "2022-07-16T00:00:00",
          "2022-07-15T00:00:00",
          "2022-07-14T00:00:00",
          "2022-07-13T00:00:00",
          "2022-07-12T00:00:00",
          "2022-07-11T00:00:00",
          "2022-07-10T00:00:00",
          "2022-07-09T00:00:00",
          "2022-07-08T00:00:00",
          "2022-07-07T00:00:00",
          "2022-07-06T00:00:00",
          "2022-07-05T00:00:00",
          "2022-07-04T00:00:00",
          "2022-07-03T00:00:00",
          "2022-07-02T00:00:00",
          "2022-07-01T00:00:00",
          "2022-06-30T00:00:00",
          "2022-06-29T00:00:00",
          "2022-06-28T00:00:00",
          "2022-06-27T00:00:00",
          "2022-06-26T00:00:00",
          "2022-06-25T00:00:00",
          "2022-06-24T00:00:00",
          "2022-06-23T00:00:00",
          "2022-06-22T00:00:00",
          "2022-06-21T00:00:00",
          "2022-06-20T00:00:00",
          "2022-06-19T00:00:00",
          "2022-06-18T00:00:00",
          "2022-06-17T00:00:00",
          "2022-06-16T00:00:00",
          "2022-06-15T00:00:00",
          "2022-06-14T00:00:00",
          "2022-06-13T00:00:00",
          "2022-06-12T00:00:00",
          "2022-06-11T00:00:00",
          "2022-06-10T00:00:00",
          "2022-06-09T00:00:00",
          "2022-06-08T00:00:00",
          "2022-06-07T00:00:00",
          "2022-06-06T00:00:00",
          "2022-06-05T00:00:00",
          "2022-06-04T00:00:00",
          "2022-06-03T00:00:00",
          "2022-06-02T00:00:00",
          "2022-06-01T00:00:00",
          "2022-05-31T00:00:00",
          "2022-05-30T00:00:00",
          "2022-05-29T00:00:00",
          "2022-05-28T00:00:00",
          "2022-05-27T00:00:00",
          "2022-05-26T00:00:00",
          "2022-05-25T00:00:00",
          "2022-05-24T00:00:00",
          "2022-05-23T00:00:00",
          "2022-05-22T00:00:00",
          "2022-05-21T00:00:00",
          "2022-05-20T00:00:00",
          "2022-05-19T00:00:00",
          "2022-05-18T00:00:00",
          "2022-05-17T00:00:00",
          "2022-05-16T00:00:00",
          "2022-05-15T00:00:00",
          "2022-05-14T00:00:00",
          "2022-05-13T00:00:00",
          "2022-05-12T00:00:00",
          "2022-05-11T00:00:00",
          "2022-05-10T00:00:00",
          "2022-05-09T00:00:00",
          "2022-05-08T00:00:00"
         ],
         "y": [
          4552.56,
          4552.56,
          4552.56,
          4616.58,
          4667.09,
          4713.08,
          4669,
          4669,
          4669,
          4669,
          4654.14,
          4552.59,
          4486.6,
          4482.45,
          4523.64,
          4523.64,
          4523.64,
          4535.78,
          4532.43,
          4473.07,
          4431.45,
          4425.27,
          4425.27,
          4425.27,
          4424.02,
          4458.87,
          4516.76,
          4564.24,
          4570.91,
          4570.91,
          4570.91,
          4570.91,
          4570.91,
          4587.31,
          4603,
          4646.08,
          4646.08,
          4646.08,
          4627.27,
          4627.63,
          4658.79,
          4686.83,
          4741.76,
          4741.76,
          4741.76,
          4755.12,
          4776.09,
          4804.29,
          4824.25,
          4824.25,
          4824.25,
          4824.25,
          4866.5,
          4835.51,
          4736.03,
          4769.76,
          4748.14,
          4748.14,
          4748.14,
          4748.61,
          4755.59,
          4744.95,
          4734.42,
          4780.89,
          4780.89,
          4780.89,
          4855.83,
          4848.78,
          4814.11,
          4808.14,
          4849.65,
          4849.65,
          4849.65,
          4853.9,
          4924.91,
          4950.33,
          4918.94,
          4918.94,
          4918.94,
          4918.94,
          4966.33,
          4878.24,
          4783.24,
          4818.62,
          4777.73,
          4777.73,
          4777.73,
          4742.05,
          4769.85,
          4775.99,
          4776.25,
          4669.74,
          4669.74,
          4669.74,
          4584.44,
          4639.04,
          4648.7,
          4632.2,
          4548.5,
          4548.5,
          4548.5,
          4531.75,
          4538.91,
          4545.94,
          4551.02,
          4631.64,
          4631.64,
          4631.64,
          4683.85,
          4702.67,
          4691.09,
          4693.99,
          4693.99,
          4693.99,
          4693.99,
          4692.04,
          4748.54,
          4807.85,
          4885.66,
          4885.66,
          4885.66,
          4885.66,
          4989.58,
          4924,
          4842.26,
          4810.2,
          4810.2,
          4810.2,
          4810.2,
          4810.2,
          4765.92,
          4766.82,
          4745.04,
          4745.04,
          4745.04,
          4745.04,
          4760.61,
          4761.64,
          4769.29,
          4781.28,
          4802.48,
          4802.48,
          4802.48,
          4797.02,
          4778.28,
          4791.57,
          4836.24,
          4815.99,
          4815.99,
          4815.99,
          4825.83,
          4825.83,
          4818.32,
          4812.37,
          4767.19,
          4767.19,
          4767.19,
          4779.06,
          4815.59,
          4809.51,
          4840.6,
          4881.41,
          4881.41,
          4881.41,
          4875.91,
          4875.91,
          4914.34,
          4958.42,
          4994.61,
          4994.61,
          4994.61,
          5022.03,
          4922.7,
          4801.06,
          4806.07,
          4806.07,
          4806.07,
          4806.07,
          4806.07,
          4914.71,
          5013.2,
          5061.21,
          5061.21,
          5061.21,
          5061.21,
          5058.02,
          5015.84,
          4975.58,
          4898.74,
          4819.42,
          4819.42,
          4819.42,
          4821.92,
          4895.29,
          4948.14,
          4968.94,
          4913.24,
          4913.24,
          4913.24,
          4885.5,
          4815.09,
          4744.04,
          4636.83,
          4636.83,
          4636.83,
          4636.83,
          4619.78,
          4611.18,
          4611.88,
          4605.29,
          4605.29,
          4605.29,
          4605.29,
          4627.61,
          4548.89,
          4484.74,
          4545.66,
          4590.54,
          4590.54,
          4590.54,
          4532.07,
          4486.94,
          4556.42,
          4496.99,
          4426.47,
          4426.47,
          4426.47,
          4379.8,
          4403.82,
          4420.38,
          4415.11,
          4435.84,
          4435.84,
          4435.84,
          4404.64,
          4389.8,
          4413.89,
          4346.91,
          4365.32,
          4365.32,
          4365.32,
          4396.69,
          4446.36,
          4480.1,
          4466.73,
          4466.73,
          4466.73,
          4466.73,
          4467.03,
          4422.77,
          4400.16,
          4386.13,
          4388.02,
          4388.02,
          4388.02,
          4407.95,
          4380.19,
          4374.45,
          4399.16,
          4400.25,
          4400.25,
          4400.25,
          4413.86,
          4316.47,
          4218.48,
          4185.49,
          4185.49,
          4185.49,
          4185.49,
          4231.45,
          4273.82,
          4309.69,
          4307.09,
          4337.28,
          4337.28,
          4337.28,
          4268.3,
          4331.15,
          4313.3,
          4245.99,
          4300.3,
          4300.3,
          4300.3,
          4375.51,
          4420.75,
          4445.01,
          4461.63,
          4423.86,
          4423.86,
          4423.86,
          4410.14,
          4303.34,
          4303.34,
          4315.41,
          4395.63,
          4395.63,
          4395.63,
          4519.65,
          4558.05,
          4627.46,
          4513.28,
          4388.27,
          4388.27,
          4388.27,
          4369.7,
          4348.68,
          4259.86,
          4198.77,
          4198.77,
          4198.77,
          4198.77,
          4151.21,
          4127.47,
          4089.72,
          4129.87,
          4129.87,
          4129.87,
          4129.87,
          4068.75,
          4026.52,
          4026.92,
          3905.05,
          3905.05,
          3905.05,
          3905.05,
          3912.15,
          3923.96,
          3979.3,
          4016.5,
          3912.51,
          3912.51,
          3912.51,
          3833.34,
          3782.65,
          3790.88,
          3799.5,
          3771.63,
          3771.63,
          3771.63,
          3784.98,
          3791.74,
          3776.52,
          3912.34,
          3912.34,
          3912.34,
          3912.34,
          3930.89,
          3959.05,
          3971.28,
          3950.35,
          3989.84,
          3989.84,
          3989.84,
          4050.88,
          4054.71,
          4033.85,
          4070.25,
          4110.53,
          4110.53,
          4110.53,
          4109.71,
          4080.32,
          4086.71,
          4085.76,
          4053.93,
          4053.93
         ]
        }
       ],
       "layout": {
        "template": {
         "data": {
          "bar": [
           {
            "error_x": {
             "color": "#2a3f5f"
            },
            "error_y": {
             "color": "#2a3f5f"
            },
            "marker": {
             "line": {
              "color": "#E5ECF6",
              "width": 0.5
             },
             "pattern": {
              "fillmode": "overlay",
              "size": 10,
              "solidity": 0.2
             }
            },
            "type": "bar"
           }
          ],
          "barpolar": [
           {
            "marker": {
             "line": {
              "color": "#E5ECF6",
              "width": 0.5
             },
             "pattern": {
              "fillmode": "overlay",
              "size": 10,
              "solidity": 0.2
             }
            },
            "type": "barpolar"
           }
          ],
          "carpet": [
           {
            "aaxis": {
             "endlinecolor": "#2a3f5f",
             "gridcolor": "white",
             "linecolor": "white",
             "minorgridcolor": "white",
             "startlinecolor": "#2a3f5f"
            },
            "baxis": {
             "endlinecolor": "#2a3f5f",
             "gridcolor": "white",
             "linecolor": "white",
             "minorgridcolor": "white",
             "startlinecolor": "#2a3f5f"
            },
            "type": "carpet"
           }
          ],
          "choropleth": [
           {
            "colorbar": {
             "outlinewidth": 0,
             "ticks": ""
            },
            "type": "choropleth"
           }
          ],
          "contour": [
           {
            "colorbar": {
             "outlinewidth": 0,
             "ticks": ""
            },
            "colorscale": [
             [
              0,
              "#0d0887"
             ],
             [
              0.1111111111111111,
              "#46039f"
             ],
             [
              0.2222222222222222,
              "#7201a8"
             ],
             [
              0.3333333333333333,
              "#9c179e"
             ],
             [
              0.4444444444444444,
              "#bd3786"
             ],
             [
              0.5555555555555556,
              "#d8576b"
             ],
             [
              0.6666666666666666,
              "#ed7953"
             ],
             [
              0.7777777777777778,
              "#fb9f3a"
             ],
             [
              0.8888888888888888,
              "#fdca26"
             ],
             [
              1,
              "#f0f921"
             ]
            ],
            "type": "contour"
           }
          ],
          "contourcarpet": [
           {
            "colorbar": {
             "outlinewidth": 0,
             "ticks": ""
            },
            "type": "contourcarpet"
           }
          ],
          "heatmap": [
           {
            "colorbar": {
             "outlinewidth": 0,
             "ticks": ""
            },
            "colorscale": [
             [
              0,
              "#0d0887"
             ],
             [
              0.1111111111111111,
              "#46039f"
             ],
             [
              0.2222222222222222,
              "#7201a8"
             ],
             [
              0.3333333333333333,
              "#9c179e"
             ],
             [
              0.4444444444444444,
              "#bd3786"
             ],
             [
              0.5555555555555556,
              "#d8576b"
             ],
             [
              0.6666666666666666,
              "#ed7953"
             ],
             [
              0.7777777777777778,
              "#fb9f3a"
             ],
             [
              0.8888888888888888,
              "#fdca26"
             ],
             [
              1,
              "#f0f921"
             ]
            ],
            "type": "heatmap"
           }
          ],
          "heatmapgl": [
           {
            "colorbar": {
             "outlinewidth": 0,
             "ticks": ""
            },
            "colorscale": [
             [
              0,
              "#0d0887"
             ],
             [
              0.1111111111111111,
              "#46039f"
             ],
             [
              0.2222222222222222,
              "#7201a8"
             ],
             [
              0.3333333333333333,
              "#9c179e"
             ],
             [
              0.4444444444444444,
              "#bd3786"
             ],
             [
              0.5555555555555556,
              "#d8576b"
             ],
             [
              0.6666666666666666,
              "#ed7953"
             ],
             [
              0.7777777777777778,
              "#fb9f3a"
             ],
             [
              0.8888888888888888,
              "#fdca26"
             ],
             [
              1,
              "#f0f921"
             ]
            ],
            "type": "heatmapgl"
           }
          ],
          "histogram": [
           {
            "marker": {
             "pattern": {
              "fillmode": "overlay",
              "size": 10,
              "solidity": 0.2
             }
            },
            "type": "histogram"
           }
          ],
          "histogram2d": [
           {
            "colorbar": {
             "outlinewidth": 0,
             "ticks": ""
            },
            "colorscale": [
             [
              0,
              "#0d0887"
             ],
             [
              0.1111111111111111,
              "#46039f"
             ],
             [
              0.2222222222222222,
              "#7201a8"
             ],
             [
              0.3333333333333333,
              "#9c179e"
             ],
             [
              0.4444444444444444,
              "#bd3786"
             ],
             [
              0.5555555555555556,
              "#d8576b"
             ],
             [
              0.6666666666666666,
              "#ed7953"
             ],
             [
              0.7777777777777778,
              "#fb9f3a"
             ],
             [
              0.8888888888888888,
              "#fdca26"
             ],
             [
              1,
              "#f0f921"
             ]
            ],
            "type": "histogram2d"
           }
          ],
          "histogram2dcontour": [
           {
            "colorbar": {
             "outlinewidth": 0,
             "ticks": ""
            },
            "colorscale": [
             [
              0,
              "#0d0887"
             ],
             [
              0.1111111111111111,
              "#46039f"
             ],
             [
              0.2222222222222222,
              "#7201a8"
             ],
             [
              0.3333333333333333,
              "#9c179e"
             ],
             [
              0.4444444444444444,
              "#bd3786"
             ],
             [
              0.5555555555555556,
              "#d8576b"
             ],
             [
              0.6666666666666666,
              "#ed7953"
             ],
             [
              0.7777777777777778,
              "#fb9f3a"
             ],
             [
              0.8888888888888888,
              "#fdca26"
             ],
             [
              1,
              "#f0f921"
             ]
            ],
            "type": "histogram2dcontour"
           }
          ],
          "mesh3d": [
           {
            "colorbar": {
             "outlinewidth": 0,
             "ticks": ""
            },
            "type": "mesh3d"
           }
          ],
          "parcoords": [
           {
            "line": {
             "colorbar": {
              "outlinewidth": 0,
              "ticks": ""
             }
            },
            "type": "parcoords"
           }
          ],
          "pie": [
           {
            "automargin": true,
            "type": "pie"
           }
          ],
          "scatter": [
           {
            "marker": {
             "colorbar": {
              "outlinewidth": 0,
              "ticks": ""
             }
            },
            "type": "scatter"
           }
          ],
          "scatter3d": [
           {
            "line": {
             "colorbar": {
              "outlinewidth": 0,
              "ticks": ""
             }
            },
            "marker": {
             "colorbar": {
              "outlinewidth": 0,
              "ticks": ""
             }
            },
            "type": "scatter3d"
           }
          ],
          "scattercarpet": [
           {
            "marker": {
             "colorbar": {
              "outlinewidth": 0,
              "ticks": ""
             }
            },
            "type": "scattercarpet"
           }
          ],
          "scattergeo": [
           {
            "marker": {
             "colorbar": {
              "outlinewidth": 0,
              "ticks": ""
             }
            },
            "type": "scattergeo"
           }
          ],
          "scattergl": [
           {
            "marker": {
             "colorbar": {
              "outlinewidth": 0,
              "ticks": ""
             }
            },
            "type": "scattergl"
           }
          ],
          "scattermapbox": [
           {
            "marker": {
             "colorbar": {
              "outlinewidth": 0,
              "ticks": ""
             }
            },
            "type": "scattermapbox"
           }
          ],
          "scatterpolar": [
           {
            "marker": {
             "colorbar": {
              "outlinewidth": 0,
              "ticks": ""
             }
            },
            "type": "scatterpolar"
           }
          ],
          "scatterpolargl": [
           {
            "marker": {
             "colorbar": {
              "outlinewidth": 0,
              "ticks": ""
             }
            },
            "type": "scatterpolargl"
           }
          ],
          "scatterternary": [
           {
            "marker": {
             "colorbar": {
              "outlinewidth": 0,
              "ticks": ""
             }
            },
            "type": "scatterternary"
           }
          ],
          "surface": [
           {
            "colorbar": {
             "outlinewidth": 0,
             "ticks": ""
            },
            "colorscale": [
             [
              0,
              "#0d0887"
             ],
             [
              0.1111111111111111,
              "#46039f"
             ],
             [
              0.2222222222222222,
              "#7201a8"
             ],
             [
              0.3333333333333333,
              "#9c179e"
             ],
             [
              0.4444444444444444,
              "#bd3786"
             ],
             [
              0.5555555555555556,
              "#d8576b"
             ],
             [
              0.6666666666666666,
              "#ed7953"
             ],
             [
              0.7777777777777778,
              "#fb9f3a"
             ],
             [
              0.8888888888888888,
              "#fdca26"
             ],
             [
              1,
              "#f0f921"
             ]
            ],
            "type": "surface"
           }
          ],
          "table": [
           {
            "cells": {
             "fill": {
              "color": "#EBF0F8"
             },
             "line": {
              "color": "white"
             }
            },
            "header": {
             "fill": {
              "color": "#C8D4E3"
             },
             "line": {
              "color": "white"
             }
            },
            "type": "table"
           }
          ]
         },
         "layout": {
          "annotationdefaults": {
           "arrowcolor": "#2a3f5f",
           "arrowhead": 0,
           "arrowwidth": 1
          },
          "autotypenumbers": "strict",
          "coloraxis": {
           "colorbar": {
            "outlinewidth": 0,
            "ticks": ""
           }
          },
          "colorscale": {
           "diverging": [
            [
             0,
             "#8e0152"
            ],
            [
             0.1,
             "#c51b7d"
            ],
            [
             0.2,
             "#de77ae"
            ],
            [
             0.3,
             "#f1b6da"
            ],
            [
             0.4,
             "#fde0ef"
            ],
            [
             0.5,
             "#f7f7f7"
            ],
            [
             0.6,
             "#e6f5d0"
            ],
            [
             0.7,
             "#b8e186"
            ],
            [
             0.8,
             "#7fbc41"
            ],
            [
             0.9,
             "#4d9221"
            ],
            [
             1,
             "#276419"
            ]
           ],
           "sequential": [
            [
             0,
             "#0d0887"
            ],
            [
             0.1111111111111111,
             "#46039f"
            ],
            [
             0.2222222222222222,
             "#7201a8"
            ],
            [
             0.3333333333333333,
             "#9c179e"
            ],
            [
             0.4444444444444444,
             "#bd3786"
            ],
            [
             0.5555555555555556,
             "#d8576b"
            ],
            [
             0.6666666666666666,
             "#ed7953"
            ],
            [
             0.7777777777777778,
             "#fb9f3a"
            ],
            [
             0.8888888888888888,
             "#fdca26"
            ],
            [
             1,
             "#f0f921"
            ]
           ],
           "sequentialminus": [
            [
             0,
             "#0d0887"
            ],
            [
             0.1111111111111111,
             "#46039f"
            ],
            [
             0.2222222222222222,
             "#7201a8"
            ],
            [
             0.3333333333333333,
             "#9c179e"
            ],
            [
             0.4444444444444444,
             "#bd3786"
            ],
            [
             0.5555555555555556,
             "#d8576b"
            ],
            [
             0.6666666666666666,
             "#ed7953"
            ],
            [
             0.7777777777777778,
             "#fb9f3a"
            ],
            [
             0.8888888888888888,
             "#fdca26"
            ],
            [
             1,
             "#f0f921"
            ]
           ]
          },
          "colorway": [
           "#636efa",
           "#EF553B",
           "#00cc96",
           "#ab63fa",
           "#FFA15A",
           "#19d3f3",
           "#FF6692",
           "#B6E880",
           "#FF97FF",
           "#FECB52"
          ],
          "font": {
           "color": "#2a3f5f"
          },
          "geo": {
           "bgcolor": "white",
           "lakecolor": "white",
           "landcolor": "#E5ECF6",
           "showlakes": true,
           "showland": true,
           "subunitcolor": "white"
          },
          "hoverlabel": {
           "align": "left"
          },
          "hovermode": "closest",
          "mapbox": {
           "style": "light"
          },
          "paper_bgcolor": "white",
          "plot_bgcolor": "#E5ECF6",
          "polar": {
           "angularaxis": {
            "gridcolor": "white",
            "linecolor": "white",
            "ticks": ""
           },
           "bgcolor": "#E5ECF6",
           "radialaxis": {
            "gridcolor": "white",
            "linecolor": "white",
            "ticks": ""
           }
          },
          "scene": {
           "xaxis": {
            "backgroundcolor": "#E5ECF6",
            "gridcolor": "white",
            "gridwidth": 2,
            "linecolor": "white",
            "showbackground": true,
            "ticks": "",
            "zerolinecolor": "white"
           },
           "yaxis": {
            "backgroundcolor": "#E5ECF6",
            "gridcolor": "white",
            "gridwidth": 2,
            "linecolor": "white",
            "showbackground": true,
            "ticks": "",
            "zerolinecolor": "white"
           },
           "zaxis": {
            "backgroundcolor": "#E5ECF6",
            "gridcolor": "white",
            "gridwidth": 2,
            "linecolor": "white",
            "showbackground": true,
            "ticks": "",
            "zerolinecolor": "white"
           }
          },
          "shapedefaults": {
           "line": {
            "color": "#2a3f5f"
           }
          },
          "ternary": {
           "aaxis": {
            "gridcolor": "white",
            "linecolor": "white",
            "ticks": ""
           },
           "baxis": {
            "gridcolor": "white",
            "linecolor": "white",
            "ticks": ""
           },
           "bgcolor": "#E5ECF6",
           "caxis": {
            "gridcolor": "white",
            "linecolor": "white",
            "ticks": ""
           }
          },
          "title": {
           "x": 0.05
          },
          "xaxis": {
           "automargin": true,
           "gridcolor": "white",
           "linecolor": "white",
           "ticks": "",
           "title": {
            "standoff": 15
           },
           "zerolinecolor": "white",
           "zerolinewidth": 2
          },
          "yaxis": {
           "automargin": true,
           "gridcolor": "white",
           "linecolor": "white",
           "ticks": "",
           "title": {
            "standoff": 15
           },
           "zerolinecolor": "white",
           "zerolinewidth": 2
          }
         }
        },
        "title": {
         "text": "Tasa de cambio representativa del mercado (TRM)"
        },
        "xaxis": {
         "title": {
          "text": "Fecha"
         }
        },
        "yaxis": {
         "title": {
          "text": "TRM"
         }
        }
       }
      }
     },
     "metadata": {},
     "output_type": "display_data"
    }
   ],
   "source": [
    "import pandas as pd\n",
    "import plotly.graph_objects as go\n",
    "\n",
    "# Ruta del archivo Excel\n",
    "archivo_excel = '../data/1.1.16.TCM_Serie historica_ultimos_doce meses.xlsx'\n",
    "\n",
    "# Lee el archivo Excel y omite las primeras siete filas y las cuatro últimas\n",
    "df = pd.read_excel(archivo_excel, skiprows=7, skipfooter=4)\n",
    "\n",
    "# Crea la figura y añade el gráfico de línea\n",
    "fig = go.Figure(data=go.Scatter(x=df['Fecha (dd/mm/aaaa)'], y=df['Tasa de cambio representativa del mercado (TRM)'], mode='lines'))\n",
    "\n",
    "# Configura los títulos y etiquetas de los ejes\n",
    "fig.update_layout(title='Tasa de cambio representativa del mercado (TRM)', xaxis_title='Fecha', yaxis_title='TRM')\n",
    "\n",
    "# Muestra el gráfico\n",
    "fig.show()"
   ]
  },
  {
   "attachments": {},
   "cell_type": "markdown",
   "metadata": {},
   "source": [
    "### 2.4. Animación de los datos\n",
    "\n",
    "**Prompt ChatGPT**: Con los datos de fecha en la columna 'Fecha (dd/mm/aaaa)' crea tres nuevas columnas, primero, una columna llamada 'Día', con el día del mes; segundo, una columna llamada 'Mes', con el mes del año y tercero, una columna llamada 'Año', con el año. A continuación, crea una animación con Plotly para la columna 'Mes', tomando la columna 'Día' como eje x, la columna 'Tasa de cambio representativa del mercado (TRM)' como eje y. En la animación solo muestra puntos sin interpolar."
   ]
  },
  {
   "cell_type": "code",
   "execution_count": 4,
   "metadata": {},
   "outputs": [
    {
     "data": {
      "application/vnd.plotly.v1+json": {
       "config": {
        "plotlyServerURL": "https://plot.ly"
       },
       "data": [
        {
         "hovertemplate": "Mes=5<br>Día=%{x}<br>Tasa de cambio representativa del mercado (TRM)=%{y}<extra></extra>",
         "legendgroup": "",
         "line": {
          "color": "#636efa",
          "dash": "solid"
         },
         "marker": {
          "symbol": "circle"
         },
         "mode": "lines",
         "name": "",
         "orientation": "v",
         "showlegend": false,
         "type": "scatter",
         "x": [
          8,
          7,
          6,
          5,
          4,
          3,
          2,
          1,
          31,
          30,
          29,
          28,
          27,
          26,
          25,
          24,
          23,
          22,
          21,
          20,
          19,
          18,
          17,
          16,
          15,
          14,
          13,
          12,
          11,
          10,
          9,
          8
         ],
         "xaxis": "x",
         "y": [
          4552.56,
          4552.56,
          4552.56,
          4616.58,
          4667.09,
          4713.08,
          4669,
          4669,
          3912.34,
          3912.34,
          3912.34,
          3912.34,
          3930.89,
          3959.05,
          3971.28,
          3950.35,
          3989.84,
          3989.84,
          3989.84,
          4050.88,
          4054.71,
          4033.85,
          4070.25,
          4110.53,
          4110.53,
          4110.53,
          4109.71,
          4080.32,
          4086.71,
          4085.76,
          4053.93,
          4053.93
         ],
         "yaxis": "y"
        }
       ],
       "frames": [
        {
         "data": [
          {
           "hovertemplate": "Mes=5<br>Día=%{x}<br>Tasa de cambio representativa del mercado (TRM)=%{y}<extra></extra>",
           "legendgroup": "",
           "line": {
            "color": "#636efa",
            "dash": "solid"
           },
           "marker": {
            "symbol": "circle"
           },
           "mode": "lines",
           "name": "",
           "orientation": "v",
           "showlegend": false,
           "type": "scatter",
           "x": [
            8,
            7,
            6,
            5,
            4,
            3,
            2,
            1,
            31,
            30,
            29,
            28,
            27,
            26,
            25,
            24,
            23,
            22,
            21,
            20,
            19,
            18,
            17,
            16,
            15,
            14,
            13,
            12,
            11,
            10,
            9,
            8
           ],
           "xaxis": "x",
           "y": [
            4552.56,
            4552.56,
            4552.56,
            4616.58,
            4667.09,
            4713.08,
            4669,
            4669,
            3912.34,
            3912.34,
            3912.34,
            3912.34,
            3930.89,
            3959.05,
            3971.28,
            3950.35,
            3989.84,
            3989.84,
            3989.84,
            4050.88,
            4054.71,
            4033.85,
            4070.25,
            4110.53,
            4110.53,
            4110.53,
            4109.71,
            4080.32,
            4086.71,
            4085.76,
            4053.93,
            4053.93
           ],
           "yaxis": "y"
          }
         ],
         "name": "5"
        },
        {
         "data": [
          {
           "hovertemplate": "Mes=4<br>Día=%{x}<br>Tasa de cambio representativa del mercado (TRM)=%{y}<extra></extra>",
           "legendgroup": "",
           "line": {
            "color": "#636efa",
            "dash": "solid"
           },
           "marker": {
            "symbol": "circle"
           },
           "mode": "lines",
           "name": "",
           "orientation": "v",
           "showlegend": false,
           "type": "scatter",
           "x": [
            30,
            29,
            28,
            27,
            26,
            25,
            24,
            23,
            22,
            21,
            20,
            19,
            18,
            17,
            16,
            15,
            14,
            13,
            12,
            11,
            10,
            9,
            8,
            7,
            6,
            5,
            4,
            3,
            2,
            1
           ],
           "xaxis": "x",
           "y": [
            4669,
            4669,
            4654.14,
            4552.59,
            4486.6,
            4482.45,
            4523.64,
            4523.64,
            4523.64,
            4535.78,
            4532.43,
            4473.07,
            4431.45,
            4425.27,
            4425.27,
            4425.27,
            4424.02,
            4458.87,
            4516.76,
            4564.24,
            4570.91,
            4570.91,
            4570.91,
            4570.91,
            4570.91,
            4587.31,
            4603,
            4646.08,
            4646.08,
            4646.08
           ],
           "yaxis": "y"
          }
         ],
         "name": "4"
        },
        {
         "data": [
          {
           "hovertemplate": "Mes=3<br>Día=%{x}<br>Tasa de cambio representativa del mercado (TRM)=%{y}<extra></extra>",
           "legendgroup": "",
           "line": {
            "color": "#636efa",
            "dash": "solid"
           },
           "marker": {
            "symbol": "circle"
           },
           "mode": "lines",
           "name": "",
           "orientation": "v",
           "showlegend": false,
           "type": "scatter",
           "x": [
            31,
            30,
            29,
            28,
            27,
            26,
            25,
            24,
            23,
            22,
            21,
            20,
            19,
            18,
            17,
            16,
            15,
            14,
            13,
            12,
            11,
            10,
            9,
            8,
            7,
            6,
            5,
            4,
            3,
            2,
            1
           ],
           "xaxis": "x",
           "y": [
            4627.27,
            4627.63,
            4658.79,
            4686.83,
            4741.76,
            4741.76,
            4741.76,
            4755.12,
            4776.09,
            4804.29,
            4824.25,
            4824.25,
            4824.25,
            4824.25,
            4866.5,
            4835.51,
            4736.03,
            4769.76,
            4748.14,
            4748.14,
            4748.14,
            4748.61,
            4755.59,
            4744.95,
            4734.42,
            4780.89,
            4780.89,
            4780.89,
            4855.83,
            4848.78,
            4814.11
           ],
           "yaxis": "y"
          }
         ],
         "name": "3"
        },
        {
         "data": [
          {
           "hovertemplate": "Mes=2<br>Día=%{x}<br>Tasa de cambio representativa del mercado (TRM)=%{y}<extra></extra>",
           "legendgroup": "",
           "line": {
            "color": "#636efa",
            "dash": "solid"
           },
           "marker": {
            "symbol": "circle"
           },
           "mode": "lines",
           "name": "",
           "orientation": "v",
           "showlegend": false,
           "type": "scatter",
           "x": [
            28,
            27,
            26,
            25,
            24,
            23,
            22,
            21,
            20,
            19,
            18,
            17,
            16,
            15,
            14,
            13,
            12,
            11,
            10,
            9,
            8,
            7,
            6,
            5,
            4,
            3,
            2,
            1
           ],
           "xaxis": "x",
           "y": [
            4808.14,
            4849.65,
            4849.65,
            4849.65,
            4853.9,
            4924.91,
            4950.33,
            4918.94,
            4918.94,
            4918.94,
            4918.94,
            4966.33,
            4878.24,
            4783.24,
            4818.62,
            4777.73,
            4777.73,
            4777.73,
            4742.05,
            4769.85,
            4775.99,
            4776.25,
            4669.74,
            4669.74,
            4669.74,
            4584.44,
            4639.04,
            4648.7
           ],
           "yaxis": "y"
          }
         ],
         "name": "2"
        },
        {
         "data": [
          {
           "hovertemplate": "Mes=1<br>Día=%{x}<br>Tasa de cambio representativa del mercado (TRM)=%{y}<extra></extra>",
           "legendgroup": "",
           "line": {
            "color": "#636efa",
            "dash": "solid"
           },
           "marker": {
            "symbol": "circle"
           },
           "mode": "lines",
           "name": "",
           "orientation": "v",
           "showlegend": false,
           "type": "scatter",
           "x": [
            31,
            30,
            29,
            28,
            27,
            26,
            25,
            24,
            23,
            22,
            21,
            20,
            19,
            18,
            17,
            16,
            15,
            14,
            13,
            12,
            11,
            10,
            9,
            8,
            7,
            6,
            5,
            4,
            3,
            2,
            1
           ],
           "xaxis": "x",
           "y": [
            4632.2,
            4548.5,
            4548.5,
            4548.5,
            4531.75,
            4538.91,
            4545.94,
            4551.02,
            4631.64,
            4631.64,
            4631.64,
            4683.85,
            4702.67,
            4691.09,
            4693.99,
            4693.99,
            4693.99,
            4693.99,
            4692.04,
            4748.54,
            4807.85,
            4885.66,
            4885.66,
            4885.66,
            4885.66,
            4989.58,
            4924,
            4842.26,
            4810.2,
            4810.2,
            4810.2
           ],
           "yaxis": "y"
          }
         ],
         "name": "1"
        },
        {
         "data": [
          {
           "hovertemplate": "Mes=12<br>Día=%{x}<br>Tasa de cambio representativa del mercado (TRM)=%{y}<extra></extra>",
           "legendgroup": "",
           "line": {
            "color": "#636efa",
            "dash": "solid"
           },
           "marker": {
            "symbol": "circle"
           },
           "mode": "lines",
           "name": "",
           "orientation": "v",
           "showlegend": false,
           "type": "scatter",
           "x": [
            31,
            30,
            29,
            28,
            27,
            26,
            25,
            24,
            23,
            22,
            21,
            20,
            19,
            18,
            17,
            16,
            15,
            14,
            13,
            12,
            11,
            10,
            9,
            8,
            7,
            6,
            5,
            4,
            3,
            2,
            1
           ],
           "xaxis": "x",
           "y": [
            4810.2,
            4810.2,
            4765.92,
            4766.82,
            4745.04,
            4745.04,
            4745.04,
            4745.04,
            4760.61,
            4761.64,
            4769.29,
            4781.28,
            4802.48,
            4802.48,
            4802.48,
            4797.02,
            4778.28,
            4791.57,
            4836.24,
            4815.99,
            4815.99,
            4815.99,
            4825.83,
            4825.83,
            4818.32,
            4812.37,
            4767.19,
            4767.19,
            4767.19,
            4779.06,
            4815.59
           ],
           "yaxis": "y"
          }
         ],
         "name": "12"
        },
        {
         "data": [
          {
           "hovertemplate": "Mes=11<br>Día=%{x}<br>Tasa de cambio representativa del mercado (TRM)=%{y}<extra></extra>",
           "legendgroup": "",
           "line": {
            "color": "#636efa",
            "dash": "solid"
           },
           "marker": {
            "symbol": "circle"
           },
           "mode": "lines",
           "name": "",
           "orientation": "v",
           "showlegend": false,
           "type": "scatter",
           "x": [
            30,
            29,
            28,
            27,
            26,
            25,
            24,
            23,
            22,
            21,
            20,
            19,
            18,
            17,
            16,
            15,
            14,
            13,
            12,
            11,
            10,
            9,
            8,
            7,
            6,
            5,
            4,
            3,
            2,
            1
           ],
           "xaxis": "x",
           "y": [
            4809.51,
            4840.6,
            4881.41,
            4881.41,
            4881.41,
            4875.91,
            4875.91,
            4914.34,
            4958.42,
            4994.61,
            4994.61,
            4994.61,
            5022.03,
            4922.7,
            4801.06,
            4806.07,
            4806.07,
            4806.07,
            4806.07,
            4806.07,
            4914.71,
            5013.2,
            5061.21,
            5061.21,
            5061.21,
            5061.21,
            5058.02,
            5015.84,
            4975.58,
            4898.74
           ],
           "yaxis": "y"
          }
         ],
         "name": "11"
        },
        {
         "data": [
          {
           "hovertemplate": "Mes=10<br>Día=%{x}<br>Tasa de cambio representativa del mercado (TRM)=%{y}<extra></extra>",
           "legendgroup": "",
           "line": {
            "color": "#636efa",
            "dash": "solid"
           },
           "marker": {
            "symbol": "circle"
           },
           "mode": "lines",
           "name": "",
           "orientation": "v",
           "showlegend": false,
           "type": "scatter",
           "x": [
            31,
            30,
            29,
            28,
            27,
            26,
            25,
            24,
            23,
            22,
            21,
            20,
            19,
            18,
            17,
            16,
            15,
            14,
            13,
            12,
            11,
            10,
            9,
            8,
            7,
            6,
            5,
            4,
            3,
            2,
            1
           ],
           "xaxis": "x",
           "y": [
            4819.42,
            4819.42,
            4819.42,
            4821.92,
            4895.29,
            4948.14,
            4968.94,
            4913.24,
            4913.24,
            4913.24,
            4885.5,
            4815.09,
            4744.04,
            4636.83,
            4636.83,
            4636.83,
            4636.83,
            4619.78,
            4611.18,
            4611.88,
            4605.29,
            4605.29,
            4605.29,
            4605.29,
            4627.61,
            4548.89,
            4484.74,
            4545.66,
            4590.54,
            4590.54,
            4590.54
           ],
           "yaxis": "y"
          }
         ],
         "name": "10"
        },
        {
         "data": [
          {
           "hovertemplate": "Mes=9<br>Día=%{x}<br>Tasa de cambio representativa del mercado (TRM)=%{y}<extra></extra>",
           "legendgroup": "",
           "line": {
            "color": "#636efa",
            "dash": "solid"
           },
           "marker": {
            "symbol": "circle"
           },
           "mode": "lines",
           "name": "",
           "orientation": "v",
           "showlegend": false,
           "type": "scatter",
           "x": [
            30,
            29,
            28,
            27,
            26,
            25,
            24,
            23,
            22,
            21,
            20,
            19,
            18,
            17,
            16,
            15,
            14,
            13,
            12,
            11,
            10,
            9,
            8,
            7,
            6,
            5,
            4,
            3,
            2,
            1
           ],
           "xaxis": "x",
           "y": [
            4532.07,
            4486.94,
            4556.42,
            4496.99,
            4426.47,
            4426.47,
            4426.47,
            4379.8,
            4403.82,
            4420.38,
            4415.11,
            4435.84,
            4435.84,
            4435.84,
            4404.64,
            4389.8,
            4413.89,
            4346.91,
            4365.32,
            4365.32,
            4365.32,
            4396.69,
            4446.36,
            4480.1,
            4466.73,
            4466.73,
            4466.73,
            4466.73,
            4467.03,
            4422.77
           ],
           "yaxis": "y"
          }
         ],
         "name": "9"
        },
        {
         "data": [
          {
           "hovertemplate": "Mes=8<br>Día=%{x}<br>Tasa de cambio representativa del mercado (TRM)=%{y}<extra></extra>",
           "legendgroup": "",
           "line": {
            "color": "#636efa",
            "dash": "solid"
           },
           "marker": {
            "symbol": "circle"
           },
           "mode": "lines",
           "name": "",
           "orientation": "v",
           "showlegend": false,
           "type": "scatter",
           "x": [
            31,
            30,
            29,
            28,
            27,
            26,
            25,
            24,
            23,
            22,
            21,
            20,
            19,
            18,
            17,
            16,
            15,
            14,
            13,
            12,
            11,
            10,
            9,
            8,
            7,
            6,
            5,
            4,
            3,
            2,
            1
           ],
           "xaxis": "x",
           "y": [
            4400.16,
            4386.13,
            4388.02,
            4388.02,
            4388.02,
            4407.95,
            4380.19,
            4374.45,
            4399.16,
            4400.25,
            4400.25,
            4400.25,
            4413.86,
            4316.47,
            4218.48,
            4185.49,
            4185.49,
            4185.49,
            4185.49,
            4231.45,
            4273.82,
            4309.69,
            4307.09,
            4337.28,
            4337.28,
            4337.28,
            4268.3,
            4331.15,
            4313.3,
            4245.99,
            4300.3
           ],
           "yaxis": "y"
          }
         ],
         "name": "8"
        },
        {
         "data": [
          {
           "hovertemplate": "Mes=7<br>Día=%{x}<br>Tasa de cambio representativa del mercado (TRM)=%{y}<extra></extra>",
           "legendgroup": "",
           "line": {
            "color": "#636efa",
            "dash": "solid"
           },
           "marker": {
            "symbol": "circle"
           },
           "mode": "lines",
           "name": "",
           "orientation": "v",
           "showlegend": false,
           "type": "scatter",
           "x": [
            31,
            30,
            29,
            28,
            27,
            26,
            25,
            24,
            23,
            22,
            21,
            20,
            19,
            18,
            17,
            16,
            15,
            14,
            13,
            12,
            11,
            10,
            9,
            8,
            7,
            6,
            5,
            4,
            3,
            2,
            1
           ],
           "xaxis": "x",
           "y": [
            4300.3,
            4300.3,
            4375.51,
            4420.75,
            4445.01,
            4461.63,
            4423.86,
            4423.86,
            4423.86,
            4410.14,
            4303.34,
            4303.34,
            4315.41,
            4395.63,
            4395.63,
            4395.63,
            4519.65,
            4558.05,
            4627.46,
            4513.28,
            4388.27,
            4388.27,
            4388.27,
            4369.7,
            4348.68,
            4259.86,
            4198.77,
            4198.77,
            4198.77,
            4198.77,
            4151.21
           ],
           "yaxis": "y"
          }
         ],
         "name": "7"
        },
        {
         "data": [
          {
           "hovertemplate": "Mes=6<br>Día=%{x}<br>Tasa de cambio representativa del mercado (TRM)=%{y}<extra></extra>",
           "legendgroup": "",
           "line": {
            "color": "#636efa",
            "dash": "solid"
           },
           "marker": {
            "symbol": "circle"
           },
           "mode": "lines",
           "name": "",
           "orientation": "v",
           "showlegend": false,
           "type": "scatter",
           "x": [
            30,
            29,
            28,
            27,
            26,
            25,
            24,
            23,
            22,
            21,
            20,
            19,
            18,
            17,
            16,
            15,
            14,
            13,
            12,
            11,
            10,
            9,
            8,
            7,
            6,
            5,
            4,
            3,
            2,
            1
           ],
           "xaxis": "x",
           "y": [
            4127.47,
            4089.72,
            4129.87,
            4129.87,
            4129.87,
            4129.87,
            4068.75,
            4026.52,
            4026.92,
            3905.05,
            3905.05,
            3905.05,
            3905.05,
            3912.15,
            3923.96,
            3979.3,
            4016.5,
            3912.51,
            3912.51,
            3912.51,
            3833.34,
            3782.65,
            3790.88,
            3799.5,
            3771.63,
            3771.63,
            3771.63,
            3784.98,
            3791.74,
            3776.52
           ],
           "yaxis": "y"
          }
         ],
         "name": "6"
        }
       ],
       "layout": {
        "legend": {
         "tracegroupgap": 0
        },
        "margin": {
         "t": 60
        },
        "sliders": [
         {
          "active": 0,
          "currentvalue": {
           "prefix": "Mes="
          },
          "len": 0.9,
          "pad": {
           "b": 10,
           "t": 60
          },
          "steps": [
           {
            "args": [
             [
              "5"
             ],
             {
              "frame": {
               "duration": 0,
               "redraw": false
              },
              "fromcurrent": true,
              "mode": "immediate",
              "transition": {
               "duration": 0,
               "easing": "linear"
              }
             }
            ],
            "label": "5",
            "method": "animate"
           },
           {
            "args": [
             [
              "4"
             ],
             {
              "frame": {
               "duration": 0,
               "redraw": false
              },
              "fromcurrent": true,
              "mode": "immediate",
              "transition": {
               "duration": 0,
               "easing": "linear"
              }
             }
            ],
            "label": "4",
            "method": "animate"
           },
           {
            "args": [
             [
              "3"
             ],
             {
              "frame": {
               "duration": 0,
               "redraw": false
              },
              "fromcurrent": true,
              "mode": "immediate",
              "transition": {
               "duration": 0,
               "easing": "linear"
              }
             }
            ],
            "label": "3",
            "method": "animate"
           },
           {
            "args": [
             [
              "2"
             ],
             {
              "frame": {
               "duration": 0,
               "redraw": false
              },
              "fromcurrent": true,
              "mode": "immediate",
              "transition": {
               "duration": 0,
               "easing": "linear"
              }
             }
            ],
            "label": "2",
            "method": "animate"
           },
           {
            "args": [
             [
              "1"
             ],
             {
              "frame": {
               "duration": 0,
               "redraw": false
              },
              "fromcurrent": true,
              "mode": "immediate",
              "transition": {
               "duration": 0,
               "easing": "linear"
              }
             }
            ],
            "label": "1",
            "method": "animate"
           },
           {
            "args": [
             [
              "12"
             ],
             {
              "frame": {
               "duration": 0,
               "redraw": false
              },
              "fromcurrent": true,
              "mode": "immediate",
              "transition": {
               "duration": 0,
               "easing": "linear"
              }
             }
            ],
            "label": "12",
            "method": "animate"
           },
           {
            "args": [
             [
              "11"
             ],
             {
              "frame": {
               "duration": 0,
               "redraw": false
              },
              "fromcurrent": true,
              "mode": "immediate",
              "transition": {
               "duration": 0,
               "easing": "linear"
              }
             }
            ],
            "label": "11",
            "method": "animate"
           },
           {
            "args": [
             [
              "10"
             ],
             {
              "frame": {
               "duration": 0,
               "redraw": false
              },
              "fromcurrent": true,
              "mode": "immediate",
              "transition": {
               "duration": 0,
               "easing": "linear"
              }
             }
            ],
            "label": "10",
            "method": "animate"
           },
           {
            "args": [
             [
              "9"
             ],
             {
              "frame": {
               "duration": 0,
               "redraw": false
              },
              "fromcurrent": true,
              "mode": "immediate",
              "transition": {
               "duration": 0,
               "easing": "linear"
              }
             }
            ],
            "label": "9",
            "method": "animate"
           },
           {
            "args": [
             [
              "8"
             ],
             {
              "frame": {
               "duration": 0,
               "redraw": false
              },
              "fromcurrent": true,
              "mode": "immediate",
              "transition": {
               "duration": 0,
               "easing": "linear"
              }
             }
            ],
            "label": "8",
            "method": "animate"
           },
           {
            "args": [
             [
              "7"
             ],
             {
              "frame": {
               "duration": 0,
               "redraw": false
              },
              "fromcurrent": true,
              "mode": "immediate",
              "transition": {
               "duration": 0,
               "easing": "linear"
              }
             }
            ],
            "label": "7",
            "method": "animate"
           },
           {
            "args": [
             [
              "6"
             ],
             {
              "frame": {
               "duration": 0,
               "redraw": false
              },
              "fromcurrent": true,
              "mode": "immediate",
              "transition": {
               "duration": 0,
               "easing": "linear"
              }
             }
            ],
            "label": "6",
            "method": "animate"
           }
          ],
          "x": 0.1,
          "xanchor": "left",
          "y": 0,
          "yanchor": "top"
         }
        ],
        "template": {
         "data": {
          "bar": [
           {
            "error_x": {
             "color": "#2a3f5f"
            },
            "error_y": {
             "color": "#2a3f5f"
            },
            "marker": {
             "line": {
              "color": "#E5ECF6",
              "width": 0.5
             },
             "pattern": {
              "fillmode": "overlay",
              "size": 10,
              "solidity": 0.2
             }
            },
            "type": "bar"
           }
          ],
          "barpolar": [
           {
            "marker": {
             "line": {
              "color": "#E5ECF6",
              "width": 0.5
             },
             "pattern": {
              "fillmode": "overlay",
              "size": 10,
              "solidity": 0.2
             }
            },
            "type": "barpolar"
           }
          ],
          "carpet": [
           {
            "aaxis": {
             "endlinecolor": "#2a3f5f",
             "gridcolor": "white",
             "linecolor": "white",
             "minorgridcolor": "white",
             "startlinecolor": "#2a3f5f"
            },
            "baxis": {
             "endlinecolor": "#2a3f5f",
             "gridcolor": "white",
             "linecolor": "white",
             "minorgridcolor": "white",
             "startlinecolor": "#2a3f5f"
            },
            "type": "carpet"
           }
          ],
          "choropleth": [
           {
            "colorbar": {
             "outlinewidth": 0,
             "ticks": ""
            },
            "type": "choropleth"
           }
          ],
          "contour": [
           {
            "colorbar": {
             "outlinewidth": 0,
             "ticks": ""
            },
            "colorscale": [
             [
              0,
              "#0d0887"
             ],
             [
              0.1111111111111111,
              "#46039f"
             ],
             [
              0.2222222222222222,
              "#7201a8"
             ],
             [
              0.3333333333333333,
              "#9c179e"
             ],
             [
              0.4444444444444444,
              "#bd3786"
             ],
             [
              0.5555555555555556,
              "#d8576b"
             ],
             [
              0.6666666666666666,
              "#ed7953"
             ],
             [
              0.7777777777777778,
              "#fb9f3a"
             ],
             [
              0.8888888888888888,
              "#fdca26"
             ],
             [
              1,
              "#f0f921"
             ]
            ],
            "type": "contour"
           }
          ],
          "contourcarpet": [
           {
            "colorbar": {
             "outlinewidth": 0,
             "ticks": ""
            },
            "type": "contourcarpet"
           }
          ],
          "heatmap": [
           {
            "colorbar": {
             "outlinewidth": 0,
             "ticks": ""
            },
            "colorscale": [
             [
              0,
              "#0d0887"
             ],
             [
              0.1111111111111111,
              "#46039f"
             ],
             [
              0.2222222222222222,
              "#7201a8"
             ],
             [
              0.3333333333333333,
              "#9c179e"
             ],
             [
              0.4444444444444444,
              "#bd3786"
             ],
             [
              0.5555555555555556,
              "#d8576b"
             ],
             [
              0.6666666666666666,
              "#ed7953"
             ],
             [
              0.7777777777777778,
              "#fb9f3a"
             ],
             [
              0.8888888888888888,
              "#fdca26"
             ],
             [
              1,
              "#f0f921"
             ]
            ],
            "type": "heatmap"
           }
          ],
          "heatmapgl": [
           {
            "colorbar": {
             "outlinewidth": 0,
             "ticks": ""
            },
            "colorscale": [
             [
              0,
              "#0d0887"
             ],
             [
              0.1111111111111111,
              "#46039f"
             ],
             [
              0.2222222222222222,
              "#7201a8"
             ],
             [
              0.3333333333333333,
              "#9c179e"
             ],
             [
              0.4444444444444444,
              "#bd3786"
             ],
             [
              0.5555555555555556,
              "#d8576b"
             ],
             [
              0.6666666666666666,
              "#ed7953"
             ],
             [
              0.7777777777777778,
              "#fb9f3a"
             ],
             [
              0.8888888888888888,
              "#fdca26"
             ],
             [
              1,
              "#f0f921"
             ]
            ],
            "type": "heatmapgl"
           }
          ],
          "histogram": [
           {
            "marker": {
             "pattern": {
              "fillmode": "overlay",
              "size": 10,
              "solidity": 0.2
             }
            },
            "type": "histogram"
           }
          ],
          "histogram2d": [
           {
            "colorbar": {
             "outlinewidth": 0,
             "ticks": ""
            },
            "colorscale": [
             [
              0,
              "#0d0887"
             ],
             [
              0.1111111111111111,
              "#46039f"
             ],
             [
              0.2222222222222222,
              "#7201a8"
             ],
             [
              0.3333333333333333,
              "#9c179e"
             ],
             [
              0.4444444444444444,
              "#bd3786"
             ],
             [
              0.5555555555555556,
              "#d8576b"
             ],
             [
              0.6666666666666666,
              "#ed7953"
             ],
             [
              0.7777777777777778,
              "#fb9f3a"
             ],
             [
              0.8888888888888888,
              "#fdca26"
             ],
             [
              1,
              "#f0f921"
             ]
            ],
            "type": "histogram2d"
           }
          ],
          "histogram2dcontour": [
           {
            "colorbar": {
             "outlinewidth": 0,
             "ticks": ""
            },
            "colorscale": [
             [
              0,
              "#0d0887"
             ],
             [
              0.1111111111111111,
              "#46039f"
             ],
             [
              0.2222222222222222,
              "#7201a8"
             ],
             [
              0.3333333333333333,
              "#9c179e"
             ],
             [
              0.4444444444444444,
              "#bd3786"
             ],
             [
              0.5555555555555556,
              "#d8576b"
             ],
             [
              0.6666666666666666,
              "#ed7953"
             ],
             [
              0.7777777777777778,
              "#fb9f3a"
             ],
             [
              0.8888888888888888,
              "#fdca26"
             ],
             [
              1,
              "#f0f921"
             ]
            ],
            "type": "histogram2dcontour"
           }
          ],
          "mesh3d": [
           {
            "colorbar": {
             "outlinewidth": 0,
             "ticks": ""
            },
            "type": "mesh3d"
           }
          ],
          "parcoords": [
           {
            "line": {
             "colorbar": {
              "outlinewidth": 0,
              "ticks": ""
             }
            },
            "type": "parcoords"
           }
          ],
          "pie": [
           {
            "automargin": true,
            "type": "pie"
           }
          ],
          "scatter": [
           {
            "marker": {
             "colorbar": {
              "outlinewidth": 0,
              "ticks": ""
             }
            },
            "type": "scatter"
           }
          ],
          "scatter3d": [
           {
            "line": {
             "colorbar": {
              "outlinewidth": 0,
              "ticks": ""
             }
            },
            "marker": {
             "colorbar": {
              "outlinewidth": 0,
              "ticks": ""
             }
            },
            "type": "scatter3d"
           }
          ],
          "scattercarpet": [
           {
            "marker": {
             "colorbar": {
              "outlinewidth": 0,
              "ticks": ""
             }
            },
            "type": "scattercarpet"
           }
          ],
          "scattergeo": [
           {
            "marker": {
             "colorbar": {
              "outlinewidth": 0,
              "ticks": ""
             }
            },
            "type": "scattergeo"
           }
          ],
          "scattergl": [
           {
            "marker": {
             "colorbar": {
              "outlinewidth": 0,
              "ticks": ""
             }
            },
            "type": "scattergl"
           }
          ],
          "scattermapbox": [
           {
            "marker": {
             "colorbar": {
              "outlinewidth": 0,
              "ticks": ""
             }
            },
            "type": "scattermapbox"
           }
          ],
          "scatterpolar": [
           {
            "marker": {
             "colorbar": {
              "outlinewidth": 0,
              "ticks": ""
             }
            },
            "type": "scatterpolar"
           }
          ],
          "scatterpolargl": [
           {
            "marker": {
             "colorbar": {
              "outlinewidth": 0,
              "ticks": ""
             }
            },
            "type": "scatterpolargl"
           }
          ],
          "scatterternary": [
           {
            "marker": {
             "colorbar": {
              "outlinewidth": 0,
              "ticks": ""
             }
            },
            "type": "scatterternary"
           }
          ],
          "surface": [
           {
            "colorbar": {
             "outlinewidth": 0,
             "ticks": ""
            },
            "colorscale": [
             [
              0,
              "#0d0887"
             ],
             [
              0.1111111111111111,
              "#46039f"
             ],
             [
              0.2222222222222222,
              "#7201a8"
             ],
             [
              0.3333333333333333,
              "#9c179e"
             ],
             [
              0.4444444444444444,
              "#bd3786"
             ],
             [
              0.5555555555555556,
              "#d8576b"
             ],
             [
              0.6666666666666666,
              "#ed7953"
             ],
             [
              0.7777777777777778,
              "#fb9f3a"
             ],
             [
              0.8888888888888888,
              "#fdca26"
             ],
             [
              1,
              "#f0f921"
             ]
            ],
            "type": "surface"
           }
          ],
          "table": [
           {
            "cells": {
             "fill": {
              "color": "#EBF0F8"
             },
             "line": {
              "color": "white"
             }
            },
            "header": {
             "fill": {
              "color": "#C8D4E3"
             },
             "line": {
              "color": "white"
             }
            },
            "type": "table"
           }
          ]
         },
         "layout": {
          "annotationdefaults": {
           "arrowcolor": "#2a3f5f",
           "arrowhead": 0,
           "arrowwidth": 1
          },
          "autotypenumbers": "strict",
          "coloraxis": {
           "colorbar": {
            "outlinewidth": 0,
            "ticks": ""
           }
          },
          "colorscale": {
           "diverging": [
            [
             0,
             "#8e0152"
            ],
            [
             0.1,
             "#c51b7d"
            ],
            [
             0.2,
             "#de77ae"
            ],
            [
             0.3,
             "#f1b6da"
            ],
            [
             0.4,
             "#fde0ef"
            ],
            [
             0.5,
             "#f7f7f7"
            ],
            [
             0.6,
             "#e6f5d0"
            ],
            [
             0.7,
             "#b8e186"
            ],
            [
             0.8,
             "#7fbc41"
            ],
            [
             0.9,
             "#4d9221"
            ],
            [
             1,
             "#276419"
            ]
           ],
           "sequential": [
            [
             0,
             "#0d0887"
            ],
            [
             0.1111111111111111,
             "#46039f"
            ],
            [
             0.2222222222222222,
             "#7201a8"
            ],
            [
             0.3333333333333333,
             "#9c179e"
            ],
            [
             0.4444444444444444,
             "#bd3786"
            ],
            [
             0.5555555555555556,
             "#d8576b"
            ],
            [
             0.6666666666666666,
             "#ed7953"
            ],
            [
             0.7777777777777778,
             "#fb9f3a"
            ],
            [
             0.8888888888888888,
             "#fdca26"
            ],
            [
             1,
             "#f0f921"
            ]
           ],
           "sequentialminus": [
            [
             0,
             "#0d0887"
            ],
            [
             0.1111111111111111,
             "#46039f"
            ],
            [
             0.2222222222222222,
             "#7201a8"
            ],
            [
             0.3333333333333333,
             "#9c179e"
            ],
            [
             0.4444444444444444,
             "#bd3786"
            ],
            [
             0.5555555555555556,
             "#d8576b"
            ],
            [
             0.6666666666666666,
             "#ed7953"
            ],
            [
             0.7777777777777778,
             "#fb9f3a"
            ],
            [
             0.8888888888888888,
             "#fdca26"
            ],
            [
             1,
             "#f0f921"
            ]
           ]
          },
          "colorway": [
           "#636efa",
           "#EF553B",
           "#00cc96",
           "#ab63fa",
           "#FFA15A",
           "#19d3f3",
           "#FF6692",
           "#B6E880",
           "#FF97FF",
           "#FECB52"
          ],
          "font": {
           "color": "#2a3f5f"
          },
          "geo": {
           "bgcolor": "white",
           "lakecolor": "white",
           "landcolor": "#E5ECF6",
           "showlakes": true,
           "showland": true,
           "subunitcolor": "white"
          },
          "hoverlabel": {
           "align": "left"
          },
          "hovermode": "closest",
          "mapbox": {
           "style": "light"
          },
          "paper_bgcolor": "white",
          "plot_bgcolor": "#E5ECF6",
          "polar": {
           "angularaxis": {
            "gridcolor": "white",
            "linecolor": "white",
            "ticks": ""
           },
           "bgcolor": "#E5ECF6",
           "radialaxis": {
            "gridcolor": "white",
            "linecolor": "white",
            "ticks": ""
           }
          },
          "scene": {
           "xaxis": {
            "backgroundcolor": "#E5ECF6",
            "gridcolor": "white",
            "gridwidth": 2,
            "linecolor": "white",
            "showbackground": true,
            "ticks": "",
            "zerolinecolor": "white"
           },
           "yaxis": {
            "backgroundcolor": "#E5ECF6",
            "gridcolor": "white",
            "gridwidth": 2,
            "linecolor": "white",
            "showbackground": true,
            "ticks": "",
            "zerolinecolor": "white"
           },
           "zaxis": {
            "backgroundcolor": "#E5ECF6",
            "gridcolor": "white",
            "gridwidth": 2,
            "linecolor": "white",
            "showbackground": true,
            "ticks": "",
            "zerolinecolor": "white"
           }
          },
          "shapedefaults": {
           "line": {
            "color": "#2a3f5f"
           }
          },
          "ternary": {
           "aaxis": {
            "gridcolor": "white",
            "linecolor": "white",
            "ticks": ""
           },
           "baxis": {
            "gridcolor": "white",
            "linecolor": "white",
            "ticks": ""
           },
           "bgcolor": "#E5ECF6",
           "caxis": {
            "gridcolor": "white",
            "linecolor": "white",
            "ticks": ""
           }
          },
          "title": {
           "x": 0.05
          },
          "xaxis": {
           "automargin": true,
           "gridcolor": "white",
           "linecolor": "white",
           "ticks": "",
           "title": {
            "standoff": 15
           },
           "zerolinecolor": "white",
           "zerolinewidth": 2
          },
          "yaxis": {
           "automargin": true,
           "gridcolor": "white",
           "linecolor": "white",
           "ticks": "",
           "title": {
            "standoff": 15
           },
           "zerolinecolor": "white",
           "zerolinewidth": 2
          }
         }
        },
        "title": {
         "text": "Tasa de cambio representativa del mercado (TRM) por Mes"
        },
        "updatemenus": [
         {
          "buttons": [
           {
            "args": [
             null,
             {
              "frame": {
               "duration": 500,
               "redraw": false
              },
              "fromcurrent": true,
              "mode": "immediate",
              "transition": {
               "duration": 500,
               "easing": "linear"
              }
             }
            ],
            "label": "&#9654;",
            "method": "animate"
           },
           {
            "args": [
             [
              null
             ],
             {
              "frame": {
               "duration": 0,
               "redraw": false
              },
              "fromcurrent": true,
              "mode": "immediate",
              "transition": {
               "duration": 0,
               "easing": "linear"
              }
             }
            ],
            "label": "&#9724;",
            "method": "animate"
           }
          ],
          "direction": "left",
          "pad": {
           "r": 10,
           "t": 70
          },
          "showactive": false,
          "type": "buttons",
          "x": 0.1,
          "xanchor": "right",
          "y": 0,
          "yanchor": "top"
         }
        ],
        "xaxis": {
         "anchor": "y",
         "domain": [
          0,
          1
         ],
         "title": {
          "text": "Mes"
         }
        },
        "yaxis": {
         "anchor": "x",
         "domain": [
          0,
          1
         ],
         "range": [
          3771.63,
          5061.21
         ],
         "title": {
          "text": "TRM"
         }
        }
       }
      }
     },
     "metadata": {},
     "output_type": "display_data"
    }
   ],
   "source": [
    "import pandas as pd\n",
    "import plotly.express as px\n",
    "\n",
    "# Ruta del archivo Excel\n",
    "archivo_excel = '../data/1.1.16.TCM_Serie historica_ultimos_doce meses.xlsx'\n",
    "\n",
    "# Lee el archivo Excel y omite las primeras siete filas y las cuatro últimas\n",
    "df = pd.read_excel(archivo_excel, skiprows=7, skipfooter=4)\n",
    "\n",
    "# Convierte la columna 'Fecha (dd/mm/aaaa)' al formato de fecha\n",
    "df['Fecha (dd/mm/aaaa)'] = pd.to_datetime(df['Fecha (dd/mm/aaaa)'], format='%d/%m/%Y')\n",
    "\n",
    "# Crea las columnas 'Día', 'Mes' y 'Año'\n",
    "df['Día'] = df['Fecha (dd/mm/aaaa)'].dt.day\n",
    "df['Mes'] = df['Fecha (dd/mm/aaaa)'].dt.month\n",
    "df['Año'] = df['Fecha (dd/mm/aaaa)'].dt.year\n",
    "\n",
    "# Crea la animación\n",
    "fig = px.line(df, x='Día', y='Tasa de cambio representativa del mercado (TRM)', animation_frame='Mes', range_y=[df['Tasa de cambio representativa del mercado (TRM)'].min(), df['Tasa de cambio representativa del mercado (TRM)'].max()])\n",
    "\n",
    "# Configura los títulos y etiquetas de los ejes\n",
    "fig.update_layout(title='Tasa de cambio representativa del mercado (TRM) por Mes', xaxis_title='Mes', yaxis_title='TRM')\n",
    "\n",
    "# Muestra la animación\n",
    "fig.show()\n"
   ]
  },
  {
   "attachments": {},
   "cell_type": "markdown",
   "metadata": {},
   "source": [
    "### 2.5. Animación de los datos sin interpolación\n",
    "\n",
    "**Prompt ChatGPT**: En la animación anterior, por favor, solo muestra puntos sin interpolar."
   ]
  },
  {
   "cell_type": "code",
   "execution_count": 5,
   "metadata": {},
   "outputs": [
    {
     "data": {
      "application/vnd.plotly.v1+json": {
       "config": {
        "plotlyServerURL": "https://plot.ly"
       },
       "data": [
        {
         "hovertemplate": "Mes=5<br>Día=%{x}<br>Tasa de cambio representativa del mercado (TRM)=%{y}<br>Año=%{marker.color}<extra></extra>",
         "legendgroup": "",
         "marker": {
          "color": [
           2023,
           2023,
           2023,
           2023,
           2023,
           2023,
           2023,
           2023,
           2022,
           2022,
           2022,
           2022,
           2022,
           2022,
           2022,
           2022,
           2022,
           2022,
           2022,
           2022,
           2022,
           2022,
           2022,
           2022,
           2022,
           2022,
           2022,
           2022,
           2022,
           2022,
           2022,
           2022
          ],
          "coloraxis": "coloraxis",
          "symbol": "circle"
         },
         "mode": "markers",
         "name": "",
         "orientation": "v",
         "showlegend": false,
         "type": "scatter",
         "x": [
          8,
          7,
          6,
          5,
          4,
          3,
          2,
          1,
          31,
          30,
          29,
          28,
          27,
          26,
          25,
          24,
          23,
          22,
          21,
          20,
          19,
          18,
          17,
          16,
          15,
          14,
          13,
          12,
          11,
          10,
          9,
          8
         ],
         "xaxis": "x",
         "y": [
          4552.56,
          4552.56,
          4552.56,
          4616.58,
          4667.09,
          4713.08,
          4669,
          4669,
          3912.34,
          3912.34,
          3912.34,
          3912.34,
          3930.89,
          3959.05,
          3971.28,
          3950.35,
          3989.84,
          3989.84,
          3989.84,
          4050.88,
          4054.71,
          4033.85,
          4070.25,
          4110.53,
          4110.53,
          4110.53,
          4109.71,
          4080.32,
          4086.71,
          4085.76,
          4053.93,
          4053.93
         ],
         "yaxis": "y"
        }
       ],
       "frames": [
        {
         "data": [
          {
           "hovertemplate": "Mes=5<br>Día=%{x}<br>Tasa de cambio representativa del mercado (TRM)=%{y}<br>Año=%{marker.color}<extra></extra>",
           "legendgroup": "",
           "marker": {
            "color": [
             2023,
             2023,
             2023,
             2023,
             2023,
             2023,
             2023,
             2023,
             2022,
             2022,
             2022,
             2022,
             2022,
             2022,
             2022,
             2022,
             2022,
             2022,
             2022,
             2022,
             2022,
             2022,
             2022,
             2022,
             2022,
             2022,
             2022,
             2022,
             2022,
             2022,
             2022,
             2022
            ],
            "coloraxis": "coloraxis",
            "symbol": "circle"
           },
           "mode": "markers",
           "name": "",
           "orientation": "v",
           "showlegend": false,
           "type": "scatter",
           "x": [
            8,
            7,
            6,
            5,
            4,
            3,
            2,
            1,
            31,
            30,
            29,
            28,
            27,
            26,
            25,
            24,
            23,
            22,
            21,
            20,
            19,
            18,
            17,
            16,
            15,
            14,
            13,
            12,
            11,
            10,
            9,
            8
           ],
           "xaxis": "x",
           "y": [
            4552.56,
            4552.56,
            4552.56,
            4616.58,
            4667.09,
            4713.08,
            4669,
            4669,
            3912.34,
            3912.34,
            3912.34,
            3912.34,
            3930.89,
            3959.05,
            3971.28,
            3950.35,
            3989.84,
            3989.84,
            3989.84,
            4050.88,
            4054.71,
            4033.85,
            4070.25,
            4110.53,
            4110.53,
            4110.53,
            4109.71,
            4080.32,
            4086.71,
            4085.76,
            4053.93,
            4053.93
           ],
           "yaxis": "y"
          }
         ],
         "name": "5"
        },
        {
         "data": [
          {
           "hovertemplate": "Mes=4<br>Día=%{x}<br>Tasa de cambio representativa del mercado (TRM)=%{y}<br>Año=%{marker.color}<extra></extra>",
           "legendgroup": "",
           "marker": {
            "color": [
             2023,
             2023,
             2023,
             2023,
             2023,
             2023,
             2023,
             2023,
             2023,
             2023,
             2023,
             2023,
             2023,
             2023,
             2023,
             2023,
             2023,
             2023,
             2023,
             2023,
             2023,
             2023,
             2023,
             2023,
             2023,
             2023,
             2023,
             2023,
             2023,
             2023
            ],
            "coloraxis": "coloraxis",
            "symbol": "circle"
           },
           "mode": "markers",
           "name": "",
           "orientation": "v",
           "showlegend": false,
           "type": "scatter",
           "x": [
            30,
            29,
            28,
            27,
            26,
            25,
            24,
            23,
            22,
            21,
            20,
            19,
            18,
            17,
            16,
            15,
            14,
            13,
            12,
            11,
            10,
            9,
            8,
            7,
            6,
            5,
            4,
            3,
            2,
            1
           ],
           "xaxis": "x",
           "y": [
            4669,
            4669,
            4654.14,
            4552.59,
            4486.6,
            4482.45,
            4523.64,
            4523.64,
            4523.64,
            4535.78,
            4532.43,
            4473.07,
            4431.45,
            4425.27,
            4425.27,
            4425.27,
            4424.02,
            4458.87,
            4516.76,
            4564.24,
            4570.91,
            4570.91,
            4570.91,
            4570.91,
            4570.91,
            4587.31,
            4603,
            4646.08,
            4646.08,
            4646.08
           ],
           "yaxis": "y"
          }
         ],
         "name": "4"
        },
        {
         "data": [
          {
           "hovertemplate": "Mes=3<br>Día=%{x}<br>Tasa de cambio representativa del mercado (TRM)=%{y}<br>Año=%{marker.color}<extra></extra>",
           "legendgroup": "",
           "marker": {
            "color": [
             2023,
             2023,
             2023,
             2023,
             2023,
             2023,
             2023,
             2023,
             2023,
             2023,
             2023,
             2023,
             2023,
             2023,
             2023,
             2023,
             2023,
             2023,
             2023,
             2023,
             2023,
             2023,
             2023,
             2023,
             2023,
             2023,
             2023,
             2023,
             2023,
             2023,
             2023
            ],
            "coloraxis": "coloraxis",
            "symbol": "circle"
           },
           "mode": "markers",
           "name": "",
           "orientation": "v",
           "showlegend": false,
           "type": "scatter",
           "x": [
            31,
            30,
            29,
            28,
            27,
            26,
            25,
            24,
            23,
            22,
            21,
            20,
            19,
            18,
            17,
            16,
            15,
            14,
            13,
            12,
            11,
            10,
            9,
            8,
            7,
            6,
            5,
            4,
            3,
            2,
            1
           ],
           "xaxis": "x",
           "y": [
            4627.27,
            4627.63,
            4658.79,
            4686.83,
            4741.76,
            4741.76,
            4741.76,
            4755.12,
            4776.09,
            4804.29,
            4824.25,
            4824.25,
            4824.25,
            4824.25,
            4866.5,
            4835.51,
            4736.03,
            4769.76,
            4748.14,
            4748.14,
            4748.14,
            4748.61,
            4755.59,
            4744.95,
            4734.42,
            4780.89,
            4780.89,
            4780.89,
            4855.83,
            4848.78,
            4814.11
           ],
           "yaxis": "y"
          }
         ],
         "name": "3"
        },
        {
         "data": [
          {
           "hovertemplate": "Mes=2<br>Día=%{x}<br>Tasa de cambio representativa del mercado (TRM)=%{y}<br>Año=%{marker.color}<extra></extra>",
           "legendgroup": "",
           "marker": {
            "color": [
             2023,
             2023,
             2023,
             2023,
             2023,
             2023,
             2023,
             2023,
             2023,
             2023,
             2023,
             2023,
             2023,
             2023,
             2023,
             2023,
             2023,
             2023,
             2023,
             2023,
             2023,
             2023,
             2023,
             2023,
             2023,
             2023,
             2023,
             2023
            ],
            "coloraxis": "coloraxis",
            "symbol": "circle"
           },
           "mode": "markers",
           "name": "",
           "orientation": "v",
           "showlegend": false,
           "type": "scatter",
           "x": [
            28,
            27,
            26,
            25,
            24,
            23,
            22,
            21,
            20,
            19,
            18,
            17,
            16,
            15,
            14,
            13,
            12,
            11,
            10,
            9,
            8,
            7,
            6,
            5,
            4,
            3,
            2,
            1
           ],
           "xaxis": "x",
           "y": [
            4808.14,
            4849.65,
            4849.65,
            4849.65,
            4853.9,
            4924.91,
            4950.33,
            4918.94,
            4918.94,
            4918.94,
            4918.94,
            4966.33,
            4878.24,
            4783.24,
            4818.62,
            4777.73,
            4777.73,
            4777.73,
            4742.05,
            4769.85,
            4775.99,
            4776.25,
            4669.74,
            4669.74,
            4669.74,
            4584.44,
            4639.04,
            4648.7
           ],
           "yaxis": "y"
          }
         ],
         "name": "2"
        },
        {
         "data": [
          {
           "hovertemplate": "Mes=1<br>Día=%{x}<br>Tasa de cambio representativa del mercado (TRM)=%{y}<br>Año=%{marker.color}<extra></extra>",
           "legendgroup": "",
           "marker": {
            "color": [
             2023,
             2023,
             2023,
             2023,
             2023,
             2023,
             2023,
             2023,
             2023,
             2023,
             2023,
             2023,
             2023,
             2023,
             2023,
             2023,
             2023,
             2023,
             2023,
             2023,
             2023,
             2023,
             2023,
             2023,
             2023,
             2023,
             2023,
             2023,
             2023,
             2023,
             2023
            ],
            "coloraxis": "coloraxis",
            "symbol": "circle"
           },
           "mode": "markers",
           "name": "",
           "orientation": "v",
           "showlegend": false,
           "type": "scatter",
           "x": [
            31,
            30,
            29,
            28,
            27,
            26,
            25,
            24,
            23,
            22,
            21,
            20,
            19,
            18,
            17,
            16,
            15,
            14,
            13,
            12,
            11,
            10,
            9,
            8,
            7,
            6,
            5,
            4,
            3,
            2,
            1
           ],
           "xaxis": "x",
           "y": [
            4632.2,
            4548.5,
            4548.5,
            4548.5,
            4531.75,
            4538.91,
            4545.94,
            4551.02,
            4631.64,
            4631.64,
            4631.64,
            4683.85,
            4702.67,
            4691.09,
            4693.99,
            4693.99,
            4693.99,
            4693.99,
            4692.04,
            4748.54,
            4807.85,
            4885.66,
            4885.66,
            4885.66,
            4885.66,
            4989.58,
            4924,
            4842.26,
            4810.2,
            4810.2,
            4810.2
           ],
           "yaxis": "y"
          }
         ],
         "name": "1"
        },
        {
         "data": [
          {
           "hovertemplate": "Mes=12<br>Día=%{x}<br>Tasa de cambio representativa del mercado (TRM)=%{y}<br>Año=%{marker.color}<extra></extra>",
           "legendgroup": "",
           "marker": {
            "color": [
             2022,
             2022,
             2022,
             2022,
             2022,
             2022,
             2022,
             2022,
             2022,
             2022,
             2022,
             2022,
             2022,
             2022,
             2022,
             2022,
             2022,
             2022,
             2022,
             2022,
             2022,
             2022,
             2022,
             2022,
             2022,
             2022,
             2022,
             2022,
             2022,
             2022,
             2022
            ],
            "coloraxis": "coloraxis",
            "symbol": "circle"
           },
           "mode": "markers",
           "name": "",
           "orientation": "v",
           "showlegend": false,
           "type": "scatter",
           "x": [
            31,
            30,
            29,
            28,
            27,
            26,
            25,
            24,
            23,
            22,
            21,
            20,
            19,
            18,
            17,
            16,
            15,
            14,
            13,
            12,
            11,
            10,
            9,
            8,
            7,
            6,
            5,
            4,
            3,
            2,
            1
           ],
           "xaxis": "x",
           "y": [
            4810.2,
            4810.2,
            4765.92,
            4766.82,
            4745.04,
            4745.04,
            4745.04,
            4745.04,
            4760.61,
            4761.64,
            4769.29,
            4781.28,
            4802.48,
            4802.48,
            4802.48,
            4797.02,
            4778.28,
            4791.57,
            4836.24,
            4815.99,
            4815.99,
            4815.99,
            4825.83,
            4825.83,
            4818.32,
            4812.37,
            4767.19,
            4767.19,
            4767.19,
            4779.06,
            4815.59
           ],
           "yaxis": "y"
          }
         ],
         "name": "12"
        },
        {
         "data": [
          {
           "hovertemplate": "Mes=11<br>Día=%{x}<br>Tasa de cambio representativa del mercado (TRM)=%{y}<br>Año=%{marker.color}<extra></extra>",
           "legendgroup": "",
           "marker": {
            "color": [
             2022,
             2022,
             2022,
             2022,
             2022,
             2022,
             2022,
             2022,
             2022,
             2022,
             2022,
             2022,
             2022,
             2022,
             2022,
             2022,
             2022,
             2022,
             2022,
             2022,
             2022,
             2022,
             2022,
             2022,
             2022,
             2022,
             2022,
             2022,
             2022,
             2022
            ],
            "coloraxis": "coloraxis",
            "symbol": "circle"
           },
           "mode": "markers",
           "name": "",
           "orientation": "v",
           "showlegend": false,
           "type": "scatter",
           "x": [
            30,
            29,
            28,
            27,
            26,
            25,
            24,
            23,
            22,
            21,
            20,
            19,
            18,
            17,
            16,
            15,
            14,
            13,
            12,
            11,
            10,
            9,
            8,
            7,
            6,
            5,
            4,
            3,
            2,
            1
           ],
           "xaxis": "x",
           "y": [
            4809.51,
            4840.6,
            4881.41,
            4881.41,
            4881.41,
            4875.91,
            4875.91,
            4914.34,
            4958.42,
            4994.61,
            4994.61,
            4994.61,
            5022.03,
            4922.7,
            4801.06,
            4806.07,
            4806.07,
            4806.07,
            4806.07,
            4806.07,
            4914.71,
            5013.2,
            5061.21,
            5061.21,
            5061.21,
            5061.21,
            5058.02,
            5015.84,
            4975.58,
            4898.74
           ],
           "yaxis": "y"
          }
         ],
         "name": "11"
        },
        {
         "data": [
          {
           "hovertemplate": "Mes=10<br>Día=%{x}<br>Tasa de cambio representativa del mercado (TRM)=%{y}<br>Año=%{marker.color}<extra></extra>",
           "legendgroup": "",
           "marker": {
            "color": [
             2022,
             2022,
             2022,
             2022,
             2022,
             2022,
             2022,
             2022,
             2022,
             2022,
             2022,
             2022,
             2022,
             2022,
             2022,
             2022,
             2022,
             2022,
             2022,
             2022,
             2022,
             2022,
             2022,
             2022,
             2022,
             2022,
             2022,
             2022,
             2022,
             2022,
             2022
            ],
            "coloraxis": "coloraxis",
            "symbol": "circle"
           },
           "mode": "markers",
           "name": "",
           "orientation": "v",
           "showlegend": false,
           "type": "scatter",
           "x": [
            31,
            30,
            29,
            28,
            27,
            26,
            25,
            24,
            23,
            22,
            21,
            20,
            19,
            18,
            17,
            16,
            15,
            14,
            13,
            12,
            11,
            10,
            9,
            8,
            7,
            6,
            5,
            4,
            3,
            2,
            1
           ],
           "xaxis": "x",
           "y": [
            4819.42,
            4819.42,
            4819.42,
            4821.92,
            4895.29,
            4948.14,
            4968.94,
            4913.24,
            4913.24,
            4913.24,
            4885.5,
            4815.09,
            4744.04,
            4636.83,
            4636.83,
            4636.83,
            4636.83,
            4619.78,
            4611.18,
            4611.88,
            4605.29,
            4605.29,
            4605.29,
            4605.29,
            4627.61,
            4548.89,
            4484.74,
            4545.66,
            4590.54,
            4590.54,
            4590.54
           ],
           "yaxis": "y"
          }
         ],
         "name": "10"
        },
        {
         "data": [
          {
           "hovertemplate": "Mes=9<br>Día=%{x}<br>Tasa de cambio representativa del mercado (TRM)=%{y}<br>Año=%{marker.color}<extra></extra>",
           "legendgroup": "",
           "marker": {
            "color": [
             2022,
             2022,
             2022,
             2022,
             2022,
             2022,
             2022,
             2022,
             2022,
             2022,
             2022,
             2022,
             2022,
             2022,
             2022,
             2022,
             2022,
             2022,
             2022,
             2022,
             2022,
             2022,
             2022,
             2022,
             2022,
             2022,
             2022,
             2022,
             2022,
             2022
            ],
            "coloraxis": "coloraxis",
            "symbol": "circle"
           },
           "mode": "markers",
           "name": "",
           "orientation": "v",
           "showlegend": false,
           "type": "scatter",
           "x": [
            30,
            29,
            28,
            27,
            26,
            25,
            24,
            23,
            22,
            21,
            20,
            19,
            18,
            17,
            16,
            15,
            14,
            13,
            12,
            11,
            10,
            9,
            8,
            7,
            6,
            5,
            4,
            3,
            2,
            1
           ],
           "xaxis": "x",
           "y": [
            4532.07,
            4486.94,
            4556.42,
            4496.99,
            4426.47,
            4426.47,
            4426.47,
            4379.8,
            4403.82,
            4420.38,
            4415.11,
            4435.84,
            4435.84,
            4435.84,
            4404.64,
            4389.8,
            4413.89,
            4346.91,
            4365.32,
            4365.32,
            4365.32,
            4396.69,
            4446.36,
            4480.1,
            4466.73,
            4466.73,
            4466.73,
            4466.73,
            4467.03,
            4422.77
           ],
           "yaxis": "y"
          }
         ],
         "name": "9"
        },
        {
         "data": [
          {
           "hovertemplate": "Mes=8<br>Día=%{x}<br>Tasa de cambio representativa del mercado (TRM)=%{y}<br>Año=%{marker.color}<extra></extra>",
           "legendgroup": "",
           "marker": {
            "color": [
             2022,
             2022,
             2022,
             2022,
             2022,
             2022,
             2022,
             2022,
             2022,
             2022,
             2022,
             2022,
             2022,
             2022,
             2022,
             2022,
             2022,
             2022,
             2022,
             2022,
             2022,
             2022,
             2022,
             2022,
             2022,
             2022,
             2022,
             2022,
             2022,
             2022,
             2022
            ],
            "coloraxis": "coloraxis",
            "symbol": "circle"
           },
           "mode": "markers",
           "name": "",
           "orientation": "v",
           "showlegend": false,
           "type": "scatter",
           "x": [
            31,
            30,
            29,
            28,
            27,
            26,
            25,
            24,
            23,
            22,
            21,
            20,
            19,
            18,
            17,
            16,
            15,
            14,
            13,
            12,
            11,
            10,
            9,
            8,
            7,
            6,
            5,
            4,
            3,
            2,
            1
           ],
           "xaxis": "x",
           "y": [
            4400.16,
            4386.13,
            4388.02,
            4388.02,
            4388.02,
            4407.95,
            4380.19,
            4374.45,
            4399.16,
            4400.25,
            4400.25,
            4400.25,
            4413.86,
            4316.47,
            4218.48,
            4185.49,
            4185.49,
            4185.49,
            4185.49,
            4231.45,
            4273.82,
            4309.69,
            4307.09,
            4337.28,
            4337.28,
            4337.28,
            4268.3,
            4331.15,
            4313.3,
            4245.99,
            4300.3
           ],
           "yaxis": "y"
          }
         ],
         "name": "8"
        },
        {
         "data": [
          {
           "hovertemplate": "Mes=7<br>Día=%{x}<br>Tasa de cambio representativa del mercado (TRM)=%{y}<br>Año=%{marker.color}<extra></extra>",
           "legendgroup": "",
           "marker": {
            "color": [
             2022,
             2022,
             2022,
             2022,
             2022,
             2022,
             2022,
             2022,
             2022,
             2022,
             2022,
             2022,
             2022,
             2022,
             2022,
             2022,
             2022,
             2022,
             2022,
             2022,
             2022,
             2022,
             2022,
             2022,
             2022,
             2022,
             2022,
             2022,
             2022,
             2022,
             2022
            ],
            "coloraxis": "coloraxis",
            "symbol": "circle"
           },
           "mode": "markers",
           "name": "",
           "orientation": "v",
           "showlegend": false,
           "type": "scatter",
           "x": [
            31,
            30,
            29,
            28,
            27,
            26,
            25,
            24,
            23,
            22,
            21,
            20,
            19,
            18,
            17,
            16,
            15,
            14,
            13,
            12,
            11,
            10,
            9,
            8,
            7,
            6,
            5,
            4,
            3,
            2,
            1
           ],
           "xaxis": "x",
           "y": [
            4300.3,
            4300.3,
            4375.51,
            4420.75,
            4445.01,
            4461.63,
            4423.86,
            4423.86,
            4423.86,
            4410.14,
            4303.34,
            4303.34,
            4315.41,
            4395.63,
            4395.63,
            4395.63,
            4519.65,
            4558.05,
            4627.46,
            4513.28,
            4388.27,
            4388.27,
            4388.27,
            4369.7,
            4348.68,
            4259.86,
            4198.77,
            4198.77,
            4198.77,
            4198.77,
            4151.21
           ],
           "yaxis": "y"
          }
         ],
         "name": "7"
        },
        {
         "data": [
          {
           "hovertemplate": "Mes=6<br>Día=%{x}<br>Tasa de cambio representativa del mercado (TRM)=%{y}<br>Año=%{marker.color}<extra></extra>",
           "legendgroup": "",
           "marker": {
            "color": [
             2022,
             2022,
             2022,
             2022,
             2022,
             2022,
             2022,
             2022,
             2022,
             2022,
             2022,
             2022,
             2022,
             2022,
             2022,
             2022,
             2022,
             2022,
             2022,
             2022,
             2022,
             2022,
             2022,
             2022,
             2022,
             2022,
             2022,
             2022,
             2022,
             2022
            ],
            "coloraxis": "coloraxis",
            "symbol": "circle"
           },
           "mode": "markers",
           "name": "",
           "orientation": "v",
           "showlegend": false,
           "type": "scatter",
           "x": [
            30,
            29,
            28,
            27,
            26,
            25,
            24,
            23,
            22,
            21,
            20,
            19,
            18,
            17,
            16,
            15,
            14,
            13,
            12,
            11,
            10,
            9,
            8,
            7,
            6,
            5,
            4,
            3,
            2,
            1
           ],
           "xaxis": "x",
           "y": [
            4127.47,
            4089.72,
            4129.87,
            4129.87,
            4129.87,
            4129.87,
            4068.75,
            4026.52,
            4026.92,
            3905.05,
            3905.05,
            3905.05,
            3905.05,
            3912.15,
            3923.96,
            3979.3,
            4016.5,
            3912.51,
            3912.51,
            3912.51,
            3833.34,
            3782.65,
            3790.88,
            3799.5,
            3771.63,
            3771.63,
            3771.63,
            3784.98,
            3791.74,
            3776.52
           ],
           "yaxis": "y"
          }
         ],
         "name": "6"
        }
       ],
       "layout": {
        "coloraxis": {
         "colorbar": {
          "title": {
           "text": "Año"
          }
         },
         "colorscale": [
          [
           0,
           "#0d0887"
          ],
          [
           0.1111111111111111,
           "#46039f"
          ],
          [
           0.2222222222222222,
           "#7201a8"
          ],
          [
           0.3333333333333333,
           "#9c179e"
          ],
          [
           0.4444444444444444,
           "#bd3786"
          ],
          [
           0.5555555555555556,
           "#d8576b"
          ],
          [
           0.6666666666666666,
           "#ed7953"
          ],
          [
           0.7777777777777778,
           "#fb9f3a"
          ],
          [
           0.8888888888888888,
           "#fdca26"
          ],
          [
           1,
           "#f0f921"
          ]
         ]
        },
        "legend": {
         "tracegroupgap": 0
        },
        "margin": {
         "t": 60
        },
        "sliders": [
         {
          "active": 0,
          "currentvalue": {
           "prefix": "Mes="
          },
          "len": 0.9,
          "pad": {
           "b": 10,
           "t": 60
          },
          "steps": [
           {
            "args": [
             [
              "5"
             ],
             {
              "frame": {
               "duration": 0,
               "redraw": false
              },
              "fromcurrent": true,
              "mode": "immediate",
              "transition": {
               "duration": 0,
               "easing": "linear"
              }
             }
            ],
            "label": "5",
            "method": "animate"
           },
           {
            "args": [
             [
              "4"
             ],
             {
              "frame": {
               "duration": 0,
               "redraw": false
              },
              "fromcurrent": true,
              "mode": "immediate",
              "transition": {
               "duration": 0,
               "easing": "linear"
              }
             }
            ],
            "label": "4",
            "method": "animate"
           },
           {
            "args": [
             [
              "3"
             ],
             {
              "frame": {
               "duration": 0,
               "redraw": false
              },
              "fromcurrent": true,
              "mode": "immediate",
              "transition": {
               "duration": 0,
               "easing": "linear"
              }
             }
            ],
            "label": "3",
            "method": "animate"
           },
           {
            "args": [
             [
              "2"
             ],
             {
              "frame": {
               "duration": 0,
               "redraw": false
              },
              "fromcurrent": true,
              "mode": "immediate",
              "transition": {
               "duration": 0,
               "easing": "linear"
              }
             }
            ],
            "label": "2",
            "method": "animate"
           },
           {
            "args": [
             [
              "1"
             ],
             {
              "frame": {
               "duration": 0,
               "redraw": false
              },
              "fromcurrent": true,
              "mode": "immediate",
              "transition": {
               "duration": 0,
               "easing": "linear"
              }
             }
            ],
            "label": "1",
            "method": "animate"
           },
           {
            "args": [
             [
              "12"
             ],
             {
              "frame": {
               "duration": 0,
               "redraw": false
              },
              "fromcurrent": true,
              "mode": "immediate",
              "transition": {
               "duration": 0,
               "easing": "linear"
              }
             }
            ],
            "label": "12",
            "method": "animate"
           },
           {
            "args": [
             [
              "11"
             ],
             {
              "frame": {
               "duration": 0,
               "redraw": false
              },
              "fromcurrent": true,
              "mode": "immediate",
              "transition": {
               "duration": 0,
               "easing": "linear"
              }
             }
            ],
            "label": "11",
            "method": "animate"
           },
           {
            "args": [
             [
              "10"
             ],
             {
              "frame": {
               "duration": 0,
               "redraw": false
              },
              "fromcurrent": true,
              "mode": "immediate",
              "transition": {
               "duration": 0,
               "easing": "linear"
              }
             }
            ],
            "label": "10",
            "method": "animate"
           },
           {
            "args": [
             [
              "9"
             ],
             {
              "frame": {
               "duration": 0,
               "redraw": false
              },
              "fromcurrent": true,
              "mode": "immediate",
              "transition": {
               "duration": 0,
               "easing": "linear"
              }
             }
            ],
            "label": "9",
            "method": "animate"
           },
           {
            "args": [
             [
              "8"
             ],
             {
              "frame": {
               "duration": 0,
               "redraw": false
              },
              "fromcurrent": true,
              "mode": "immediate",
              "transition": {
               "duration": 0,
               "easing": "linear"
              }
             }
            ],
            "label": "8",
            "method": "animate"
           },
           {
            "args": [
             [
              "7"
             ],
             {
              "frame": {
               "duration": 0,
               "redraw": false
              },
              "fromcurrent": true,
              "mode": "immediate",
              "transition": {
               "duration": 0,
               "easing": "linear"
              }
             }
            ],
            "label": "7",
            "method": "animate"
           },
           {
            "args": [
             [
              "6"
             ],
             {
              "frame": {
               "duration": 0,
               "redraw": false
              },
              "fromcurrent": true,
              "mode": "immediate",
              "transition": {
               "duration": 0,
               "easing": "linear"
              }
             }
            ],
            "label": "6",
            "method": "animate"
           }
          ],
          "x": 0.1,
          "xanchor": "left",
          "y": 0,
          "yanchor": "top"
         }
        ],
        "template": {
         "data": {
          "bar": [
           {
            "error_x": {
             "color": "#2a3f5f"
            },
            "error_y": {
             "color": "#2a3f5f"
            },
            "marker": {
             "line": {
              "color": "#E5ECF6",
              "width": 0.5
             },
             "pattern": {
              "fillmode": "overlay",
              "size": 10,
              "solidity": 0.2
             }
            },
            "type": "bar"
           }
          ],
          "barpolar": [
           {
            "marker": {
             "line": {
              "color": "#E5ECF6",
              "width": 0.5
             },
             "pattern": {
              "fillmode": "overlay",
              "size": 10,
              "solidity": 0.2
             }
            },
            "type": "barpolar"
           }
          ],
          "carpet": [
           {
            "aaxis": {
             "endlinecolor": "#2a3f5f",
             "gridcolor": "white",
             "linecolor": "white",
             "minorgridcolor": "white",
             "startlinecolor": "#2a3f5f"
            },
            "baxis": {
             "endlinecolor": "#2a3f5f",
             "gridcolor": "white",
             "linecolor": "white",
             "minorgridcolor": "white",
             "startlinecolor": "#2a3f5f"
            },
            "type": "carpet"
           }
          ],
          "choropleth": [
           {
            "colorbar": {
             "outlinewidth": 0,
             "ticks": ""
            },
            "type": "choropleth"
           }
          ],
          "contour": [
           {
            "colorbar": {
             "outlinewidth": 0,
             "ticks": ""
            },
            "colorscale": [
             [
              0,
              "#0d0887"
             ],
             [
              0.1111111111111111,
              "#46039f"
             ],
             [
              0.2222222222222222,
              "#7201a8"
             ],
             [
              0.3333333333333333,
              "#9c179e"
             ],
             [
              0.4444444444444444,
              "#bd3786"
             ],
             [
              0.5555555555555556,
              "#d8576b"
             ],
             [
              0.6666666666666666,
              "#ed7953"
             ],
             [
              0.7777777777777778,
              "#fb9f3a"
             ],
             [
              0.8888888888888888,
              "#fdca26"
             ],
             [
              1,
              "#f0f921"
             ]
            ],
            "type": "contour"
           }
          ],
          "contourcarpet": [
           {
            "colorbar": {
             "outlinewidth": 0,
             "ticks": ""
            },
            "type": "contourcarpet"
           }
          ],
          "heatmap": [
           {
            "colorbar": {
             "outlinewidth": 0,
             "ticks": ""
            },
            "colorscale": [
             [
              0,
              "#0d0887"
             ],
             [
              0.1111111111111111,
              "#46039f"
             ],
             [
              0.2222222222222222,
              "#7201a8"
             ],
             [
              0.3333333333333333,
              "#9c179e"
             ],
             [
              0.4444444444444444,
              "#bd3786"
             ],
             [
              0.5555555555555556,
              "#d8576b"
             ],
             [
              0.6666666666666666,
              "#ed7953"
             ],
             [
              0.7777777777777778,
              "#fb9f3a"
             ],
             [
              0.8888888888888888,
              "#fdca26"
             ],
             [
              1,
              "#f0f921"
             ]
            ],
            "type": "heatmap"
           }
          ],
          "heatmapgl": [
           {
            "colorbar": {
             "outlinewidth": 0,
             "ticks": ""
            },
            "colorscale": [
             [
              0,
              "#0d0887"
             ],
             [
              0.1111111111111111,
              "#46039f"
             ],
             [
              0.2222222222222222,
              "#7201a8"
             ],
             [
              0.3333333333333333,
              "#9c179e"
             ],
             [
              0.4444444444444444,
              "#bd3786"
             ],
             [
              0.5555555555555556,
              "#d8576b"
             ],
             [
              0.6666666666666666,
              "#ed7953"
             ],
             [
              0.7777777777777778,
              "#fb9f3a"
             ],
             [
              0.8888888888888888,
              "#fdca26"
             ],
             [
              1,
              "#f0f921"
             ]
            ],
            "type": "heatmapgl"
           }
          ],
          "histogram": [
           {
            "marker": {
             "pattern": {
              "fillmode": "overlay",
              "size": 10,
              "solidity": 0.2
             }
            },
            "type": "histogram"
           }
          ],
          "histogram2d": [
           {
            "colorbar": {
             "outlinewidth": 0,
             "ticks": ""
            },
            "colorscale": [
             [
              0,
              "#0d0887"
             ],
             [
              0.1111111111111111,
              "#46039f"
             ],
             [
              0.2222222222222222,
              "#7201a8"
             ],
             [
              0.3333333333333333,
              "#9c179e"
             ],
             [
              0.4444444444444444,
              "#bd3786"
             ],
             [
              0.5555555555555556,
              "#d8576b"
             ],
             [
              0.6666666666666666,
              "#ed7953"
             ],
             [
              0.7777777777777778,
              "#fb9f3a"
             ],
             [
              0.8888888888888888,
              "#fdca26"
             ],
             [
              1,
              "#f0f921"
             ]
            ],
            "type": "histogram2d"
           }
          ],
          "histogram2dcontour": [
           {
            "colorbar": {
             "outlinewidth": 0,
             "ticks": ""
            },
            "colorscale": [
             [
              0,
              "#0d0887"
             ],
             [
              0.1111111111111111,
              "#46039f"
             ],
             [
              0.2222222222222222,
              "#7201a8"
             ],
             [
              0.3333333333333333,
              "#9c179e"
             ],
             [
              0.4444444444444444,
              "#bd3786"
             ],
             [
              0.5555555555555556,
              "#d8576b"
             ],
             [
              0.6666666666666666,
              "#ed7953"
             ],
             [
              0.7777777777777778,
              "#fb9f3a"
             ],
             [
              0.8888888888888888,
              "#fdca26"
             ],
             [
              1,
              "#f0f921"
             ]
            ],
            "type": "histogram2dcontour"
           }
          ],
          "mesh3d": [
           {
            "colorbar": {
             "outlinewidth": 0,
             "ticks": ""
            },
            "type": "mesh3d"
           }
          ],
          "parcoords": [
           {
            "line": {
             "colorbar": {
              "outlinewidth": 0,
              "ticks": ""
             }
            },
            "type": "parcoords"
           }
          ],
          "pie": [
           {
            "automargin": true,
            "type": "pie"
           }
          ],
          "scatter": [
           {
            "marker": {
             "colorbar": {
              "outlinewidth": 0,
              "ticks": ""
             }
            },
            "type": "scatter"
           }
          ],
          "scatter3d": [
           {
            "line": {
             "colorbar": {
              "outlinewidth": 0,
              "ticks": ""
             }
            },
            "marker": {
             "colorbar": {
              "outlinewidth": 0,
              "ticks": ""
             }
            },
            "type": "scatter3d"
           }
          ],
          "scattercarpet": [
           {
            "marker": {
             "colorbar": {
              "outlinewidth": 0,
              "ticks": ""
             }
            },
            "type": "scattercarpet"
           }
          ],
          "scattergeo": [
           {
            "marker": {
             "colorbar": {
              "outlinewidth": 0,
              "ticks": ""
             }
            },
            "type": "scattergeo"
           }
          ],
          "scattergl": [
           {
            "marker": {
             "colorbar": {
              "outlinewidth": 0,
              "ticks": ""
             }
            },
            "type": "scattergl"
           }
          ],
          "scattermapbox": [
           {
            "marker": {
             "colorbar": {
              "outlinewidth": 0,
              "ticks": ""
             }
            },
            "type": "scattermapbox"
           }
          ],
          "scatterpolar": [
           {
            "marker": {
             "colorbar": {
              "outlinewidth": 0,
              "ticks": ""
             }
            },
            "type": "scatterpolar"
           }
          ],
          "scatterpolargl": [
           {
            "marker": {
             "colorbar": {
              "outlinewidth": 0,
              "ticks": ""
             }
            },
            "type": "scatterpolargl"
           }
          ],
          "scatterternary": [
           {
            "marker": {
             "colorbar": {
              "outlinewidth": 0,
              "ticks": ""
             }
            },
            "type": "scatterternary"
           }
          ],
          "surface": [
           {
            "colorbar": {
             "outlinewidth": 0,
             "ticks": ""
            },
            "colorscale": [
             [
              0,
              "#0d0887"
             ],
             [
              0.1111111111111111,
              "#46039f"
             ],
             [
              0.2222222222222222,
              "#7201a8"
             ],
             [
              0.3333333333333333,
              "#9c179e"
             ],
             [
              0.4444444444444444,
              "#bd3786"
             ],
             [
              0.5555555555555556,
              "#d8576b"
             ],
             [
              0.6666666666666666,
              "#ed7953"
             ],
             [
              0.7777777777777778,
              "#fb9f3a"
             ],
             [
              0.8888888888888888,
              "#fdca26"
             ],
             [
              1,
              "#f0f921"
             ]
            ],
            "type": "surface"
           }
          ],
          "table": [
           {
            "cells": {
             "fill": {
              "color": "#EBF0F8"
             },
             "line": {
              "color": "white"
             }
            },
            "header": {
             "fill": {
              "color": "#C8D4E3"
             },
             "line": {
              "color": "white"
             }
            },
            "type": "table"
           }
          ]
         },
         "layout": {
          "annotationdefaults": {
           "arrowcolor": "#2a3f5f",
           "arrowhead": 0,
           "arrowwidth": 1
          },
          "autotypenumbers": "strict",
          "coloraxis": {
           "colorbar": {
            "outlinewidth": 0,
            "ticks": ""
           }
          },
          "colorscale": {
           "diverging": [
            [
             0,
             "#8e0152"
            ],
            [
             0.1,
             "#c51b7d"
            ],
            [
             0.2,
             "#de77ae"
            ],
            [
             0.3,
             "#f1b6da"
            ],
            [
             0.4,
             "#fde0ef"
            ],
            [
             0.5,
             "#f7f7f7"
            ],
            [
             0.6,
             "#e6f5d0"
            ],
            [
             0.7,
             "#b8e186"
            ],
            [
             0.8,
             "#7fbc41"
            ],
            [
             0.9,
             "#4d9221"
            ],
            [
             1,
             "#276419"
            ]
           ],
           "sequential": [
            [
             0,
             "#0d0887"
            ],
            [
             0.1111111111111111,
             "#46039f"
            ],
            [
             0.2222222222222222,
             "#7201a8"
            ],
            [
             0.3333333333333333,
             "#9c179e"
            ],
            [
             0.4444444444444444,
             "#bd3786"
            ],
            [
             0.5555555555555556,
             "#d8576b"
            ],
            [
             0.6666666666666666,
             "#ed7953"
            ],
            [
             0.7777777777777778,
             "#fb9f3a"
            ],
            [
             0.8888888888888888,
             "#fdca26"
            ],
            [
             1,
             "#f0f921"
            ]
           ],
           "sequentialminus": [
            [
             0,
             "#0d0887"
            ],
            [
             0.1111111111111111,
             "#46039f"
            ],
            [
             0.2222222222222222,
             "#7201a8"
            ],
            [
             0.3333333333333333,
             "#9c179e"
            ],
            [
             0.4444444444444444,
             "#bd3786"
            ],
            [
             0.5555555555555556,
             "#d8576b"
            ],
            [
             0.6666666666666666,
             "#ed7953"
            ],
            [
             0.7777777777777778,
             "#fb9f3a"
            ],
            [
             0.8888888888888888,
             "#fdca26"
            ],
            [
             1,
             "#f0f921"
            ]
           ]
          },
          "colorway": [
           "#636efa",
           "#EF553B",
           "#00cc96",
           "#ab63fa",
           "#FFA15A",
           "#19d3f3",
           "#FF6692",
           "#B6E880",
           "#FF97FF",
           "#FECB52"
          ],
          "font": {
           "color": "#2a3f5f"
          },
          "geo": {
           "bgcolor": "white",
           "lakecolor": "white",
           "landcolor": "#E5ECF6",
           "showlakes": true,
           "showland": true,
           "subunitcolor": "white"
          },
          "hoverlabel": {
           "align": "left"
          },
          "hovermode": "closest",
          "mapbox": {
           "style": "light"
          },
          "paper_bgcolor": "white",
          "plot_bgcolor": "#E5ECF6",
          "polar": {
           "angularaxis": {
            "gridcolor": "white",
            "linecolor": "white",
            "ticks": ""
           },
           "bgcolor": "#E5ECF6",
           "radialaxis": {
            "gridcolor": "white",
            "linecolor": "white",
            "ticks": ""
           }
          },
          "scene": {
           "xaxis": {
            "backgroundcolor": "#E5ECF6",
            "gridcolor": "white",
            "gridwidth": 2,
            "linecolor": "white",
            "showbackground": true,
            "ticks": "",
            "zerolinecolor": "white"
           },
           "yaxis": {
            "backgroundcolor": "#E5ECF6",
            "gridcolor": "white",
            "gridwidth": 2,
            "linecolor": "white",
            "showbackground": true,
            "ticks": "",
            "zerolinecolor": "white"
           },
           "zaxis": {
            "backgroundcolor": "#E5ECF6",
            "gridcolor": "white",
            "gridwidth": 2,
            "linecolor": "white",
            "showbackground": true,
            "ticks": "",
            "zerolinecolor": "white"
           }
          },
          "shapedefaults": {
           "line": {
            "color": "#2a3f5f"
           }
          },
          "ternary": {
           "aaxis": {
            "gridcolor": "white",
            "linecolor": "white",
            "ticks": ""
           },
           "baxis": {
            "gridcolor": "white",
            "linecolor": "white",
            "ticks": ""
           },
           "bgcolor": "#E5ECF6",
           "caxis": {
            "gridcolor": "white",
            "linecolor": "white",
            "ticks": ""
           }
          },
          "title": {
           "x": 0.05
          },
          "xaxis": {
           "automargin": true,
           "gridcolor": "white",
           "linecolor": "white",
           "ticks": "",
           "title": {
            "standoff": 15
           },
           "zerolinecolor": "white",
           "zerolinewidth": 2
          },
          "yaxis": {
           "automargin": true,
           "gridcolor": "white",
           "linecolor": "white",
           "ticks": "",
           "title": {
            "standoff": 15
           },
           "zerolinecolor": "white",
           "zerolinewidth": 2
          }
         }
        },
        "title": {
         "text": "Tasa de cambio representativa del mercado (TRM) por Día"
        },
        "updatemenus": [
         {
          "buttons": [
           {
            "args": [
             null,
             {
              "frame": {
               "duration": 500,
               "redraw": false
              },
              "fromcurrent": true,
              "mode": "immediate",
              "transition": {
               "duration": 500,
               "easing": "linear"
              }
             }
            ],
            "label": "&#9654;",
            "method": "animate"
           },
           {
            "args": [
             [
              null
             ],
             {
              "frame": {
               "duration": 0,
               "redraw": false
              },
              "fromcurrent": true,
              "mode": "immediate",
              "transition": {
               "duration": 0,
               "easing": "linear"
              }
             }
            ],
            "label": "&#9724;",
            "method": "animate"
           }
          ],
          "direction": "left",
          "pad": {
           "r": 10,
           "t": 70
          },
          "showactive": false,
          "type": "buttons",
          "x": 0.1,
          "xanchor": "right",
          "y": 0,
          "yanchor": "top"
         }
        ],
        "xaxis": {
         "anchor": "y",
         "domain": [
          0,
          1
         ],
         "title": {
          "text": "Día"
         }
        },
        "yaxis": {
         "anchor": "x",
         "domain": [
          0,
          1
         ],
         "range": [
          3771.63,
          5061.21
         ],
         "title": {
          "text": "TRM"
         }
        }
       }
      }
     },
     "metadata": {},
     "output_type": "display_data"
    }
   ],
   "source": [
    "import pandas as pd\n",
    "import plotly.express as px\n",
    "\n",
    "# Ruta del archivo Excel\n",
    "archivo_excel = '../data/1.1.16.TCM_Serie historica_ultimos_doce meses.xlsx'\n",
    "\n",
    "# Lee el archivo Excel y omite las primeras siete filas y las cuatro últimas\n",
    "df = pd.read_excel(archivo_excel, skiprows=7, skipfooter=4)\n",
    "\n",
    "# Convierte la columna 'Fecha (dd/mm/aaaa)' al formato de fecha\n",
    "df['Fecha (dd/mm/aaaa)'] = pd.to_datetime(df['Fecha (dd/mm/aaaa)'], format='%d/%m/%Y')\n",
    "\n",
    "# Crea las columnas 'Día', 'Mes' y 'Año'\n",
    "df['Día'] = df['Fecha (dd/mm/aaaa)'].dt.day\n",
    "df['Mes'] = df['Fecha (dd/mm/aaaa)'].dt.month\n",
    "df['Año'] = df['Fecha (dd/mm/aaaa)'].dt.year\n",
    "\n",
    "# Crea la animación con puntos sin interpolación\n",
    "fig = px.scatter(df, x='Día', y='Tasa de cambio representativa del mercado (TRM)', animation_frame='Mes', color='Año', range_y=[df['Tasa de cambio representativa del mercado (TRM)'].min(), df['Tasa de cambio representativa del mercado (TRM)'].max()])\n",
    "\n",
    "# Configura los títulos y etiquetas de los ejes\n",
    "fig.update_layout(title='Tasa de cambio representativa del mercado (TRM) por Día', xaxis_title='Día', yaxis_title='TRM')\n",
    "\n",
    "# Muestra la animación\n",
    "fig.show()"
   ]
  },
  {
   "attachments": {},
   "cell_type": "markdown",
   "metadata": {},
   "source": [
    "### 2.6. Animación de los datos filtrando solo el año 2023\n",
    "\n",
    "**Prompt ChatGPT**: Limita los datos solo a Año 2023."
   ]
  },
  {
   "cell_type": "code",
   "execution_count": 6,
   "metadata": {},
   "outputs": [
    {
     "data": {
      "application/vnd.plotly.v1+json": {
       "config": {
        "plotlyServerURL": "https://plot.ly"
       },
       "data": [
        {
         "hovertemplate": "Mes=5<br>Día=%{x}<br>Tasa de cambio representativa del mercado (TRM)=%{y}<br>Año=%{marker.color}<extra></extra>",
         "legendgroup": "",
         "marker": {
          "color": [
           2023,
           2023,
           2023,
           2023,
           2023,
           2023,
           2023,
           2023
          ],
          "coloraxis": "coloraxis",
          "symbol": "circle"
         },
         "mode": "markers",
         "name": "",
         "orientation": "v",
         "showlegend": false,
         "type": "scatter",
         "x": [
          8,
          7,
          6,
          5,
          4,
          3,
          2,
          1
         ],
         "xaxis": "x",
         "y": [
          4552.56,
          4552.56,
          4552.56,
          4616.58,
          4667.09,
          4713.08,
          4669,
          4669
         ],
         "yaxis": "y"
        }
       ],
       "frames": [
        {
         "data": [
          {
           "hovertemplate": "Mes=5<br>Día=%{x}<br>Tasa de cambio representativa del mercado (TRM)=%{y}<br>Año=%{marker.color}<extra></extra>",
           "legendgroup": "",
           "marker": {
            "color": [
             2023,
             2023,
             2023,
             2023,
             2023,
             2023,
             2023,
             2023
            ],
            "coloraxis": "coloraxis",
            "symbol": "circle"
           },
           "mode": "markers",
           "name": "",
           "orientation": "v",
           "showlegend": false,
           "type": "scatter",
           "x": [
            8,
            7,
            6,
            5,
            4,
            3,
            2,
            1
           ],
           "xaxis": "x",
           "y": [
            4552.56,
            4552.56,
            4552.56,
            4616.58,
            4667.09,
            4713.08,
            4669,
            4669
           ],
           "yaxis": "y"
          }
         ],
         "name": "5"
        },
        {
         "data": [
          {
           "hovertemplate": "Mes=4<br>Día=%{x}<br>Tasa de cambio representativa del mercado (TRM)=%{y}<br>Año=%{marker.color}<extra></extra>",
           "legendgroup": "",
           "marker": {
            "color": [
             2023,
             2023,
             2023,
             2023,
             2023,
             2023,
             2023,
             2023,
             2023,
             2023,
             2023,
             2023,
             2023,
             2023,
             2023,
             2023,
             2023,
             2023,
             2023,
             2023,
             2023,
             2023,
             2023,
             2023,
             2023,
             2023,
             2023,
             2023,
             2023,
             2023
            ],
            "coloraxis": "coloraxis",
            "symbol": "circle"
           },
           "mode": "markers",
           "name": "",
           "orientation": "v",
           "showlegend": false,
           "type": "scatter",
           "x": [
            30,
            29,
            28,
            27,
            26,
            25,
            24,
            23,
            22,
            21,
            20,
            19,
            18,
            17,
            16,
            15,
            14,
            13,
            12,
            11,
            10,
            9,
            8,
            7,
            6,
            5,
            4,
            3,
            2,
            1
           ],
           "xaxis": "x",
           "y": [
            4669,
            4669,
            4654.14,
            4552.59,
            4486.6,
            4482.45,
            4523.64,
            4523.64,
            4523.64,
            4535.78,
            4532.43,
            4473.07,
            4431.45,
            4425.27,
            4425.27,
            4425.27,
            4424.02,
            4458.87,
            4516.76,
            4564.24,
            4570.91,
            4570.91,
            4570.91,
            4570.91,
            4570.91,
            4587.31,
            4603,
            4646.08,
            4646.08,
            4646.08
           ],
           "yaxis": "y"
          }
         ],
         "name": "4"
        },
        {
         "data": [
          {
           "hovertemplate": "Mes=3<br>Día=%{x}<br>Tasa de cambio representativa del mercado (TRM)=%{y}<br>Año=%{marker.color}<extra></extra>",
           "legendgroup": "",
           "marker": {
            "color": [
             2023,
             2023,
             2023,
             2023,
             2023,
             2023,
             2023,
             2023,
             2023,
             2023,
             2023,
             2023,
             2023,
             2023,
             2023,
             2023,
             2023,
             2023,
             2023,
             2023,
             2023,
             2023,
             2023,
             2023,
             2023,
             2023,
             2023,
             2023,
             2023,
             2023,
             2023
            ],
            "coloraxis": "coloraxis",
            "symbol": "circle"
           },
           "mode": "markers",
           "name": "",
           "orientation": "v",
           "showlegend": false,
           "type": "scatter",
           "x": [
            31,
            30,
            29,
            28,
            27,
            26,
            25,
            24,
            23,
            22,
            21,
            20,
            19,
            18,
            17,
            16,
            15,
            14,
            13,
            12,
            11,
            10,
            9,
            8,
            7,
            6,
            5,
            4,
            3,
            2,
            1
           ],
           "xaxis": "x",
           "y": [
            4627.27,
            4627.63,
            4658.79,
            4686.83,
            4741.76,
            4741.76,
            4741.76,
            4755.12,
            4776.09,
            4804.29,
            4824.25,
            4824.25,
            4824.25,
            4824.25,
            4866.5,
            4835.51,
            4736.03,
            4769.76,
            4748.14,
            4748.14,
            4748.14,
            4748.61,
            4755.59,
            4744.95,
            4734.42,
            4780.89,
            4780.89,
            4780.89,
            4855.83,
            4848.78,
            4814.11
           ],
           "yaxis": "y"
          }
         ],
         "name": "3"
        },
        {
         "data": [
          {
           "hovertemplate": "Mes=2<br>Día=%{x}<br>Tasa de cambio representativa del mercado (TRM)=%{y}<br>Año=%{marker.color}<extra></extra>",
           "legendgroup": "",
           "marker": {
            "color": [
             2023,
             2023,
             2023,
             2023,
             2023,
             2023,
             2023,
             2023,
             2023,
             2023,
             2023,
             2023,
             2023,
             2023,
             2023,
             2023,
             2023,
             2023,
             2023,
             2023,
             2023,
             2023,
             2023,
             2023,
             2023,
             2023,
             2023,
             2023
            ],
            "coloraxis": "coloraxis",
            "symbol": "circle"
           },
           "mode": "markers",
           "name": "",
           "orientation": "v",
           "showlegend": false,
           "type": "scatter",
           "x": [
            28,
            27,
            26,
            25,
            24,
            23,
            22,
            21,
            20,
            19,
            18,
            17,
            16,
            15,
            14,
            13,
            12,
            11,
            10,
            9,
            8,
            7,
            6,
            5,
            4,
            3,
            2,
            1
           ],
           "xaxis": "x",
           "y": [
            4808.14,
            4849.65,
            4849.65,
            4849.65,
            4853.9,
            4924.91,
            4950.33,
            4918.94,
            4918.94,
            4918.94,
            4918.94,
            4966.33,
            4878.24,
            4783.24,
            4818.62,
            4777.73,
            4777.73,
            4777.73,
            4742.05,
            4769.85,
            4775.99,
            4776.25,
            4669.74,
            4669.74,
            4669.74,
            4584.44,
            4639.04,
            4648.7
           ],
           "yaxis": "y"
          }
         ],
         "name": "2"
        },
        {
         "data": [
          {
           "hovertemplate": "Mes=1<br>Día=%{x}<br>Tasa de cambio representativa del mercado (TRM)=%{y}<br>Año=%{marker.color}<extra></extra>",
           "legendgroup": "",
           "marker": {
            "color": [
             2023,
             2023,
             2023,
             2023,
             2023,
             2023,
             2023,
             2023,
             2023,
             2023,
             2023,
             2023,
             2023,
             2023,
             2023,
             2023,
             2023,
             2023,
             2023,
             2023,
             2023,
             2023,
             2023,
             2023,
             2023,
             2023,
             2023,
             2023,
             2023,
             2023,
             2023
            ],
            "coloraxis": "coloraxis",
            "symbol": "circle"
           },
           "mode": "markers",
           "name": "",
           "orientation": "v",
           "showlegend": false,
           "type": "scatter",
           "x": [
            31,
            30,
            29,
            28,
            27,
            26,
            25,
            24,
            23,
            22,
            21,
            20,
            19,
            18,
            17,
            16,
            15,
            14,
            13,
            12,
            11,
            10,
            9,
            8,
            7,
            6,
            5,
            4,
            3,
            2,
            1
           ],
           "xaxis": "x",
           "y": [
            4632.2,
            4548.5,
            4548.5,
            4548.5,
            4531.75,
            4538.91,
            4545.94,
            4551.02,
            4631.64,
            4631.64,
            4631.64,
            4683.85,
            4702.67,
            4691.09,
            4693.99,
            4693.99,
            4693.99,
            4693.99,
            4692.04,
            4748.54,
            4807.85,
            4885.66,
            4885.66,
            4885.66,
            4885.66,
            4989.58,
            4924,
            4842.26,
            4810.2,
            4810.2,
            4810.2
           ],
           "yaxis": "y"
          }
         ],
         "name": "1"
        }
       ],
       "layout": {
        "coloraxis": {
         "colorbar": {
          "title": {
           "text": "Año"
          }
         },
         "colorscale": [
          [
           0,
           "#0d0887"
          ],
          [
           0.1111111111111111,
           "#46039f"
          ],
          [
           0.2222222222222222,
           "#7201a8"
          ],
          [
           0.3333333333333333,
           "#9c179e"
          ],
          [
           0.4444444444444444,
           "#bd3786"
          ],
          [
           0.5555555555555556,
           "#d8576b"
          ],
          [
           0.6666666666666666,
           "#ed7953"
          ],
          [
           0.7777777777777778,
           "#fb9f3a"
          ],
          [
           0.8888888888888888,
           "#fdca26"
          ],
          [
           1,
           "#f0f921"
          ]
         ]
        },
        "legend": {
         "tracegroupgap": 0
        },
        "margin": {
         "t": 60
        },
        "sliders": [
         {
          "active": 0,
          "currentvalue": {
           "prefix": "Mes="
          },
          "len": 0.9,
          "pad": {
           "b": 10,
           "t": 60
          },
          "steps": [
           {
            "args": [
             [
              "5"
             ],
             {
              "frame": {
               "duration": 0,
               "redraw": false
              },
              "fromcurrent": true,
              "mode": "immediate",
              "transition": {
               "duration": 0,
               "easing": "linear"
              }
             }
            ],
            "label": "5",
            "method": "animate"
           },
           {
            "args": [
             [
              "4"
             ],
             {
              "frame": {
               "duration": 0,
               "redraw": false
              },
              "fromcurrent": true,
              "mode": "immediate",
              "transition": {
               "duration": 0,
               "easing": "linear"
              }
             }
            ],
            "label": "4",
            "method": "animate"
           },
           {
            "args": [
             [
              "3"
             ],
             {
              "frame": {
               "duration": 0,
               "redraw": false
              },
              "fromcurrent": true,
              "mode": "immediate",
              "transition": {
               "duration": 0,
               "easing": "linear"
              }
             }
            ],
            "label": "3",
            "method": "animate"
           },
           {
            "args": [
             [
              "2"
             ],
             {
              "frame": {
               "duration": 0,
               "redraw": false
              },
              "fromcurrent": true,
              "mode": "immediate",
              "transition": {
               "duration": 0,
               "easing": "linear"
              }
             }
            ],
            "label": "2",
            "method": "animate"
           },
           {
            "args": [
             [
              "1"
             ],
             {
              "frame": {
               "duration": 0,
               "redraw": false
              },
              "fromcurrent": true,
              "mode": "immediate",
              "transition": {
               "duration": 0,
               "easing": "linear"
              }
             }
            ],
            "label": "1",
            "method": "animate"
           }
          ],
          "x": 0.1,
          "xanchor": "left",
          "y": 0,
          "yanchor": "top"
         }
        ],
        "template": {
         "data": {
          "bar": [
           {
            "error_x": {
             "color": "#2a3f5f"
            },
            "error_y": {
             "color": "#2a3f5f"
            },
            "marker": {
             "line": {
              "color": "#E5ECF6",
              "width": 0.5
             },
             "pattern": {
              "fillmode": "overlay",
              "size": 10,
              "solidity": 0.2
             }
            },
            "type": "bar"
           }
          ],
          "barpolar": [
           {
            "marker": {
             "line": {
              "color": "#E5ECF6",
              "width": 0.5
             },
             "pattern": {
              "fillmode": "overlay",
              "size": 10,
              "solidity": 0.2
             }
            },
            "type": "barpolar"
           }
          ],
          "carpet": [
           {
            "aaxis": {
             "endlinecolor": "#2a3f5f",
             "gridcolor": "white",
             "linecolor": "white",
             "minorgridcolor": "white",
             "startlinecolor": "#2a3f5f"
            },
            "baxis": {
             "endlinecolor": "#2a3f5f",
             "gridcolor": "white",
             "linecolor": "white",
             "minorgridcolor": "white",
             "startlinecolor": "#2a3f5f"
            },
            "type": "carpet"
           }
          ],
          "choropleth": [
           {
            "colorbar": {
             "outlinewidth": 0,
             "ticks": ""
            },
            "type": "choropleth"
           }
          ],
          "contour": [
           {
            "colorbar": {
             "outlinewidth": 0,
             "ticks": ""
            },
            "colorscale": [
             [
              0,
              "#0d0887"
             ],
             [
              0.1111111111111111,
              "#46039f"
             ],
             [
              0.2222222222222222,
              "#7201a8"
             ],
             [
              0.3333333333333333,
              "#9c179e"
             ],
             [
              0.4444444444444444,
              "#bd3786"
             ],
             [
              0.5555555555555556,
              "#d8576b"
             ],
             [
              0.6666666666666666,
              "#ed7953"
             ],
             [
              0.7777777777777778,
              "#fb9f3a"
             ],
             [
              0.8888888888888888,
              "#fdca26"
             ],
             [
              1,
              "#f0f921"
             ]
            ],
            "type": "contour"
           }
          ],
          "contourcarpet": [
           {
            "colorbar": {
             "outlinewidth": 0,
             "ticks": ""
            },
            "type": "contourcarpet"
           }
          ],
          "heatmap": [
           {
            "colorbar": {
             "outlinewidth": 0,
             "ticks": ""
            },
            "colorscale": [
             [
              0,
              "#0d0887"
             ],
             [
              0.1111111111111111,
              "#46039f"
             ],
             [
              0.2222222222222222,
              "#7201a8"
             ],
             [
              0.3333333333333333,
              "#9c179e"
             ],
             [
              0.4444444444444444,
              "#bd3786"
             ],
             [
              0.5555555555555556,
              "#d8576b"
             ],
             [
              0.6666666666666666,
              "#ed7953"
             ],
             [
              0.7777777777777778,
              "#fb9f3a"
             ],
             [
              0.8888888888888888,
              "#fdca26"
             ],
             [
              1,
              "#f0f921"
             ]
            ],
            "type": "heatmap"
           }
          ],
          "heatmapgl": [
           {
            "colorbar": {
             "outlinewidth": 0,
             "ticks": ""
            },
            "colorscale": [
             [
              0,
              "#0d0887"
             ],
             [
              0.1111111111111111,
              "#46039f"
             ],
             [
              0.2222222222222222,
              "#7201a8"
             ],
             [
              0.3333333333333333,
              "#9c179e"
             ],
             [
              0.4444444444444444,
              "#bd3786"
             ],
             [
              0.5555555555555556,
              "#d8576b"
             ],
             [
              0.6666666666666666,
              "#ed7953"
             ],
             [
              0.7777777777777778,
              "#fb9f3a"
             ],
             [
              0.8888888888888888,
              "#fdca26"
             ],
             [
              1,
              "#f0f921"
             ]
            ],
            "type": "heatmapgl"
           }
          ],
          "histogram": [
           {
            "marker": {
             "pattern": {
              "fillmode": "overlay",
              "size": 10,
              "solidity": 0.2
             }
            },
            "type": "histogram"
           }
          ],
          "histogram2d": [
           {
            "colorbar": {
             "outlinewidth": 0,
             "ticks": ""
            },
            "colorscale": [
             [
              0,
              "#0d0887"
             ],
             [
              0.1111111111111111,
              "#46039f"
             ],
             [
              0.2222222222222222,
              "#7201a8"
             ],
             [
              0.3333333333333333,
              "#9c179e"
             ],
             [
              0.4444444444444444,
              "#bd3786"
             ],
             [
              0.5555555555555556,
              "#d8576b"
             ],
             [
              0.6666666666666666,
              "#ed7953"
             ],
             [
              0.7777777777777778,
              "#fb9f3a"
             ],
             [
              0.8888888888888888,
              "#fdca26"
             ],
             [
              1,
              "#f0f921"
             ]
            ],
            "type": "histogram2d"
           }
          ],
          "histogram2dcontour": [
           {
            "colorbar": {
             "outlinewidth": 0,
             "ticks": ""
            },
            "colorscale": [
             [
              0,
              "#0d0887"
             ],
             [
              0.1111111111111111,
              "#46039f"
             ],
             [
              0.2222222222222222,
              "#7201a8"
             ],
             [
              0.3333333333333333,
              "#9c179e"
             ],
             [
              0.4444444444444444,
              "#bd3786"
             ],
             [
              0.5555555555555556,
              "#d8576b"
             ],
             [
              0.6666666666666666,
              "#ed7953"
             ],
             [
              0.7777777777777778,
              "#fb9f3a"
             ],
             [
              0.8888888888888888,
              "#fdca26"
             ],
             [
              1,
              "#f0f921"
             ]
            ],
            "type": "histogram2dcontour"
           }
          ],
          "mesh3d": [
           {
            "colorbar": {
             "outlinewidth": 0,
             "ticks": ""
            },
            "type": "mesh3d"
           }
          ],
          "parcoords": [
           {
            "line": {
             "colorbar": {
              "outlinewidth": 0,
              "ticks": ""
             }
            },
            "type": "parcoords"
           }
          ],
          "pie": [
           {
            "automargin": true,
            "type": "pie"
           }
          ],
          "scatter": [
           {
            "marker": {
             "colorbar": {
              "outlinewidth": 0,
              "ticks": ""
             }
            },
            "type": "scatter"
           }
          ],
          "scatter3d": [
           {
            "line": {
             "colorbar": {
              "outlinewidth": 0,
              "ticks": ""
             }
            },
            "marker": {
             "colorbar": {
              "outlinewidth": 0,
              "ticks": ""
             }
            },
            "type": "scatter3d"
           }
          ],
          "scattercarpet": [
           {
            "marker": {
             "colorbar": {
              "outlinewidth": 0,
              "ticks": ""
             }
            },
            "type": "scattercarpet"
           }
          ],
          "scattergeo": [
           {
            "marker": {
             "colorbar": {
              "outlinewidth": 0,
              "ticks": ""
             }
            },
            "type": "scattergeo"
           }
          ],
          "scattergl": [
           {
            "marker": {
             "colorbar": {
              "outlinewidth": 0,
              "ticks": ""
             }
            },
            "type": "scattergl"
           }
          ],
          "scattermapbox": [
           {
            "marker": {
             "colorbar": {
              "outlinewidth": 0,
              "ticks": ""
             }
            },
            "type": "scattermapbox"
           }
          ],
          "scatterpolar": [
           {
            "marker": {
             "colorbar": {
              "outlinewidth": 0,
              "ticks": ""
             }
            },
            "type": "scatterpolar"
           }
          ],
          "scatterpolargl": [
           {
            "marker": {
             "colorbar": {
              "outlinewidth": 0,
              "ticks": ""
             }
            },
            "type": "scatterpolargl"
           }
          ],
          "scatterternary": [
           {
            "marker": {
             "colorbar": {
              "outlinewidth": 0,
              "ticks": ""
             }
            },
            "type": "scatterternary"
           }
          ],
          "surface": [
           {
            "colorbar": {
             "outlinewidth": 0,
             "ticks": ""
            },
            "colorscale": [
             [
              0,
              "#0d0887"
             ],
             [
              0.1111111111111111,
              "#46039f"
             ],
             [
              0.2222222222222222,
              "#7201a8"
             ],
             [
              0.3333333333333333,
              "#9c179e"
             ],
             [
              0.4444444444444444,
              "#bd3786"
             ],
             [
              0.5555555555555556,
              "#d8576b"
             ],
             [
              0.6666666666666666,
              "#ed7953"
             ],
             [
              0.7777777777777778,
              "#fb9f3a"
             ],
             [
              0.8888888888888888,
              "#fdca26"
             ],
             [
              1,
              "#f0f921"
             ]
            ],
            "type": "surface"
           }
          ],
          "table": [
           {
            "cells": {
             "fill": {
              "color": "#EBF0F8"
             },
             "line": {
              "color": "white"
             }
            },
            "header": {
             "fill": {
              "color": "#C8D4E3"
             },
             "line": {
              "color": "white"
             }
            },
            "type": "table"
           }
          ]
         },
         "layout": {
          "annotationdefaults": {
           "arrowcolor": "#2a3f5f",
           "arrowhead": 0,
           "arrowwidth": 1
          },
          "autotypenumbers": "strict",
          "coloraxis": {
           "colorbar": {
            "outlinewidth": 0,
            "ticks": ""
           }
          },
          "colorscale": {
           "diverging": [
            [
             0,
             "#8e0152"
            ],
            [
             0.1,
             "#c51b7d"
            ],
            [
             0.2,
             "#de77ae"
            ],
            [
             0.3,
             "#f1b6da"
            ],
            [
             0.4,
             "#fde0ef"
            ],
            [
             0.5,
             "#f7f7f7"
            ],
            [
             0.6,
             "#e6f5d0"
            ],
            [
             0.7,
             "#b8e186"
            ],
            [
             0.8,
             "#7fbc41"
            ],
            [
             0.9,
             "#4d9221"
            ],
            [
             1,
             "#276419"
            ]
           ],
           "sequential": [
            [
             0,
             "#0d0887"
            ],
            [
             0.1111111111111111,
             "#46039f"
            ],
            [
             0.2222222222222222,
             "#7201a8"
            ],
            [
             0.3333333333333333,
             "#9c179e"
            ],
            [
             0.4444444444444444,
             "#bd3786"
            ],
            [
             0.5555555555555556,
             "#d8576b"
            ],
            [
             0.6666666666666666,
             "#ed7953"
            ],
            [
             0.7777777777777778,
             "#fb9f3a"
            ],
            [
             0.8888888888888888,
             "#fdca26"
            ],
            [
             1,
             "#f0f921"
            ]
           ],
           "sequentialminus": [
            [
             0,
             "#0d0887"
            ],
            [
             0.1111111111111111,
             "#46039f"
            ],
            [
             0.2222222222222222,
             "#7201a8"
            ],
            [
             0.3333333333333333,
             "#9c179e"
            ],
            [
             0.4444444444444444,
             "#bd3786"
            ],
            [
             0.5555555555555556,
             "#d8576b"
            ],
            [
             0.6666666666666666,
             "#ed7953"
            ],
            [
             0.7777777777777778,
             "#fb9f3a"
            ],
            [
             0.8888888888888888,
             "#fdca26"
            ],
            [
             1,
             "#f0f921"
            ]
           ]
          },
          "colorway": [
           "#636efa",
           "#EF553B",
           "#00cc96",
           "#ab63fa",
           "#FFA15A",
           "#19d3f3",
           "#FF6692",
           "#B6E880",
           "#FF97FF",
           "#FECB52"
          ],
          "font": {
           "color": "#2a3f5f"
          },
          "geo": {
           "bgcolor": "white",
           "lakecolor": "white",
           "landcolor": "#E5ECF6",
           "showlakes": true,
           "showland": true,
           "subunitcolor": "white"
          },
          "hoverlabel": {
           "align": "left"
          },
          "hovermode": "closest",
          "mapbox": {
           "style": "light"
          },
          "paper_bgcolor": "white",
          "plot_bgcolor": "#E5ECF6",
          "polar": {
           "angularaxis": {
            "gridcolor": "white",
            "linecolor": "white",
            "ticks": ""
           },
           "bgcolor": "#E5ECF6",
           "radialaxis": {
            "gridcolor": "white",
            "linecolor": "white",
            "ticks": ""
           }
          },
          "scene": {
           "xaxis": {
            "backgroundcolor": "#E5ECF6",
            "gridcolor": "white",
            "gridwidth": 2,
            "linecolor": "white",
            "showbackground": true,
            "ticks": "",
            "zerolinecolor": "white"
           },
           "yaxis": {
            "backgroundcolor": "#E5ECF6",
            "gridcolor": "white",
            "gridwidth": 2,
            "linecolor": "white",
            "showbackground": true,
            "ticks": "",
            "zerolinecolor": "white"
           },
           "zaxis": {
            "backgroundcolor": "#E5ECF6",
            "gridcolor": "white",
            "gridwidth": 2,
            "linecolor": "white",
            "showbackground": true,
            "ticks": "",
            "zerolinecolor": "white"
           }
          },
          "shapedefaults": {
           "line": {
            "color": "#2a3f5f"
           }
          },
          "ternary": {
           "aaxis": {
            "gridcolor": "white",
            "linecolor": "white",
            "ticks": ""
           },
           "baxis": {
            "gridcolor": "white",
            "linecolor": "white",
            "ticks": ""
           },
           "bgcolor": "#E5ECF6",
           "caxis": {
            "gridcolor": "white",
            "linecolor": "white",
            "ticks": ""
           }
          },
          "title": {
           "x": 0.05
          },
          "xaxis": {
           "automargin": true,
           "gridcolor": "white",
           "linecolor": "white",
           "ticks": "",
           "title": {
            "standoff": 15
           },
           "zerolinecolor": "white",
           "zerolinewidth": 2
          },
          "yaxis": {
           "automargin": true,
           "gridcolor": "white",
           "linecolor": "white",
           "ticks": "",
           "title": {
            "standoff": 15
           },
           "zerolinecolor": "white",
           "zerolinewidth": 2
          }
         }
        },
        "title": {
         "text": "Tasa de cambio representativa del mercado (TRM) por Día (2023)"
        },
        "updatemenus": [
         {
          "buttons": [
           {
            "args": [
             null,
             {
              "frame": {
               "duration": 500,
               "redraw": false
              },
              "fromcurrent": true,
              "mode": "immediate",
              "transition": {
               "duration": 500,
               "easing": "linear"
              }
             }
            ],
            "label": "&#9654;",
            "method": "animate"
           },
           {
            "args": [
             [
              null
             ],
             {
              "frame": {
               "duration": 0,
               "redraw": false
              },
              "fromcurrent": true,
              "mode": "immediate",
              "transition": {
               "duration": 0,
               "easing": "linear"
              }
             }
            ],
            "label": "&#9724;",
            "method": "animate"
           }
          ],
          "direction": "left",
          "pad": {
           "r": 10,
           "t": 70
          },
          "showactive": false,
          "type": "buttons",
          "x": 0.1,
          "xanchor": "right",
          "y": 0,
          "yanchor": "top"
         }
        ],
        "xaxis": {
         "anchor": "y",
         "domain": [
          0,
          1
         ],
         "title": {
          "text": "Día"
         }
        },
        "yaxis": {
         "anchor": "x",
         "domain": [
          0,
          1
         ],
         "range": [
          3771.63,
          5061.21
         ],
         "title": {
          "text": "TRM"
         }
        }
       }
      }
     },
     "metadata": {},
     "output_type": "display_data"
    }
   ],
   "source": [
    "import pandas as pd\n",
    "import plotly.express as px\n",
    "\n",
    "# Ruta del archivo Excel\n",
    "archivo_excel = '../data/1.1.16.TCM_Serie historica_ultimos_doce meses.xlsx'\n",
    "\n",
    "# Lee el archivo Excel y omite las primeras siete filas y las cuatro últimas\n",
    "df = pd.read_excel(archivo_excel, skiprows=7, skipfooter=4)\n",
    "\n",
    "# Convierte la columna 'Fecha (dd/mm/aaaa)' al formato de fecha\n",
    "df['Fecha (dd/mm/aaaa)'] = pd.to_datetime(df['Fecha (dd/mm/aaaa)'], format='%d/%m/%Y')\n",
    "\n",
    "# Crea las columnas 'Día', 'Mes' y 'Año'\n",
    "df['Día'] = df['Fecha (dd/mm/aaaa)'].dt.day\n",
    "df['Mes'] = df['Fecha (dd/mm/aaaa)'].dt.month\n",
    "df['Año'] = df['Fecha (dd/mm/aaaa)'].dt.year\n",
    "\n",
    "# Filtra los datos solo para el año 2023\n",
    "df_2023 = df[df['Año'] == 2023]\n",
    "\n",
    "# Crea la animación con puntos sin interpolación para el año 2023\n",
    "fig = px.scatter(df_2023, x='Día', y='Tasa de cambio representativa del mercado (TRM)', animation_frame='Mes', color='Año', range_y=[df['Tasa de cambio representativa del mercado (TRM)'].min(), df['Tasa de cambio representativa del mercado (TRM)'].max()])\n",
    "\n",
    "# Configura los títulos y etiquetas de los ejes\n",
    "fig.update_layout(title='Tasa de cambio representativa del mercado (TRM) por Día (2023)', xaxis_title='Día', yaxis_title='TRM')\n",
    "\n",
    "# Muestra la animación\n",
    "fig.show()"
   ]
  },
  {
   "attachments": {},
   "cell_type": "markdown",
   "metadata": {},
   "source": [
    "### 2.7. Animación mostrando barras en vez de puntos\n",
    "\n",
    "**Prompt ChatGPT**: Repite la animación pero muestra los datos como barras."
   ]
  },
  {
   "cell_type": "code",
   "execution_count": 7,
   "metadata": {},
   "outputs": [
    {
     "data": {
      "application/vnd.plotly.v1+json": {
       "config": {
        "plotlyServerURL": "https://plot.ly"
       },
       "data": [
        {
         "alignmentgroup": "True",
         "hovertemplate": "Mes=5<br>Día=%{x}<br>Tasa de cambio representativa del mercado (TRM)=%{y}<br>Año=%{marker.color}<extra></extra>",
         "legendgroup": "",
         "marker": {
          "color": [
           2023,
           2023,
           2023,
           2023,
           2023,
           2023,
           2023,
           2023
          ],
          "coloraxis": "coloraxis",
          "pattern": {
           "shape": ""
          }
         },
         "name": "",
         "offsetgroup": "",
         "orientation": "v",
         "showlegend": false,
         "textposition": "auto",
         "type": "bar",
         "x": [
          8,
          7,
          6,
          5,
          4,
          3,
          2,
          1
         ],
         "xaxis": "x",
         "y": [
          4552.56,
          4552.56,
          4552.56,
          4616.58,
          4667.09,
          4713.08,
          4669,
          4669
         ],
         "yaxis": "y"
        }
       ],
       "frames": [
        {
         "data": [
          {
           "alignmentgroup": "True",
           "hovertemplate": "Mes=5<br>Día=%{x}<br>Tasa de cambio representativa del mercado (TRM)=%{y}<br>Año=%{marker.color}<extra></extra>",
           "legendgroup": "",
           "marker": {
            "color": [
             2023,
             2023,
             2023,
             2023,
             2023,
             2023,
             2023,
             2023
            ],
            "coloraxis": "coloraxis",
            "pattern": {
             "shape": ""
            }
           },
           "name": "",
           "offsetgroup": "",
           "orientation": "v",
           "showlegend": false,
           "textposition": "auto",
           "type": "bar",
           "x": [
            8,
            7,
            6,
            5,
            4,
            3,
            2,
            1
           ],
           "xaxis": "x",
           "y": [
            4552.56,
            4552.56,
            4552.56,
            4616.58,
            4667.09,
            4713.08,
            4669,
            4669
           ],
           "yaxis": "y"
          }
         ],
         "name": "5"
        },
        {
         "data": [
          {
           "alignmentgroup": "True",
           "hovertemplate": "Mes=4<br>Día=%{x}<br>Tasa de cambio representativa del mercado (TRM)=%{y}<br>Año=%{marker.color}<extra></extra>",
           "legendgroup": "",
           "marker": {
            "color": [
             2023,
             2023,
             2023,
             2023,
             2023,
             2023,
             2023,
             2023,
             2023,
             2023,
             2023,
             2023,
             2023,
             2023,
             2023,
             2023,
             2023,
             2023,
             2023,
             2023,
             2023,
             2023,
             2023,
             2023,
             2023,
             2023,
             2023,
             2023,
             2023,
             2023
            ],
            "coloraxis": "coloraxis",
            "pattern": {
             "shape": ""
            }
           },
           "name": "",
           "offsetgroup": "",
           "orientation": "v",
           "showlegend": false,
           "textposition": "auto",
           "type": "bar",
           "x": [
            30,
            29,
            28,
            27,
            26,
            25,
            24,
            23,
            22,
            21,
            20,
            19,
            18,
            17,
            16,
            15,
            14,
            13,
            12,
            11,
            10,
            9,
            8,
            7,
            6,
            5,
            4,
            3,
            2,
            1
           ],
           "xaxis": "x",
           "y": [
            4669,
            4669,
            4654.14,
            4552.59,
            4486.6,
            4482.45,
            4523.64,
            4523.64,
            4523.64,
            4535.78,
            4532.43,
            4473.07,
            4431.45,
            4425.27,
            4425.27,
            4425.27,
            4424.02,
            4458.87,
            4516.76,
            4564.24,
            4570.91,
            4570.91,
            4570.91,
            4570.91,
            4570.91,
            4587.31,
            4603,
            4646.08,
            4646.08,
            4646.08
           ],
           "yaxis": "y"
          }
         ],
         "name": "4"
        },
        {
         "data": [
          {
           "alignmentgroup": "True",
           "hovertemplate": "Mes=3<br>Día=%{x}<br>Tasa de cambio representativa del mercado (TRM)=%{y}<br>Año=%{marker.color}<extra></extra>",
           "legendgroup": "",
           "marker": {
            "color": [
             2023,
             2023,
             2023,
             2023,
             2023,
             2023,
             2023,
             2023,
             2023,
             2023,
             2023,
             2023,
             2023,
             2023,
             2023,
             2023,
             2023,
             2023,
             2023,
             2023,
             2023,
             2023,
             2023,
             2023,
             2023,
             2023,
             2023,
             2023,
             2023,
             2023,
             2023
            ],
            "coloraxis": "coloraxis",
            "pattern": {
             "shape": ""
            }
           },
           "name": "",
           "offsetgroup": "",
           "orientation": "v",
           "showlegend": false,
           "textposition": "auto",
           "type": "bar",
           "x": [
            31,
            30,
            29,
            28,
            27,
            26,
            25,
            24,
            23,
            22,
            21,
            20,
            19,
            18,
            17,
            16,
            15,
            14,
            13,
            12,
            11,
            10,
            9,
            8,
            7,
            6,
            5,
            4,
            3,
            2,
            1
           ],
           "xaxis": "x",
           "y": [
            4627.27,
            4627.63,
            4658.79,
            4686.83,
            4741.76,
            4741.76,
            4741.76,
            4755.12,
            4776.09,
            4804.29,
            4824.25,
            4824.25,
            4824.25,
            4824.25,
            4866.5,
            4835.51,
            4736.03,
            4769.76,
            4748.14,
            4748.14,
            4748.14,
            4748.61,
            4755.59,
            4744.95,
            4734.42,
            4780.89,
            4780.89,
            4780.89,
            4855.83,
            4848.78,
            4814.11
           ],
           "yaxis": "y"
          }
         ],
         "name": "3"
        },
        {
         "data": [
          {
           "alignmentgroup": "True",
           "hovertemplate": "Mes=2<br>Día=%{x}<br>Tasa de cambio representativa del mercado (TRM)=%{y}<br>Año=%{marker.color}<extra></extra>",
           "legendgroup": "",
           "marker": {
            "color": [
             2023,
             2023,
             2023,
             2023,
             2023,
             2023,
             2023,
             2023,
             2023,
             2023,
             2023,
             2023,
             2023,
             2023,
             2023,
             2023,
             2023,
             2023,
             2023,
             2023,
             2023,
             2023,
             2023,
             2023,
             2023,
             2023,
             2023,
             2023
            ],
            "coloraxis": "coloraxis",
            "pattern": {
             "shape": ""
            }
           },
           "name": "",
           "offsetgroup": "",
           "orientation": "v",
           "showlegend": false,
           "textposition": "auto",
           "type": "bar",
           "x": [
            28,
            27,
            26,
            25,
            24,
            23,
            22,
            21,
            20,
            19,
            18,
            17,
            16,
            15,
            14,
            13,
            12,
            11,
            10,
            9,
            8,
            7,
            6,
            5,
            4,
            3,
            2,
            1
           ],
           "xaxis": "x",
           "y": [
            4808.14,
            4849.65,
            4849.65,
            4849.65,
            4853.9,
            4924.91,
            4950.33,
            4918.94,
            4918.94,
            4918.94,
            4918.94,
            4966.33,
            4878.24,
            4783.24,
            4818.62,
            4777.73,
            4777.73,
            4777.73,
            4742.05,
            4769.85,
            4775.99,
            4776.25,
            4669.74,
            4669.74,
            4669.74,
            4584.44,
            4639.04,
            4648.7
           ],
           "yaxis": "y"
          }
         ],
         "name": "2"
        },
        {
         "data": [
          {
           "alignmentgroup": "True",
           "hovertemplate": "Mes=1<br>Día=%{x}<br>Tasa de cambio representativa del mercado (TRM)=%{y}<br>Año=%{marker.color}<extra></extra>",
           "legendgroup": "",
           "marker": {
            "color": [
             2023,
             2023,
             2023,
             2023,
             2023,
             2023,
             2023,
             2023,
             2023,
             2023,
             2023,
             2023,
             2023,
             2023,
             2023,
             2023,
             2023,
             2023,
             2023,
             2023,
             2023,
             2023,
             2023,
             2023,
             2023,
             2023,
             2023,
             2023,
             2023,
             2023,
             2023
            ],
            "coloraxis": "coloraxis",
            "pattern": {
             "shape": ""
            }
           },
           "name": "",
           "offsetgroup": "",
           "orientation": "v",
           "showlegend": false,
           "textposition": "auto",
           "type": "bar",
           "x": [
            31,
            30,
            29,
            28,
            27,
            26,
            25,
            24,
            23,
            22,
            21,
            20,
            19,
            18,
            17,
            16,
            15,
            14,
            13,
            12,
            11,
            10,
            9,
            8,
            7,
            6,
            5,
            4,
            3,
            2,
            1
           ],
           "xaxis": "x",
           "y": [
            4632.2,
            4548.5,
            4548.5,
            4548.5,
            4531.75,
            4538.91,
            4545.94,
            4551.02,
            4631.64,
            4631.64,
            4631.64,
            4683.85,
            4702.67,
            4691.09,
            4693.99,
            4693.99,
            4693.99,
            4693.99,
            4692.04,
            4748.54,
            4807.85,
            4885.66,
            4885.66,
            4885.66,
            4885.66,
            4989.58,
            4924,
            4842.26,
            4810.2,
            4810.2,
            4810.2
           ],
           "yaxis": "y"
          }
         ],
         "name": "1"
        }
       ],
       "layout": {
        "barmode": "relative",
        "coloraxis": {
         "colorbar": {
          "title": {
           "text": "Año"
          }
         },
         "colorscale": [
          [
           0,
           "#0d0887"
          ],
          [
           0.1111111111111111,
           "#46039f"
          ],
          [
           0.2222222222222222,
           "#7201a8"
          ],
          [
           0.3333333333333333,
           "#9c179e"
          ],
          [
           0.4444444444444444,
           "#bd3786"
          ],
          [
           0.5555555555555556,
           "#d8576b"
          ],
          [
           0.6666666666666666,
           "#ed7953"
          ],
          [
           0.7777777777777778,
           "#fb9f3a"
          ],
          [
           0.8888888888888888,
           "#fdca26"
          ],
          [
           1,
           "#f0f921"
          ]
         ]
        },
        "legend": {
         "tracegroupgap": 0
        },
        "margin": {
         "t": 60
        },
        "sliders": [
         {
          "active": 0,
          "currentvalue": {
           "prefix": "Mes="
          },
          "len": 0.9,
          "pad": {
           "b": 10,
           "t": 60
          },
          "steps": [
           {
            "args": [
             [
              "5"
             ],
             {
              "frame": {
               "duration": 0,
               "redraw": true
              },
              "fromcurrent": true,
              "mode": "immediate",
              "transition": {
               "duration": 0,
               "easing": "linear"
              }
             }
            ],
            "label": "5",
            "method": "animate"
           },
           {
            "args": [
             [
              "4"
             ],
             {
              "frame": {
               "duration": 0,
               "redraw": true
              },
              "fromcurrent": true,
              "mode": "immediate",
              "transition": {
               "duration": 0,
               "easing": "linear"
              }
             }
            ],
            "label": "4",
            "method": "animate"
           },
           {
            "args": [
             [
              "3"
             ],
             {
              "frame": {
               "duration": 0,
               "redraw": true
              },
              "fromcurrent": true,
              "mode": "immediate",
              "transition": {
               "duration": 0,
               "easing": "linear"
              }
             }
            ],
            "label": "3",
            "method": "animate"
           },
           {
            "args": [
             [
              "2"
             ],
             {
              "frame": {
               "duration": 0,
               "redraw": true
              },
              "fromcurrent": true,
              "mode": "immediate",
              "transition": {
               "duration": 0,
               "easing": "linear"
              }
             }
            ],
            "label": "2",
            "method": "animate"
           },
           {
            "args": [
             [
              "1"
             ],
             {
              "frame": {
               "duration": 0,
               "redraw": true
              },
              "fromcurrent": true,
              "mode": "immediate",
              "transition": {
               "duration": 0,
               "easing": "linear"
              }
             }
            ],
            "label": "1",
            "method": "animate"
           }
          ],
          "x": 0.1,
          "xanchor": "left",
          "y": 0,
          "yanchor": "top"
         }
        ],
        "template": {
         "data": {
          "bar": [
           {
            "error_x": {
             "color": "#2a3f5f"
            },
            "error_y": {
             "color": "#2a3f5f"
            },
            "marker": {
             "line": {
              "color": "#E5ECF6",
              "width": 0.5
             },
             "pattern": {
              "fillmode": "overlay",
              "size": 10,
              "solidity": 0.2
             }
            },
            "type": "bar"
           }
          ],
          "barpolar": [
           {
            "marker": {
             "line": {
              "color": "#E5ECF6",
              "width": 0.5
             },
             "pattern": {
              "fillmode": "overlay",
              "size": 10,
              "solidity": 0.2
             }
            },
            "type": "barpolar"
           }
          ],
          "carpet": [
           {
            "aaxis": {
             "endlinecolor": "#2a3f5f",
             "gridcolor": "white",
             "linecolor": "white",
             "minorgridcolor": "white",
             "startlinecolor": "#2a3f5f"
            },
            "baxis": {
             "endlinecolor": "#2a3f5f",
             "gridcolor": "white",
             "linecolor": "white",
             "minorgridcolor": "white",
             "startlinecolor": "#2a3f5f"
            },
            "type": "carpet"
           }
          ],
          "choropleth": [
           {
            "colorbar": {
             "outlinewidth": 0,
             "ticks": ""
            },
            "type": "choropleth"
           }
          ],
          "contour": [
           {
            "colorbar": {
             "outlinewidth": 0,
             "ticks": ""
            },
            "colorscale": [
             [
              0,
              "#0d0887"
             ],
             [
              0.1111111111111111,
              "#46039f"
             ],
             [
              0.2222222222222222,
              "#7201a8"
             ],
             [
              0.3333333333333333,
              "#9c179e"
             ],
             [
              0.4444444444444444,
              "#bd3786"
             ],
             [
              0.5555555555555556,
              "#d8576b"
             ],
             [
              0.6666666666666666,
              "#ed7953"
             ],
             [
              0.7777777777777778,
              "#fb9f3a"
             ],
             [
              0.8888888888888888,
              "#fdca26"
             ],
             [
              1,
              "#f0f921"
             ]
            ],
            "type": "contour"
           }
          ],
          "contourcarpet": [
           {
            "colorbar": {
             "outlinewidth": 0,
             "ticks": ""
            },
            "type": "contourcarpet"
           }
          ],
          "heatmap": [
           {
            "colorbar": {
             "outlinewidth": 0,
             "ticks": ""
            },
            "colorscale": [
             [
              0,
              "#0d0887"
             ],
             [
              0.1111111111111111,
              "#46039f"
             ],
             [
              0.2222222222222222,
              "#7201a8"
             ],
             [
              0.3333333333333333,
              "#9c179e"
             ],
             [
              0.4444444444444444,
              "#bd3786"
             ],
             [
              0.5555555555555556,
              "#d8576b"
             ],
             [
              0.6666666666666666,
              "#ed7953"
             ],
             [
              0.7777777777777778,
              "#fb9f3a"
             ],
             [
              0.8888888888888888,
              "#fdca26"
             ],
             [
              1,
              "#f0f921"
             ]
            ],
            "type": "heatmap"
           }
          ],
          "heatmapgl": [
           {
            "colorbar": {
             "outlinewidth": 0,
             "ticks": ""
            },
            "colorscale": [
             [
              0,
              "#0d0887"
             ],
             [
              0.1111111111111111,
              "#46039f"
             ],
             [
              0.2222222222222222,
              "#7201a8"
             ],
             [
              0.3333333333333333,
              "#9c179e"
             ],
             [
              0.4444444444444444,
              "#bd3786"
             ],
             [
              0.5555555555555556,
              "#d8576b"
             ],
             [
              0.6666666666666666,
              "#ed7953"
             ],
             [
              0.7777777777777778,
              "#fb9f3a"
             ],
             [
              0.8888888888888888,
              "#fdca26"
             ],
             [
              1,
              "#f0f921"
             ]
            ],
            "type": "heatmapgl"
           }
          ],
          "histogram": [
           {
            "marker": {
             "pattern": {
              "fillmode": "overlay",
              "size": 10,
              "solidity": 0.2
             }
            },
            "type": "histogram"
           }
          ],
          "histogram2d": [
           {
            "colorbar": {
             "outlinewidth": 0,
             "ticks": ""
            },
            "colorscale": [
             [
              0,
              "#0d0887"
             ],
             [
              0.1111111111111111,
              "#46039f"
             ],
             [
              0.2222222222222222,
              "#7201a8"
             ],
             [
              0.3333333333333333,
              "#9c179e"
             ],
             [
              0.4444444444444444,
              "#bd3786"
             ],
             [
              0.5555555555555556,
              "#d8576b"
             ],
             [
              0.6666666666666666,
              "#ed7953"
             ],
             [
              0.7777777777777778,
              "#fb9f3a"
             ],
             [
              0.8888888888888888,
              "#fdca26"
             ],
             [
              1,
              "#f0f921"
             ]
            ],
            "type": "histogram2d"
           }
          ],
          "histogram2dcontour": [
           {
            "colorbar": {
             "outlinewidth": 0,
             "ticks": ""
            },
            "colorscale": [
             [
              0,
              "#0d0887"
             ],
             [
              0.1111111111111111,
              "#46039f"
             ],
             [
              0.2222222222222222,
              "#7201a8"
             ],
             [
              0.3333333333333333,
              "#9c179e"
             ],
             [
              0.4444444444444444,
              "#bd3786"
             ],
             [
              0.5555555555555556,
              "#d8576b"
             ],
             [
              0.6666666666666666,
              "#ed7953"
             ],
             [
              0.7777777777777778,
              "#fb9f3a"
             ],
             [
              0.8888888888888888,
              "#fdca26"
             ],
             [
              1,
              "#f0f921"
             ]
            ],
            "type": "histogram2dcontour"
           }
          ],
          "mesh3d": [
           {
            "colorbar": {
             "outlinewidth": 0,
             "ticks": ""
            },
            "type": "mesh3d"
           }
          ],
          "parcoords": [
           {
            "line": {
             "colorbar": {
              "outlinewidth": 0,
              "ticks": ""
             }
            },
            "type": "parcoords"
           }
          ],
          "pie": [
           {
            "automargin": true,
            "type": "pie"
           }
          ],
          "scatter": [
           {
            "marker": {
             "colorbar": {
              "outlinewidth": 0,
              "ticks": ""
             }
            },
            "type": "scatter"
           }
          ],
          "scatter3d": [
           {
            "line": {
             "colorbar": {
              "outlinewidth": 0,
              "ticks": ""
             }
            },
            "marker": {
             "colorbar": {
              "outlinewidth": 0,
              "ticks": ""
             }
            },
            "type": "scatter3d"
           }
          ],
          "scattercarpet": [
           {
            "marker": {
             "colorbar": {
              "outlinewidth": 0,
              "ticks": ""
             }
            },
            "type": "scattercarpet"
           }
          ],
          "scattergeo": [
           {
            "marker": {
             "colorbar": {
              "outlinewidth": 0,
              "ticks": ""
             }
            },
            "type": "scattergeo"
           }
          ],
          "scattergl": [
           {
            "marker": {
             "colorbar": {
              "outlinewidth": 0,
              "ticks": ""
             }
            },
            "type": "scattergl"
           }
          ],
          "scattermapbox": [
           {
            "marker": {
             "colorbar": {
              "outlinewidth": 0,
              "ticks": ""
             }
            },
            "type": "scattermapbox"
           }
          ],
          "scatterpolar": [
           {
            "marker": {
             "colorbar": {
              "outlinewidth": 0,
              "ticks": ""
             }
            },
            "type": "scatterpolar"
           }
          ],
          "scatterpolargl": [
           {
            "marker": {
             "colorbar": {
              "outlinewidth": 0,
              "ticks": ""
             }
            },
            "type": "scatterpolargl"
           }
          ],
          "scatterternary": [
           {
            "marker": {
             "colorbar": {
              "outlinewidth": 0,
              "ticks": ""
             }
            },
            "type": "scatterternary"
           }
          ],
          "surface": [
           {
            "colorbar": {
             "outlinewidth": 0,
             "ticks": ""
            },
            "colorscale": [
             [
              0,
              "#0d0887"
             ],
             [
              0.1111111111111111,
              "#46039f"
             ],
             [
              0.2222222222222222,
              "#7201a8"
             ],
             [
              0.3333333333333333,
              "#9c179e"
             ],
             [
              0.4444444444444444,
              "#bd3786"
             ],
             [
              0.5555555555555556,
              "#d8576b"
             ],
             [
              0.6666666666666666,
              "#ed7953"
             ],
             [
              0.7777777777777778,
              "#fb9f3a"
             ],
             [
              0.8888888888888888,
              "#fdca26"
             ],
             [
              1,
              "#f0f921"
             ]
            ],
            "type": "surface"
           }
          ],
          "table": [
           {
            "cells": {
             "fill": {
              "color": "#EBF0F8"
             },
             "line": {
              "color": "white"
             }
            },
            "header": {
             "fill": {
              "color": "#C8D4E3"
             },
             "line": {
              "color": "white"
             }
            },
            "type": "table"
           }
          ]
         },
         "layout": {
          "annotationdefaults": {
           "arrowcolor": "#2a3f5f",
           "arrowhead": 0,
           "arrowwidth": 1
          },
          "autotypenumbers": "strict",
          "coloraxis": {
           "colorbar": {
            "outlinewidth": 0,
            "ticks": ""
           }
          },
          "colorscale": {
           "diverging": [
            [
             0,
             "#8e0152"
            ],
            [
             0.1,
             "#c51b7d"
            ],
            [
             0.2,
             "#de77ae"
            ],
            [
             0.3,
             "#f1b6da"
            ],
            [
             0.4,
             "#fde0ef"
            ],
            [
             0.5,
             "#f7f7f7"
            ],
            [
             0.6,
             "#e6f5d0"
            ],
            [
             0.7,
             "#b8e186"
            ],
            [
             0.8,
             "#7fbc41"
            ],
            [
             0.9,
             "#4d9221"
            ],
            [
             1,
             "#276419"
            ]
           ],
           "sequential": [
            [
             0,
             "#0d0887"
            ],
            [
             0.1111111111111111,
             "#46039f"
            ],
            [
             0.2222222222222222,
             "#7201a8"
            ],
            [
             0.3333333333333333,
             "#9c179e"
            ],
            [
             0.4444444444444444,
             "#bd3786"
            ],
            [
             0.5555555555555556,
             "#d8576b"
            ],
            [
             0.6666666666666666,
             "#ed7953"
            ],
            [
             0.7777777777777778,
             "#fb9f3a"
            ],
            [
             0.8888888888888888,
             "#fdca26"
            ],
            [
             1,
             "#f0f921"
            ]
           ],
           "sequentialminus": [
            [
             0,
             "#0d0887"
            ],
            [
             0.1111111111111111,
             "#46039f"
            ],
            [
             0.2222222222222222,
             "#7201a8"
            ],
            [
             0.3333333333333333,
             "#9c179e"
            ],
            [
             0.4444444444444444,
             "#bd3786"
            ],
            [
             0.5555555555555556,
             "#d8576b"
            ],
            [
             0.6666666666666666,
             "#ed7953"
            ],
            [
             0.7777777777777778,
             "#fb9f3a"
            ],
            [
             0.8888888888888888,
             "#fdca26"
            ],
            [
             1,
             "#f0f921"
            ]
           ]
          },
          "colorway": [
           "#636efa",
           "#EF553B",
           "#00cc96",
           "#ab63fa",
           "#FFA15A",
           "#19d3f3",
           "#FF6692",
           "#B6E880",
           "#FF97FF",
           "#FECB52"
          ],
          "font": {
           "color": "#2a3f5f"
          },
          "geo": {
           "bgcolor": "white",
           "lakecolor": "white",
           "landcolor": "#E5ECF6",
           "showlakes": true,
           "showland": true,
           "subunitcolor": "white"
          },
          "hoverlabel": {
           "align": "left"
          },
          "hovermode": "closest",
          "mapbox": {
           "style": "light"
          },
          "paper_bgcolor": "white",
          "plot_bgcolor": "#E5ECF6",
          "polar": {
           "angularaxis": {
            "gridcolor": "white",
            "linecolor": "white",
            "ticks": ""
           },
           "bgcolor": "#E5ECF6",
           "radialaxis": {
            "gridcolor": "white",
            "linecolor": "white",
            "ticks": ""
           }
          },
          "scene": {
           "xaxis": {
            "backgroundcolor": "#E5ECF6",
            "gridcolor": "white",
            "gridwidth": 2,
            "linecolor": "white",
            "showbackground": true,
            "ticks": "",
            "zerolinecolor": "white"
           },
           "yaxis": {
            "backgroundcolor": "#E5ECF6",
            "gridcolor": "white",
            "gridwidth": 2,
            "linecolor": "white",
            "showbackground": true,
            "ticks": "",
            "zerolinecolor": "white"
           },
           "zaxis": {
            "backgroundcolor": "#E5ECF6",
            "gridcolor": "white",
            "gridwidth": 2,
            "linecolor": "white",
            "showbackground": true,
            "ticks": "",
            "zerolinecolor": "white"
           }
          },
          "shapedefaults": {
           "line": {
            "color": "#2a3f5f"
           }
          },
          "ternary": {
           "aaxis": {
            "gridcolor": "white",
            "linecolor": "white",
            "ticks": ""
           },
           "baxis": {
            "gridcolor": "white",
            "linecolor": "white",
            "ticks": ""
           },
           "bgcolor": "#E5ECF6",
           "caxis": {
            "gridcolor": "white",
            "linecolor": "white",
            "ticks": ""
           }
          },
          "title": {
           "x": 0.05
          },
          "xaxis": {
           "automargin": true,
           "gridcolor": "white",
           "linecolor": "white",
           "ticks": "",
           "title": {
            "standoff": 15
           },
           "zerolinecolor": "white",
           "zerolinewidth": 2
          },
          "yaxis": {
           "automargin": true,
           "gridcolor": "white",
           "linecolor": "white",
           "ticks": "",
           "title": {
            "standoff": 15
           },
           "zerolinecolor": "white",
           "zerolinewidth": 2
          }
         }
        },
        "title": {
         "text": "Tasa de cambio representativa del mercado (TRM) por Día (2023)"
        },
        "updatemenus": [
         {
          "buttons": [
           {
            "args": [
             null,
             {
              "frame": {
               "duration": 500,
               "redraw": true
              },
              "fromcurrent": true,
              "mode": "immediate",
              "transition": {
               "duration": 500,
               "easing": "linear"
              }
             }
            ],
            "label": "&#9654;",
            "method": "animate"
           },
           {
            "args": [
             [
              null
             ],
             {
              "frame": {
               "duration": 0,
               "redraw": true
              },
              "fromcurrent": true,
              "mode": "immediate",
              "transition": {
               "duration": 0,
               "easing": "linear"
              }
             }
            ],
            "label": "&#9724;",
            "method": "animate"
           }
          ],
          "direction": "left",
          "pad": {
           "r": 10,
           "t": 70
          },
          "showactive": false,
          "type": "buttons",
          "x": 0.1,
          "xanchor": "right",
          "y": 0,
          "yanchor": "top"
         }
        ],
        "xaxis": {
         "anchor": "y",
         "domain": [
          0,
          1
         ],
         "title": {
          "text": "Día"
         }
        },
        "yaxis": {
         "anchor": "x",
         "domain": [
          0,
          1
         ],
         "title": {
          "text": "TRM"
         }
        }
       }
      }
     },
     "metadata": {},
     "output_type": "display_data"
    }
   ],
   "source": [
    "import pandas as pd\n",
    "import plotly.express as px\n",
    "\n",
    "# Ruta del archivo Excel\n",
    "archivo_excel = '../data/1.1.16.TCM_Serie historica_ultimos_doce meses.xlsx'\n",
    "\n",
    "# Lee el archivo Excel y omite las primeras siete filas y las cuatro últimas\n",
    "df = pd.read_excel(archivo_excel, skiprows=7, skipfooter=4)\n",
    "\n",
    "# Convierte la columna 'Fecha (dd/mm/aaaa)' al formato de fecha\n",
    "df['Fecha (dd/mm/aaaa)'] = pd.to_datetime(df['Fecha (dd/mm/aaaa)'], format='%d/%m/%Y')\n",
    "\n",
    "# Crea las columnas 'Día', 'Mes' y 'Año'\n",
    "df['Día'] = df['Fecha (dd/mm/aaaa)'].dt.day\n",
    "df['Mes'] = df['Fecha (dd/mm/aaaa)'].dt.month\n",
    "df['Año'] = df['Fecha (dd/mm/aaaa)'].dt.year\n",
    "\n",
    "# Filtra los datos solo para el año 2023\n",
    "df_2023 = df[df['Año'] == 2023]\n",
    "\n",
    "# Crea la animación con barras para el año 2023\n",
    "fig = px.bar(df_2023, x='Día', y='Tasa de cambio representativa del mercado (TRM)', animation_frame='Mes', color='Año')\n",
    "\n",
    "# Configura los títulos y etiquetas de los ejes\n",
    "fig.update_layout(title='Tasa de cambio representativa del mercado (TRM) por Día (2023)', xaxis_title='Día', yaxis_title='TRM')\n",
    "\n",
    "# Muestra la animación\n",
    "fig.show()"
   ]
  },
  {
   "attachments": {},
   "cell_type": "markdown",
   "metadata": {},
   "source": [
    "### 2.8. Animación mostrando barras en vez de puntos y ordenando los meses de menor a mayor\n",
    "\n",
    "**Prompt ChatGPT**: Vuelve a graficar ordenando Mes de menor a mayor. Además, por favor, aumenta al doble el tiempo de la animación."
   ]
  },
  {
   "cell_type": "code",
   "execution_count": 8,
   "metadata": {},
   "outputs": [
    {
     "data": {
      "application/vnd.plotly.v1+json": {
       "config": {
        "plotlyServerURL": "https://plot.ly"
       },
       "data": [
        {
         "alignmentgroup": "True",
         "hovertemplate": "Mes=1<br>Día=%{x}<br>Tasa de cambio representativa del mercado (TRM)=%{y}<br>Año=%{marker.color}<extra></extra>",
         "legendgroup": "",
         "marker": {
          "color": [
           2023,
           2023,
           2023,
           2023,
           2023,
           2023,
           2023,
           2023,
           2023,
           2023,
           2023,
           2023,
           2023,
           2023,
           2023,
           2023,
           2023,
           2023,
           2023,
           2023,
           2023,
           2023,
           2023,
           2023,
           2023,
           2023,
           2023,
           2023,
           2023,
           2023,
           2023
          ],
          "coloraxis": "coloraxis",
          "pattern": {
           "shape": ""
          }
         },
         "name": "",
         "offsetgroup": "",
         "orientation": "v",
         "showlegend": false,
         "textposition": "auto",
         "type": "bar",
         "x": [
          1,
          31,
          30,
          29,
          28,
          27,
          26,
          25,
          24,
          23,
          22,
          21,
          20,
          19,
          18,
          2,
          16,
          17,
          4,
          5,
          6,
          7,
          8,
          3,
          10,
          11,
          12,
          13,
          14,
          15,
          9
         ],
         "xaxis": "x",
         "y": [
          4810.2,
          4632.2,
          4548.5,
          4548.5,
          4548.5,
          4531.75,
          4538.91,
          4545.94,
          4551.02,
          4631.64,
          4631.64,
          4631.64,
          4683.85,
          4702.67,
          4691.09,
          4810.2,
          4693.99,
          4693.99,
          4842.26,
          4924,
          4989.58,
          4885.66,
          4885.66,
          4810.2,
          4885.66,
          4807.85,
          4748.54,
          4692.04,
          4693.99,
          4693.99,
          4885.66
         ],
         "yaxis": "y"
        }
       ],
       "frames": [
        {
         "data": [
          {
           "alignmentgroup": "True",
           "hovertemplate": "Mes=1<br>Día=%{x}<br>Tasa de cambio representativa del mercado (TRM)=%{y}<br>Año=%{marker.color}<extra></extra>",
           "legendgroup": "",
           "marker": {
            "color": [
             2023,
             2023,
             2023,
             2023,
             2023,
             2023,
             2023,
             2023,
             2023,
             2023,
             2023,
             2023,
             2023,
             2023,
             2023,
             2023,
             2023,
             2023,
             2023,
             2023,
             2023,
             2023,
             2023,
             2023,
             2023,
             2023,
             2023,
             2023,
             2023,
             2023,
             2023
            ],
            "coloraxis": "coloraxis",
            "pattern": {
             "shape": ""
            }
           },
           "name": "",
           "offsetgroup": "",
           "orientation": "v",
           "showlegend": false,
           "textposition": "auto",
           "type": "bar",
           "x": [
            1,
            31,
            30,
            29,
            28,
            27,
            26,
            25,
            24,
            23,
            22,
            21,
            20,
            19,
            18,
            2,
            16,
            17,
            4,
            5,
            6,
            7,
            8,
            3,
            10,
            11,
            12,
            13,
            14,
            15,
            9
           ],
           "xaxis": "x",
           "y": [
            4810.2,
            4632.2,
            4548.5,
            4548.5,
            4548.5,
            4531.75,
            4538.91,
            4545.94,
            4551.02,
            4631.64,
            4631.64,
            4631.64,
            4683.85,
            4702.67,
            4691.09,
            4810.2,
            4693.99,
            4693.99,
            4842.26,
            4924,
            4989.58,
            4885.66,
            4885.66,
            4810.2,
            4885.66,
            4807.85,
            4748.54,
            4692.04,
            4693.99,
            4693.99,
            4885.66
           ],
           "yaxis": "y"
          }
         ],
         "name": "1"
        },
        {
         "data": [
          {
           "alignmentgroup": "True",
           "hovertemplate": "Mes=2<br>Día=%{x}<br>Tasa de cambio representativa del mercado (TRM)=%{y}<br>Año=%{marker.color}<extra></extra>",
           "legendgroup": "",
           "marker": {
            "color": [
             2023,
             2023,
             2023,
             2023,
             2023,
             2023,
             2023,
             2023,
             2023,
             2023,
             2023,
             2023,
             2023,
             2023,
             2023,
             2023,
             2023,
             2023,
             2023,
             2023,
             2023,
             2023,
             2023,
             2023,
             2023,
             2023,
             2023,
             2023
            ],
            "coloraxis": "coloraxis",
            "pattern": {
             "shape": ""
            }
           },
           "name": "",
           "offsetgroup": "",
           "orientation": "v",
           "showlegend": false,
           "textposition": "auto",
           "type": "bar",
           "x": [
            18,
            19,
            20,
            21,
            22,
            25,
            24,
            26,
            27,
            28,
            17,
            23,
            16,
            10,
            14,
            1,
            3,
            15,
            5,
            6,
            4,
            8,
            9,
            11,
            12,
            13,
            7,
            2
           ],
           "xaxis": "x",
           "y": [
            4918.94,
            4918.94,
            4918.94,
            4918.94,
            4950.33,
            4849.65,
            4853.9,
            4849.65,
            4849.65,
            4808.14,
            4966.33,
            4924.91,
            4878.24,
            4742.05,
            4818.62,
            4648.7,
            4584.44,
            4783.24,
            4669.74,
            4669.74,
            4669.74,
            4775.99,
            4769.85,
            4777.73,
            4777.73,
            4777.73,
            4776.25,
            4639.04
           ],
           "yaxis": "y"
          }
         ],
         "name": "2"
        },
        {
         "data": [
          {
           "alignmentgroup": "True",
           "hovertemplate": "Mes=3<br>Día=%{x}<br>Tasa de cambio representativa del mercado (TRM)=%{y}<br>Año=%{marker.color}<extra></extra>",
           "legendgroup": "",
           "marker": {
            "color": [
             2023,
             2023,
             2023,
             2023,
             2023,
             2023,
             2023,
             2023,
             2023,
             2023,
             2023,
             2023,
             2023,
             2023,
             2023,
             2023,
             2023,
             2023,
             2023,
             2023,
             2023,
             2023,
             2023,
             2023,
             2023,
             2023,
             2023,
             2023,
             2023,
             2023,
             2023
            ],
            "coloraxis": "coloraxis",
            "pattern": {
             "shape": ""
            }
           },
           "name": "",
           "offsetgroup": "",
           "orientation": "v",
           "showlegend": false,
           "textposition": "auto",
           "type": "bar",
           "x": [
            5,
            1,
            2,
            3,
            4,
            6,
            8,
            7,
            31,
            30,
            29,
            28,
            26,
            25,
            24,
            23,
            22,
            21,
            27,
            19,
            20,
            10,
            11,
            13,
            12,
            15,
            16,
            17,
            18,
            14,
            9
           ],
           "xaxis": "x",
           "y": [
            4780.89,
            4814.11,
            4848.78,
            4855.83,
            4780.89,
            4780.89,
            4744.95,
            4734.42,
            4627.27,
            4627.63,
            4658.79,
            4686.83,
            4741.76,
            4741.76,
            4755.12,
            4776.09,
            4804.29,
            4824.25,
            4741.76,
            4824.25,
            4824.25,
            4748.61,
            4748.14,
            4748.14,
            4748.14,
            4736.03,
            4835.51,
            4866.5,
            4824.25,
            4769.76,
            4755.59
           ],
           "yaxis": "y"
          }
         ],
         "name": "3"
        },
        {
         "data": [
          {
           "alignmentgroup": "True",
           "hovertemplate": "Mes=4<br>Día=%{x}<br>Tasa de cambio representativa del mercado (TRM)=%{y}<br>Año=%{marker.color}<extra></extra>",
           "legendgroup": "",
           "marker": {
            "color": [
             2023,
             2023,
             2023,
             2023,
             2023,
             2023,
             2023,
             2023,
             2023,
             2023,
             2023,
             2023,
             2023,
             2023,
             2023,
             2023,
             2023,
             2023,
             2023,
             2023,
             2023,
             2023,
             2023,
             2023,
             2023,
             2023,
             2023,
             2023,
             2023,
             2023
            ],
            "coloraxis": "coloraxis",
            "pattern": {
             "shape": ""
            }
           },
           "name": "",
           "offsetgroup": "",
           "orientation": "v",
           "showlegend": false,
           "textposition": "auto",
           "type": "bar",
           "x": [
            19,
            23,
            20,
            21,
            22,
            29,
            25,
            26,
            27,
            28,
            30,
            18,
            24,
            17,
            8,
            15,
            1,
            2,
            16,
            4,
            5,
            6,
            3,
            9,
            10,
            11,
            12,
            13,
            14,
            7
           ],
           "xaxis": "x",
           "y": [
            4473.07,
            4523.64,
            4532.43,
            4535.78,
            4523.64,
            4669,
            4482.45,
            4486.6,
            4552.59,
            4654.14,
            4669,
            4431.45,
            4523.64,
            4425.27,
            4570.91,
            4425.27,
            4646.08,
            4646.08,
            4425.27,
            4603,
            4587.31,
            4570.91,
            4646.08,
            4570.91,
            4570.91,
            4564.24,
            4516.76,
            4458.87,
            4424.02,
            4570.91
           ],
           "yaxis": "y"
          }
         ],
         "name": "4"
        },
        {
         "data": [
          {
           "alignmentgroup": "True",
           "hovertemplate": "Mes=5<br>Día=%{x}<br>Tasa de cambio representativa del mercado (TRM)=%{y}<br>Año=%{marker.color}<extra></extra>",
           "legendgroup": "",
           "marker": {
            "color": [
             2023,
             2023,
             2023,
             2023,
             2023,
             2023,
             2023,
             2023
            ],
            "coloraxis": "coloraxis",
            "pattern": {
             "shape": ""
            }
           },
           "name": "",
           "offsetgroup": "",
           "orientation": "v",
           "showlegend": false,
           "textposition": "auto",
           "type": "bar",
           "x": [
            1,
            2,
            3,
            4,
            5,
            6,
            7,
            8
           ],
           "xaxis": "x",
           "y": [
            4669,
            4669,
            4713.08,
            4667.09,
            4616.58,
            4552.56,
            4552.56,
            4552.56
           ],
           "yaxis": "y"
          }
         ],
         "name": "5"
        }
       ],
       "layout": {
        "barmode": "relative",
        "coloraxis": {
         "colorbar": {
          "title": {
           "text": "Año"
          }
         },
         "colorscale": [
          [
           0,
           "#0d0887"
          ],
          [
           0.1111111111111111,
           "#46039f"
          ],
          [
           0.2222222222222222,
           "#7201a8"
          ],
          [
           0.3333333333333333,
           "#9c179e"
          ],
          [
           0.4444444444444444,
           "#bd3786"
          ],
          [
           0.5555555555555556,
           "#d8576b"
          ],
          [
           0.6666666666666666,
           "#ed7953"
          ],
          [
           0.7777777777777778,
           "#fb9f3a"
          ],
          [
           0.8888888888888888,
           "#fdca26"
          ],
          [
           1,
           "#f0f921"
          ]
         ]
        },
        "legend": {
         "tracegroupgap": 0
        },
        "margin": {
         "t": 60
        },
        "sliders": [
         {
          "active": 0,
          "currentvalue": {
           "prefix": "Mes="
          },
          "len": 0.9,
          "pad": {
           "b": 10,
           "t": 60
          },
          "steps": [
           {
            "args": [
             [
              "1"
             ],
             {
              "frame": {
               "duration": 0,
               "redraw": true
              },
              "fromcurrent": true,
              "mode": "immediate",
              "transition": {
               "duration": 0,
               "easing": "linear"
              }
             }
            ],
            "label": "1",
            "method": "animate"
           },
           {
            "args": [
             [
              "2"
             ],
             {
              "frame": {
               "duration": 0,
               "redraw": true
              },
              "fromcurrent": true,
              "mode": "immediate",
              "transition": {
               "duration": 0,
               "easing": "linear"
              }
             }
            ],
            "label": "2",
            "method": "animate"
           },
           {
            "args": [
             [
              "3"
             ],
             {
              "frame": {
               "duration": 0,
               "redraw": true
              },
              "fromcurrent": true,
              "mode": "immediate",
              "transition": {
               "duration": 0,
               "easing": "linear"
              }
             }
            ],
            "label": "3",
            "method": "animate"
           },
           {
            "args": [
             [
              "4"
             ],
             {
              "frame": {
               "duration": 0,
               "redraw": true
              },
              "fromcurrent": true,
              "mode": "immediate",
              "transition": {
               "duration": 0,
               "easing": "linear"
              }
             }
            ],
            "label": "4",
            "method": "animate"
           },
           {
            "args": [
             [
              "5"
             ],
             {
              "frame": {
               "duration": 0,
               "redraw": true
              },
              "fromcurrent": true,
              "mode": "immediate",
              "transition": {
               "duration": 0,
               "easing": "linear"
              }
             }
            ],
            "label": "5",
            "method": "animate"
           }
          ],
          "x": 0.1,
          "xanchor": "left",
          "y": 0,
          "yanchor": "top"
         }
        ],
        "template": {
         "data": {
          "bar": [
           {
            "error_x": {
             "color": "#2a3f5f"
            },
            "error_y": {
             "color": "#2a3f5f"
            },
            "marker": {
             "line": {
              "color": "#E5ECF6",
              "width": 0.5
             },
             "pattern": {
              "fillmode": "overlay",
              "size": 10,
              "solidity": 0.2
             }
            },
            "type": "bar"
           }
          ],
          "barpolar": [
           {
            "marker": {
             "line": {
              "color": "#E5ECF6",
              "width": 0.5
             },
             "pattern": {
              "fillmode": "overlay",
              "size": 10,
              "solidity": 0.2
             }
            },
            "type": "barpolar"
           }
          ],
          "carpet": [
           {
            "aaxis": {
             "endlinecolor": "#2a3f5f",
             "gridcolor": "white",
             "linecolor": "white",
             "minorgridcolor": "white",
             "startlinecolor": "#2a3f5f"
            },
            "baxis": {
             "endlinecolor": "#2a3f5f",
             "gridcolor": "white",
             "linecolor": "white",
             "minorgridcolor": "white",
             "startlinecolor": "#2a3f5f"
            },
            "type": "carpet"
           }
          ],
          "choropleth": [
           {
            "colorbar": {
             "outlinewidth": 0,
             "ticks": ""
            },
            "type": "choropleth"
           }
          ],
          "contour": [
           {
            "colorbar": {
             "outlinewidth": 0,
             "ticks": ""
            },
            "colorscale": [
             [
              0,
              "#0d0887"
             ],
             [
              0.1111111111111111,
              "#46039f"
             ],
             [
              0.2222222222222222,
              "#7201a8"
             ],
             [
              0.3333333333333333,
              "#9c179e"
             ],
             [
              0.4444444444444444,
              "#bd3786"
             ],
             [
              0.5555555555555556,
              "#d8576b"
             ],
             [
              0.6666666666666666,
              "#ed7953"
             ],
             [
              0.7777777777777778,
              "#fb9f3a"
             ],
             [
              0.8888888888888888,
              "#fdca26"
             ],
             [
              1,
              "#f0f921"
             ]
            ],
            "type": "contour"
           }
          ],
          "contourcarpet": [
           {
            "colorbar": {
             "outlinewidth": 0,
             "ticks": ""
            },
            "type": "contourcarpet"
           }
          ],
          "heatmap": [
           {
            "colorbar": {
             "outlinewidth": 0,
             "ticks": ""
            },
            "colorscale": [
             [
              0,
              "#0d0887"
             ],
             [
              0.1111111111111111,
              "#46039f"
             ],
             [
              0.2222222222222222,
              "#7201a8"
             ],
             [
              0.3333333333333333,
              "#9c179e"
             ],
             [
              0.4444444444444444,
              "#bd3786"
             ],
             [
              0.5555555555555556,
              "#d8576b"
             ],
             [
              0.6666666666666666,
              "#ed7953"
             ],
             [
              0.7777777777777778,
              "#fb9f3a"
             ],
             [
              0.8888888888888888,
              "#fdca26"
             ],
             [
              1,
              "#f0f921"
             ]
            ],
            "type": "heatmap"
           }
          ],
          "heatmapgl": [
           {
            "colorbar": {
             "outlinewidth": 0,
             "ticks": ""
            },
            "colorscale": [
             [
              0,
              "#0d0887"
             ],
             [
              0.1111111111111111,
              "#46039f"
             ],
             [
              0.2222222222222222,
              "#7201a8"
             ],
             [
              0.3333333333333333,
              "#9c179e"
             ],
             [
              0.4444444444444444,
              "#bd3786"
             ],
             [
              0.5555555555555556,
              "#d8576b"
             ],
             [
              0.6666666666666666,
              "#ed7953"
             ],
             [
              0.7777777777777778,
              "#fb9f3a"
             ],
             [
              0.8888888888888888,
              "#fdca26"
             ],
             [
              1,
              "#f0f921"
             ]
            ],
            "type": "heatmapgl"
           }
          ],
          "histogram": [
           {
            "marker": {
             "pattern": {
              "fillmode": "overlay",
              "size": 10,
              "solidity": 0.2
             }
            },
            "type": "histogram"
           }
          ],
          "histogram2d": [
           {
            "colorbar": {
             "outlinewidth": 0,
             "ticks": ""
            },
            "colorscale": [
             [
              0,
              "#0d0887"
             ],
             [
              0.1111111111111111,
              "#46039f"
             ],
             [
              0.2222222222222222,
              "#7201a8"
             ],
             [
              0.3333333333333333,
              "#9c179e"
             ],
             [
              0.4444444444444444,
              "#bd3786"
             ],
             [
              0.5555555555555556,
              "#d8576b"
             ],
             [
              0.6666666666666666,
              "#ed7953"
             ],
             [
              0.7777777777777778,
              "#fb9f3a"
             ],
             [
              0.8888888888888888,
              "#fdca26"
             ],
             [
              1,
              "#f0f921"
             ]
            ],
            "type": "histogram2d"
           }
          ],
          "histogram2dcontour": [
           {
            "colorbar": {
             "outlinewidth": 0,
             "ticks": ""
            },
            "colorscale": [
             [
              0,
              "#0d0887"
             ],
             [
              0.1111111111111111,
              "#46039f"
             ],
             [
              0.2222222222222222,
              "#7201a8"
             ],
             [
              0.3333333333333333,
              "#9c179e"
             ],
             [
              0.4444444444444444,
              "#bd3786"
             ],
             [
              0.5555555555555556,
              "#d8576b"
             ],
             [
              0.6666666666666666,
              "#ed7953"
             ],
             [
              0.7777777777777778,
              "#fb9f3a"
             ],
             [
              0.8888888888888888,
              "#fdca26"
             ],
             [
              1,
              "#f0f921"
             ]
            ],
            "type": "histogram2dcontour"
           }
          ],
          "mesh3d": [
           {
            "colorbar": {
             "outlinewidth": 0,
             "ticks": ""
            },
            "type": "mesh3d"
           }
          ],
          "parcoords": [
           {
            "line": {
             "colorbar": {
              "outlinewidth": 0,
              "ticks": ""
             }
            },
            "type": "parcoords"
           }
          ],
          "pie": [
           {
            "automargin": true,
            "type": "pie"
           }
          ],
          "scatter": [
           {
            "marker": {
             "colorbar": {
              "outlinewidth": 0,
              "ticks": ""
             }
            },
            "type": "scatter"
           }
          ],
          "scatter3d": [
           {
            "line": {
             "colorbar": {
              "outlinewidth": 0,
              "ticks": ""
             }
            },
            "marker": {
             "colorbar": {
              "outlinewidth": 0,
              "ticks": ""
             }
            },
            "type": "scatter3d"
           }
          ],
          "scattercarpet": [
           {
            "marker": {
             "colorbar": {
              "outlinewidth": 0,
              "ticks": ""
             }
            },
            "type": "scattercarpet"
           }
          ],
          "scattergeo": [
           {
            "marker": {
             "colorbar": {
              "outlinewidth": 0,
              "ticks": ""
             }
            },
            "type": "scattergeo"
           }
          ],
          "scattergl": [
           {
            "marker": {
             "colorbar": {
              "outlinewidth": 0,
              "ticks": ""
             }
            },
            "type": "scattergl"
           }
          ],
          "scattermapbox": [
           {
            "marker": {
             "colorbar": {
              "outlinewidth": 0,
              "ticks": ""
             }
            },
            "type": "scattermapbox"
           }
          ],
          "scatterpolar": [
           {
            "marker": {
             "colorbar": {
              "outlinewidth": 0,
              "ticks": ""
             }
            },
            "type": "scatterpolar"
           }
          ],
          "scatterpolargl": [
           {
            "marker": {
             "colorbar": {
              "outlinewidth": 0,
              "ticks": ""
             }
            },
            "type": "scatterpolargl"
           }
          ],
          "scatterternary": [
           {
            "marker": {
             "colorbar": {
              "outlinewidth": 0,
              "ticks": ""
             }
            },
            "type": "scatterternary"
           }
          ],
          "surface": [
           {
            "colorbar": {
             "outlinewidth": 0,
             "ticks": ""
            },
            "colorscale": [
             [
              0,
              "#0d0887"
             ],
             [
              0.1111111111111111,
              "#46039f"
             ],
             [
              0.2222222222222222,
              "#7201a8"
             ],
             [
              0.3333333333333333,
              "#9c179e"
             ],
             [
              0.4444444444444444,
              "#bd3786"
             ],
             [
              0.5555555555555556,
              "#d8576b"
             ],
             [
              0.6666666666666666,
              "#ed7953"
             ],
             [
              0.7777777777777778,
              "#fb9f3a"
             ],
             [
              0.8888888888888888,
              "#fdca26"
             ],
             [
              1,
              "#f0f921"
             ]
            ],
            "type": "surface"
           }
          ],
          "table": [
           {
            "cells": {
             "fill": {
              "color": "#EBF0F8"
             },
             "line": {
              "color": "white"
             }
            },
            "header": {
             "fill": {
              "color": "#C8D4E3"
             },
             "line": {
              "color": "white"
             }
            },
            "type": "table"
           }
          ]
         },
         "layout": {
          "annotationdefaults": {
           "arrowcolor": "#2a3f5f",
           "arrowhead": 0,
           "arrowwidth": 1
          },
          "autotypenumbers": "strict",
          "coloraxis": {
           "colorbar": {
            "outlinewidth": 0,
            "ticks": ""
           }
          },
          "colorscale": {
           "diverging": [
            [
             0,
             "#8e0152"
            ],
            [
             0.1,
             "#c51b7d"
            ],
            [
             0.2,
             "#de77ae"
            ],
            [
             0.3,
             "#f1b6da"
            ],
            [
             0.4,
             "#fde0ef"
            ],
            [
             0.5,
             "#f7f7f7"
            ],
            [
             0.6,
             "#e6f5d0"
            ],
            [
             0.7,
             "#b8e186"
            ],
            [
             0.8,
             "#7fbc41"
            ],
            [
             0.9,
             "#4d9221"
            ],
            [
             1,
             "#276419"
            ]
           ],
           "sequential": [
            [
             0,
             "#0d0887"
            ],
            [
             0.1111111111111111,
             "#46039f"
            ],
            [
             0.2222222222222222,
             "#7201a8"
            ],
            [
             0.3333333333333333,
             "#9c179e"
            ],
            [
             0.4444444444444444,
             "#bd3786"
            ],
            [
             0.5555555555555556,
             "#d8576b"
            ],
            [
             0.6666666666666666,
             "#ed7953"
            ],
            [
             0.7777777777777778,
             "#fb9f3a"
            ],
            [
             0.8888888888888888,
             "#fdca26"
            ],
            [
             1,
             "#f0f921"
            ]
           ],
           "sequentialminus": [
            [
             0,
             "#0d0887"
            ],
            [
             0.1111111111111111,
             "#46039f"
            ],
            [
             0.2222222222222222,
             "#7201a8"
            ],
            [
             0.3333333333333333,
             "#9c179e"
            ],
            [
             0.4444444444444444,
             "#bd3786"
            ],
            [
             0.5555555555555556,
             "#d8576b"
            ],
            [
             0.6666666666666666,
             "#ed7953"
            ],
            [
             0.7777777777777778,
             "#fb9f3a"
            ],
            [
             0.8888888888888888,
             "#fdca26"
            ],
            [
             1,
             "#f0f921"
            ]
           ]
          },
          "colorway": [
           "#636efa",
           "#EF553B",
           "#00cc96",
           "#ab63fa",
           "#FFA15A",
           "#19d3f3",
           "#FF6692",
           "#B6E880",
           "#FF97FF",
           "#FECB52"
          ],
          "font": {
           "color": "#2a3f5f"
          },
          "geo": {
           "bgcolor": "white",
           "lakecolor": "white",
           "landcolor": "#E5ECF6",
           "showlakes": true,
           "showland": true,
           "subunitcolor": "white"
          },
          "hoverlabel": {
           "align": "left"
          },
          "hovermode": "closest",
          "mapbox": {
           "style": "light"
          },
          "paper_bgcolor": "white",
          "plot_bgcolor": "#E5ECF6",
          "polar": {
           "angularaxis": {
            "gridcolor": "white",
            "linecolor": "white",
            "ticks": ""
           },
           "bgcolor": "#E5ECF6",
           "radialaxis": {
            "gridcolor": "white",
            "linecolor": "white",
            "ticks": ""
           }
          },
          "scene": {
           "xaxis": {
            "backgroundcolor": "#E5ECF6",
            "gridcolor": "white",
            "gridwidth": 2,
            "linecolor": "white",
            "showbackground": true,
            "ticks": "",
            "zerolinecolor": "white"
           },
           "yaxis": {
            "backgroundcolor": "#E5ECF6",
            "gridcolor": "white",
            "gridwidth": 2,
            "linecolor": "white",
            "showbackground": true,
            "ticks": "",
            "zerolinecolor": "white"
           },
           "zaxis": {
            "backgroundcolor": "#E5ECF6",
            "gridcolor": "white",
            "gridwidth": 2,
            "linecolor": "white",
            "showbackground": true,
            "ticks": "",
            "zerolinecolor": "white"
           }
          },
          "shapedefaults": {
           "line": {
            "color": "#2a3f5f"
           }
          },
          "ternary": {
           "aaxis": {
            "gridcolor": "white",
            "linecolor": "white",
            "ticks": ""
           },
           "baxis": {
            "gridcolor": "white",
            "linecolor": "white",
            "ticks": ""
           },
           "bgcolor": "#E5ECF6",
           "caxis": {
            "gridcolor": "white",
            "linecolor": "white",
            "ticks": ""
           }
          },
          "title": {
           "x": 0.05
          },
          "xaxis": {
           "automargin": true,
           "gridcolor": "white",
           "linecolor": "white",
           "ticks": "",
           "title": {
            "standoff": 15
           },
           "zerolinecolor": "white",
           "zerolinewidth": 2
          },
          "yaxis": {
           "automargin": true,
           "gridcolor": "white",
           "linecolor": "white",
           "ticks": "",
           "title": {
            "standoff": 15
           },
           "zerolinecolor": "white",
           "zerolinewidth": 2
          }
         }
        },
        "title": {
         "text": "Tasa de cambio representativa del mercado (TRM) por Día (2023)"
        },
        "updatemenus": [
         {
          "buttons": [
           {
            "args": [
             null,
             {
              "frame": {
               "duration": 2000,
               "redraw": true
              },
              "fromcurrent": true,
              "mode": "immediate",
              "transition": {
               "duration": 500,
               "easing": "linear"
              }
             }
            ],
            "label": "&#9654;",
            "method": "animate"
           },
           {
            "args": [
             [
              null
             ],
             {
              "frame": {
               "duration": 0,
               "redraw": true
              },
              "fromcurrent": true,
              "mode": "immediate",
              "transition": {
               "duration": 0,
               "easing": "linear"
              }
             }
            ],
            "label": "&#9724;",
            "method": "animate"
           }
          ],
          "direction": "left",
          "pad": {
           "r": 10,
           "t": 70
          },
          "showactive": false,
          "type": "buttons",
          "x": 0.1,
          "xanchor": "right",
          "y": 0,
          "yanchor": "top"
         }
        ],
        "xaxis": {
         "anchor": "y",
         "domain": [
          0,
          1
         ],
         "title": {
          "text": "Día"
         }
        },
        "yaxis": {
         "anchor": "x",
         "domain": [
          0,
          1
         ],
         "title": {
          "text": "TRM"
         }
        }
       }
      }
     },
     "metadata": {},
     "output_type": "display_data"
    }
   ],
   "source": [
    "import pandas as pd\n",
    "import plotly.express as px\n",
    "\n",
    "# Ruta del archivo Excel\n",
    "archivo_excel = '../data/1.1.16.TCM_Serie historica_ultimos_doce meses.xlsx'\n",
    "\n",
    "# Lee el archivo Excel y omite las primeras siete filas y las cuatro últimas\n",
    "df = pd.read_excel(archivo_excel, skiprows=7, skipfooter=4)\n",
    "\n",
    "# Convierte la columna 'Fecha (dd/mm/aaaa)' al formato de fecha\n",
    "df['Fecha (dd/mm/aaaa)'] = pd.to_datetime(df['Fecha (dd/mm/aaaa)'], format='%d/%m/%Y')\n",
    "\n",
    "# Crea las columnas 'Día', 'Mes' y 'Año'\n",
    "df['Día'] = df['Fecha (dd/mm/aaaa)'].dt.day\n",
    "df['Mes'] = df['Fecha (dd/mm/aaaa)'].dt.month\n",
    "df['Año'] = df['Fecha (dd/mm/aaaa)'].dt.year\n",
    "\n",
    "# Filtra los datos solo para el año 2023\n",
    "df_2023 = df[df['Año'] == 2023]\n",
    "\n",
    "# Ordena los meses de menor a mayor\n",
    "df_2023 = df_2023.sort_values('Mes')\n",
    "\n",
    "# Crea la animación con barras para el año 2023\n",
    "fig = px.bar(df_2023, x='Día', y='Tasa de cambio representativa del mercado (TRM)', animation_frame='Mes', color='Año')\n",
    "\n",
    "# Configura los títulos y etiquetas de los ejes\n",
    "fig.update_layout(title='Tasa de cambio representativa del mercado (TRM) por Día (2023)', xaxis_title='Día', yaxis_title='TRM')\n",
    "\n",
    "# Aumenta el tiempo de la animación al doble\n",
    "fig.layout.updatemenus[0].buttons[0].args[1]['frame']['duration'] = 2000\n",
    "\n",
    "# Muestra la animación\n",
    "fig.show()"
   ]
  },
  {
   "attachments": {},
   "cell_type": "markdown",
   "metadata": {},
   "source": [
    "End!"
   ]
  }
 ],
 "metadata": {
  "kernelspec": {
   "display_name": "base",
   "language": "python",
   "name": "python3"
  },
  "language_info": {
   "codemirror_mode": {
    "name": "ipython",
    "version": 3
   },
   "file_extension": ".py",
   "mimetype": "text/x-python",
   "name": "python",
   "nbconvert_exporter": "python",
   "pygments_lexer": "ipython3",
   "version": "3.9.12"
  },
  "orig_nbformat": 4
 },
 "nbformat": 4,
 "nbformat_minor": 2
}
